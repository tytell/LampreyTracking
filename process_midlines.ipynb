{
 "cells": [
  {
   "cell_type": "code",
   "execution_count": 1,
   "metadata": {},
   "outputs": [],
   "source": [
    "import pandas as pd\n",
    "import numpy as np\n",
    "from datetime import datetime\n",
    "import re\n",
    "import os\n",
    "import plotly.express as px\n",
    "import plotly.graph_objects as go"
   ]
  },
  {
   "cell_type": "code",
   "execution_count": 2,
   "metadata": {},
   "outputs": [],
   "source": [
    "pd.options.plotting.backend = \"plotly\""
   ]
  },
  {
   "cell_type": "code",
   "execution_count": 3,
   "metadata": {},
   "outputs": [],
   "source": [
    "datadir = '/Users/etytel01/Box/Katz lamprey kinematics/2021/Processed Data'\n",
    "scalefile = '/Users/etytel01/Box/Katz lamprey kinematics/2021/Processed Data/scales.csv'"
   ]
  },
  {
   "cell_type": "code",
   "execution_count": 16,
   "metadata": {},
   "outputs": [],
   "source": [
    "testfile = '/Users/etytel01/Box/Katz lamprey kinematics/2021/Processed Data/Exp_062921/Exp_062921/Animal2/2dpi/063021_A2V13_01DLC_resnet50_LesionsOct13shuffle1_1030000.h5'"
   ]
  },
  {
   "cell_type": "code",
   "execution_count": 17,
   "metadata": {},
   "outputs": [],
   "source": [
    "def process_filepath(filepath):\n",
    "    m = re.search(r'Animal(\\d+)/(\\d(h|d)pi|Control)/(\\d{6})', filepath)\n",
    "    if m is None:\n",
    "        raise(Exception(\"Bad file name: {}\".format(filepath)))\n",
    "    animal, treatment, _, date = m.groups()\n",
    "    date = datetime.strptime(date, '%m%d%y')\n",
    "    return(date, animal, treatment)    "
   ]
  },
  {
   "cell_type": "code",
   "execution_count": 18,
   "metadata": {},
   "outputs": [
    {
     "data": {
      "text/plain": [
       "(datetime.datetime(2021, 6, 30, 0, 0), '2', '2dpi')"
      ]
     },
     "execution_count": 18,
     "metadata": {},
     "output_type": "execute_result"
    }
   ],
   "source": [
    "process_filepath(testfile)"
   ]
  },
  {
   "cell_type": "code",
   "execution_count": 19,
   "metadata": {},
   "outputs": [],
   "source": [
    "scales = pd.read_csv(scalefile, parse_dates=['Date'], dtype = {'Treatment': pd.StringDtype()})"
   ]
  },
  {
   "cell_type": "code",
   "execution_count": 20,
   "metadata": {},
   "outputs": [
    {
     "data": {
      "text/html": [
       "<div>\n",
       "<style scoped>\n",
       "    .dataframe tbody tr th:only-of-type {\n",
       "        vertical-align: middle;\n",
       "    }\n",
       "\n",
       "    .dataframe tbody tr th {\n",
       "        vertical-align: top;\n",
       "    }\n",
       "\n",
       "    .dataframe thead th {\n",
       "        text-align: right;\n",
       "    }\n",
       "</style>\n",
       "<table border=\"1\" class=\"dataframe\">\n",
       "  <thead>\n",
       "    <tr style=\"text-align: right;\">\n",
       "      <th></th>\n",
       "      <th>Date</th>\n",
       "      <th>Animal</th>\n",
       "      <th>Treatment</th>\n",
       "      <th>Scale</th>\n",
       "    </tr>\n",
       "  </thead>\n",
       "  <tbody>\n",
       "    <tr>\n",
       "      <th>0</th>\n",
       "      <td>2021-06-30</td>\n",
       "      <td>1</td>\n",
       "      <td>1dpi</td>\n",
       "      <td>0.414299</td>\n",
       "    </tr>\n",
       "    <tr>\n",
       "      <th>1</th>\n",
       "      <td>2021-06-30</td>\n",
       "      <td>1</td>\n",
       "      <td>1dpi</td>\n",
       "      <td>0.414299</td>\n",
       "    </tr>\n",
       "    <tr>\n",
       "      <th>2</th>\n",
       "      <td>2021-07-01</td>\n",
       "      <td>1</td>\n",
       "      <td>2dpi</td>\n",
       "      <td>0.414880</td>\n",
       "    </tr>\n",
       "    <tr>\n",
       "      <th>3</th>\n",
       "      <td>2021-07-01</td>\n",
       "      <td>1</td>\n",
       "      <td>2dpi</td>\n",
       "      <td>0.414880</td>\n",
       "    </tr>\n",
       "    <tr>\n",
       "      <th>4</th>\n",
       "      <td>2021-06-29</td>\n",
       "      <td>1</td>\n",
       "      <td>2hpi</td>\n",
       "      <td>0.415793</td>\n",
       "    </tr>\n",
       "    <tr>\n",
       "      <th>5</th>\n",
       "      <td>2021-06-29</td>\n",
       "      <td>1</td>\n",
       "      <td>2hpi</td>\n",
       "      <td>0.415793</td>\n",
       "    </tr>\n",
       "    <tr>\n",
       "      <th>6</th>\n",
       "      <td>2021-07-02</td>\n",
       "      <td>1</td>\n",
       "      <td>3dpi</td>\n",
       "      <td>0.414109</td>\n",
       "    </tr>\n",
       "    <tr>\n",
       "      <th>7</th>\n",
       "      <td>2021-07-02</td>\n",
       "      <td>1</td>\n",
       "      <td>3dpi</td>\n",
       "      <td>0.414109</td>\n",
       "    </tr>\n",
       "    <tr>\n",
       "      <th>8</th>\n",
       "      <td>2021-06-29</td>\n",
       "      <td>1</td>\n",
       "      <td>Control</td>\n",
       "      <td>0.411436</td>\n",
       "    </tr>\n",
       "    <tr>\n",
       "      <th>9</th>\n",
       "      <td>2021-06-29</td>\n",
       "      <td>1</td>\n",
       "      <td>Control</td>\n",
       "      <td>0.411436</td>\n",
       "    </tr>\n",
       "    <tr>\n",
       "      <th>10</th>\n",
       "      <td>2021-06-30</td>\n",
       "      <td>2</td>\n",
       "      <td>1dpi</td>\n",
       "      <td>0.414871</td>\n",
       "    </tr>\n",
       "    <tr>\n",
       "      <th>11</th>\n",
       "      <td>2021-06-30</td>\n",
       "      <td>2</td>\n",
       "      <td>1dpi</td>\n",
       "      <td>0.414871</td>\n",
       "    </tr>\n",
       "    <tr>\n",
       "      <th>12</th>\n",
       "      <td>2021-07-01</td>\n",
       "      <td>2</td>\n",
       "      <td>2dpi</td>\n",
       "      <td>0.413758</td>\n",
       "    </tr>\n",
       "    <tr>\n",
       "      <th>13</th>\n",
       "      <td>2021-07-01</td>\n",
       "      <td>2</td>\n",
       "      <td>2dpi</td>\n",
       "      <td>0.413758</td>\n",
       "    </tr>\n",
       "    <tr>\n",
       "      <th>14</th>\n",
       "      <td>2021-06-29</td>\n",
       "      <td>2</td>\n",
       "      <td>2hpi</td>\n",
       "      <td>0.410862</td>\n",
       "    </tr>\n",
       "    <tr>\n",
       "      <th>15</th>\n",
       "      <td>2021-06-29</td>\n",
       "      <td>2</td>\n",
       "      <td>2hpi</td>\n",
       "      <td>0.410862</td>\n",
       "    </tr>\n",
       "    <tr>\n",
       "      <th>16</th>\n",
       "      <td>2021-07-02</td>\n",
       "      <td>2</td>\n",
       "      <td>3dpi</td>\n",
       "      <td>0.411438</td>\n",
       "    </tr>\n",
       "    <tr>\n",
       "      <th>17</th>\n",
       "      <td>2021-07-02</td>\n",
       "      <td>2</td>\n",
       "      <td>3dpi</td>\n",
       "      <td>0.411438</td>\n",
       "    </tr>\n",
       "    <tr>\n",
       "      <th>18</th>\n",
       "      <td>2021-06-29</td>\n",
       "      <td>2</td>\n",
       "      <td>Control</td>\n",
       "      <td>0.412812</td>\n",
       "    </tr>\n",
       "    <tr>\n",
       "      <th>19</th>\n",
       "      <td>2021-06-29</td>\n",
       "      <td>2</td>\n",
       "      <td>Control</td>\n",
       "      <td>0.412812</td>\n",
       "    </tr>\n",
       "  </tbody>\n",
       "</table>\n",
       "</div>"
      ],
      "text/plain": [
       "         Date  Animal Treatment     Scale\n",
       "0  2021-06-30       1      1dpi  0.414299\n",
       "1  2021-06-30       1      1dpi  0.414299\n",
       "2  2021-07-01       1      2dpi  0.414880\n",
       "3  2021-07-01       1      2dpi  0.414880\n",
       "4  2021-06-29       1      2hpi  0.415793\n",
       "5  2021-06-29       1      2hpi  0.415793\n",
       "6  2021-07-02       1      3dpi  0.414109\n",
       "7  2021-07-02       1      3dpi  0.414109\n",
       "8  2021-06-29       1   Control  0.411436\n",
       "9  2021-06-29       1   Control  0.411436\n",
       "10 2021-06-30       2      1dpi  0.414871\n",
       "11 2021-06-30       2      1dpi  0.414871\n",
       "12 2021-07-01       2      2dpi  0.413758\n",
       "13 2021-07-01       2      2dpi  0.413758\n",
       "14 2021-06-29       2      2hpi  0.410862\n",
       "15 2021-06-29       2      2hpi  0.410862\n",
       "16 2021-07-02       2      3dpi  0.411438\n",
       "17 2021-07-02       2      3dpi  0.411438\n",
       "18 2021-06-29       2   Control  0.412812\n",
       "19 2021-06-29       2   Control  0.412812"
      ]
     },
     "execution_count": 20,
     "metadata": {},
     "output_type": "execute_result"
    }
   ],
   "source": [
    "scales"
   ]
  },
  {
   "cell_type": "code",
   "execution_count": 21,
   "metadata": {},
   "outputs": [],
   "source": [
    "fps = 60"
   ]
  },
  {
   "cell_type": "code",
   "execution_count": 22,
   "metadata": {},
   "outputs": [],
   "source": [
    "pointorder = ['snout', 'gill', 'mid1', 'mid2', 'anus', 'mid4',  'tailbase', 'tailtip']\n",
    "\n",
    "def flatten_DLC_points(df):\n",
    "    scorer = df.columns.levels[0][-1]\n",
    "    df = df.xs(scorer, level=\"scorer\", axis=1)\n",
    "\n",
    "    df = df.stack(0)\n",
    "    df.index.set_names('frame', level=0, inplace=True)\n",
    "\n",
    "    df = df.reset_index()\n",
    "\n",
    "    df[\"bodyparts\"] = df[\"bodyparts\"].astype(\"category\").cat.reorder_categories(pointorder)\n",
    "    df = df.sort_values(['frame', 'bodyparts'])\n",
    "\n",
    "    return df"
   ]
  },
  {
   "cell_type": "code",
   "execution_count": 36,
   "metadata": {},
   "outputs": [],
   "source": [
    "date, animal, treatment = process_filepath(testfile)\n",
    "\n",
    "midline = pd.read_hdf(testfile)\n",
    "midline = flatten_DLC_points(midline)\n",
    "midline['Date'] = date\n",
    "midline['Animal'] = int(animal)\n",
    "midline['Treatment'] = treatment\n",
    "midline['Treatment'] = midline['Treatment'].astype('string')"
   ]
  },
  {
   "cell_type": "code",
   "execution_count": 37,
   "metadata": {},
   "outputs": [
    {
     "data": {
      "text/plain": [
       "(datetime.datetime(2021, 6, 30, 0, 0), '2', '2dpi')"
      ]
     },
     "execution_count": 37,
     "metadata": {},
     "output_type": "execute_result"
    }
   ],
   "source": [
    "(date, animal, treatment)"
   ]
  },
  {
   "cell_type": "code",
   "execution_count": 38,
   "metadata": {},
   "outputs": [
    {
     "data": {
      "text/plain": [
       "coords\n",
       "frame                  int64\n",
       "bodyparts           category\n",
       "likelihood           float64\n",
       "x                    float64\n",
       "y                    float64\n",
       "Date          datetime64[ns]\n",
       "Animal                 int64\n",
       "Treatment             string\n",
       "dtype: object"
      ]
     },
     "execution_count": 38,
     "metadata": {},
     "output_type": "execute_result"
    }
   ],
   "source": [
    "midline.dtypes"
   ]
  },
  {
   "cell_type": "code",
   "execution_count": 39,
   "metadata": {},
   "outputs": [
    {
     "data": {
      "text/html": [
       "<div>\n",
       "<style scoped>\n",
       "    .dataframe tbody tr th:only-of-type {\n",
       "        vertical-align: middle;\n",
       "    }\n",
       "\n",
       "    .dataframe tbody tr th {\n",
       "        vertical-align: top;\n",
       "    }\n",
       "\n",
       "    .dataframe thead th {\n",
       "        text-align: right;\n",
       "    }\n",
       "</style>\n",
       "<table border=\"1\" class=\"dataframe\">\n",
       "  <thead>\n",
       "    <tr style=\"text-align: right;\">\n",
       "      <th></th>\n",
       "      <th>frame</th>\n",
       "      <th>bodyparts</th>\n",
       "      <th>likelihood</th>\n",
       "      <th>x</th>\n",
       "      <th>y</th>\n",
       "      <th>Date</th>\n",
       "      <th>Animal</th>\n",
       "      <th>Treatment</th>\n",
       "      <th>Scale</th>\n",
       "    </tr>\n",
       "  </thead>\n",
       "  <tbody>\n",
       "    <tr>\n",
       "      <th>0</th>\n",
       "      <td>0</td>\n",
       "      <td>snout</td>\n",
       "      <td>0.999965</td>\n",
       "      <td>129.632828</td>\n",
       "      <td>158.449097</td>\n",
       "      <td>2021-06-30</td>\n",
       "      <td>2</td>\n",
       "      <td>2dpi</td>\n",
       "      <td>0.413758</td>\n",
       "    </tr>\n",
       "    <tr>\n",
       "      <th>1</th>\n",
       "      <td>0</td>\n",
       "      <td>snout</td>\n",
       "      <td>0.999965</td>\n",
       "      <td>129.632828</td>\n",
       "      <td>158.449097</td>\n",
       "      <td>2021-06-30</td>\n",
       "      <td>2</td>\n",
       "      <td>2dpi</td>\n",
       "      <td>0.413758</td>\n",
       "    </tr>\n",
       "    <tr>\n",
       "      <th>2</th>\n",
       "      <td>0</td>\n",
       "      <td>gill</td>\n",
       "      <td>0.994267</td>\n",
       "      <td>127.632233</td>\n",
       "      <td>117.417763</td>\n",
       "      <td>2021-06-30</td>\n",
       "      <td>2</td>\n",
       "      <td>2dpi</td>\n",
       "      <td>0.413758</td>\n",
       "    </tr>\n",
       "    <tr>\n",
       "      <th>3</th>\n",
       "      <td>0</td>\n",
       "      <td>gill</td>\n",
       "      <td>0.994267</td>\n",
       "      <td>127.632233</td>\n",
       "      <td>117.417763</td>\n",
       "      <td>2021-06-30</td>\n",
       "      <td>2</td>\n",
       "      <td>2dpi</td>\n",
       "      <td>0.413758</td>\n",
       "    </tr>\n",
       "    <tr>\n",
       "      <th>4</th>\n",
       "      <td>0</td>\n",
       "      <td>mid1</td>\n",
       "      <td>0.927043</td>\n",
       "      <td>147.987961</td>\n",
       "      <td>74.872963</td>\n",
       "      <td>2021-06-30</td>\n",
       "      <td>2</td>\n",
       "      <td>2dpi</td>\n",
       "      <td>0.413758</td>\n",
       "    </tr>\n",
       "  </tbody>\n",
       "</table>\n",
       "</div>"
      ],
      "text/plain": [
       "   frame bodyparts  likelihood           x           y       Date  Animal  \\\n",
       "0      0     snout    0.999965  129.632828  158.449097 2021-06-30       2   \n",
       "1      0     snout    0.999965  129.632828  158.449097 2021-06-30       2   \n",
       "2      0      gill    0.994267  127.632233  117.417763 2021-06-30       2   \n",
       "3      0      gill    0.994267  127.632233  117.417763 2021-06-30       2   \n",
       "4      0      mid1    0.927043  147.987961   74.872963 2021-06-30       2   \n",
       "\n",
       "  Treatment     Scale  \n",
       "0      2dpi  0.413758  \n",
       "1      2dpi  0.413758  \n",
       "2      2dpi  0.413758  \n",
       "3      2dpi  0.413758  \n",
       "4      2dpi  0.413758  "
      ]
     },
     "execution_count": 39,
     "metadata": {},
     "output_type": "execute_result"
    }
   ],
   "source": [
    "midline = pd.merge(midline, scales[['Animal', 'Treatment', 'Scale']], how='left', on = ['Animal','Treatment'])\n",
    "midline.head()"
   ]
  },
  {
   "cell_type": "code",
   "execution_count": 40,
   "metadata": {},
   "outputs": [],
   "source": [
    "midline['t'] = midline['frame'] / fps\n",
    "midline['xmm'] = midline['x'] * midline['Scale']\n",
    "midline['ymm'] = midline['y'] * midline['Scale']"
   ]
  },
  {
   "cell_type": "code",
   "execution_count": 41,
   "metadata": {},
   "outputs": [
    {
     "data": {
      "text/html": [
       "<div>\n",
       "<style scoped>\n",
       "    .dataframe tbody tr th:only-of-type {\n",
       "        vertical-align: middle;\n",
       "    }\n",
       "\n",
       "    .dataframe tbody tr th {\n",
       "        vertical-align: top;\n",
       "    }\n",
       "\n",
       "    .dataframe thead th {\n",
       "        text-align: right;\n",
       "    }\n",
       "</style>\n",
       "<table border=\"1\" class=\"dataframe\">\n",
       "  <thead>\n",
       "    <tr style=\"text-align: right;\">\n",
       "      <th></th>\n",
       "      <th>frame</th>\n",
       "      <th>bodyparts</th>\n",
       "      <th>likelihood</th>\n",
       "      <th>x</th>\n",
       "      <th>y</th>\n",
       "      <th>Date</th>\n",
       "      <th>Animal</th>\n",
       "      <th>Treatment</th>\n",
       "      <th>Scale</th>\n",
       "      <th>t</th>\n",
       "      <th>xmm</th>\n",
       "      <th>ymm</th>\n",
       "    </tr>\n",
       "  </thead>\n",
       "  <tbody>\n",
       "    <tr>\n",
       "      <th>0</th>\n",
       "      <td>0</td>\n",
       "      <td>snout</td>\n",
       "      <td>0.999965</td>\n",
       "      <td>129.632828</td>\n",
       "      <td>158.449097</td>\n",
       "      <td>2021-06-30</td>\n",
       "      <td>2</td>\n",
       "      <td>2dpi</td>\n",
       "      <td>0.413758</td>\n",
       "      <td>0.0</td>\n",
       "      <td>53.636600</td>\n",
       "      <td>65.559557</td>\n",
       "    </tr>\n",
       "    <tr>\n",
       "      <th>1</th>\n",
       "      <td>0</td>\n",
       "      <td>snout</td>\n",
       "      <td>0.999965</td>\n",
       "      <td>129.632828</td>\n",
       "      <td>158.449097</td>\n",
       "      <td>2021-06-30</td>\n",
       "      <td>2</td>\n",
       "      <td>2dpi</td>\n",
       "      <td>0.413758</td>\n",
       "      <td>0.0</td>\n",
       "      <td>53.636600</td>\n",
       "      <td>65.559557</td>\n",
       "    </tr>\n",
       "    <tr>\n",
       "      <th>2</th>\n",
       "      <td>0</td>\n",
       "      <td>gill</td>\n",
       "      <td>0.994267</td>\n",
       "      <td>127.632233</td>\n",
       "      <td>117.417763</td>\n",
       "      <td>2021-06-30</td>\n",
       "      <td>2</td>\n",
       "      <td>2dpi</td>\n",
       "      <td>0.413758</td>\n",
       "      <td>0.0</td>\n",
       "      <td>52.808838</td>\n",
       "      <td>48.582521</td>\n",
       "    </tr>\n",
       "    <tr>\n",
       "      <th>3</th>\n",
       "      <td>0</td>\n",
       "      <td>gill</td>\n",
       "      <td>0.994267</td>\n",
       "      <td>127.632233</td>\n",
       "      <td>117.417763</td>\n",
       "      <td>2021-06-30</td>\n",
       "      <td>2</td>\n",
       "      <td>2dpi</td>\n",
       "      <td>0.413758</td>\n",
       "      <td>0.0</td>\n",
       "      <td>52.808838</td>\n",
       "      <td>48.582521</td>\n",
       "    </tr>\n",
       "    <tr>\n",
       "      <th>4</th>\n",
       "      <td>0</td>\n",
       "      <td>mid1</td>\n",
       "      <td>0.927043</td>\n",
       "      <td>147.987961</td>\n",
       "      <td>74.872963</td>\n",
       "      <td>2021-06-30</td>\n",
       "      <td>2</td>\n",
       "      <td>2dpi</td>\n",
       "      <td>0.413758</td>\n",
       "      <td>0.0</td>\n",
       "      <td>61.231180</td>\n",
       "      <td>30.979276</td>\n",
       "    </tr>\n",
       "    <tr>\n",
       "      <th>...</th>\n",
       "      <td>...</td>\n",
       "      <td>...</td>\n",
       "      <td>...</td>\n",
       "      <td>...</td>\n",
       "      <td>...</td>\n",
       "      <td>...</td>\n",
       "      <td>...</td>\n",
       "      <td>...</td>\n",
       "      <td>...</td>\n",
       "      <td>...</td>\n",
       "      <td>...</td>\n",
       "      <td>...</td>\n",
       "    </tr>\n",
       "    <tr>\n",
       "      <th>9131</th>\n",
       "      <td>570</td>\n",
       "      <td>mid4</td>\n",
       "      <td>0.998988</td>\n",
       "      <td>24.303572</td>\n",
       "      <td>216.998230</td>\n",
       "      <td>2021-06-30</td>\n",
       "      <td>2</td>\n",
       "      <td>2dpi</td>\n",
       "      <td>0.413758</td>\n",
       "      <td>9.5</td>\n",
       "      <td>10.055794</td>\n",
       "      <td>89.784721</td>\n",
       "    </tr>\n",
       "    <tr>\n",
       "      <th>9132</th>\n",
       "      <td>570</td>\n",
       "      <td>tailbase</td>\n",
       "      <td>0.999698</td>\n",
       "      <td>48.436047</td>\n",
       "      <td>167.474289</td>\n",
       "      <td>2021-06-30</td>\n",
       "      <td>2</td>\n",
       "      <td>2dpi</td>\n",
       "      <td>0.413758</td>\n",
       "      <td>9.5</td>\n",
       "      <td>20.040794</td>\n",
       "      <td>69.293802</td>\n",
       "    </tr>\n",
       "    <tr>\n",
       "      <th>9133</th>\n",
       "      <td>570</td>\n",
       "      <td>tailbase</td>\n",
       "      <td>0.999698</td>\n",
       "      <td>48.436047</td>\n",
       "      <td>167.474289</td>\n",
       "      <td>2021-06-30</td>\n",
       "      <td>2</td>\n",
       "      <td>2dpi</td>\n",
       "      <td>0.413758</td>\n",
       "      <td>9.5</td>\n",
       "      <td>20.040794</td>\n",
       "      <td>69.293802</td>\n",
       "    </tr>\n",
       "    <tr>\n",
       "      <th>9134</th>\n",
       "      <td>570</td>\n",
       "      <td>tailtip</td>\n",
       "      <td>0.999992</td>\n",
       "      <td>65.729019</td>\n",
       "      <td>139.251877</td>\n",
       "      <td>2021-06-30</td>\n",
       "      <td>2</td>\n",
       "      <td>2dpi</td>\n",
       "      <td>0.413758</td>\n",
       "      <td>9.5</td>\n",
       "      <td>27.195898</td>\n",
       "      <td>57.616557</td>\n",
       "    </tr>\n",
       "    <tr>\n",
       "      <th>9135</th>\n",
       "      <td>570</td>\n",
       "      <td>tailtip</td>\n",
       "      <td>0.999992</td>\n",
       "      <td>65.729019</td>\n",
       "      <td>139.251877</td>\n",
       "      <td>2021-06-30</td>\n",
       "      <td>2</td>\n",
       "      <td>2dpi</td>\n",
       "      <td>0.413758</td>\n",
       "      <td>9.5</td>\n",
       "      <td>27.195898</td>\n",
       "      <td>57.616557</td>\n",
       "    </tr>\n",
       "  </tbody>\n",
       "</table>\n",
       "<p>9136 rows × 12 columns</p>\n",
       "</div>"
      ],
      "text/plain": [
       "      frame bodyparts  likelihood           x           y       Date  Animal  \\\n",
       "0         0     snout    0.999965  129.632828  158.449097 2021-06-30       2   \n",
       "1         0     snout    0.999965  129.632828  158.449097 2021-06-30       2   \n",
       "2         0      gill    0.994267  127.632233  117.417763 2021-06-30       2   \n",
       "3         0      gill    0.994267  127.632233  117.417763 2021-06-30       2   \n",
       "4         0      mid1    0.927043  147.987961   74.872963 2021-06-30       2   \n",
       "...     ...       ...         ...         ...         ...        ...     ...   \n",
       "9131    570      mid4    0.998988   24.303572  216.998230 2021-06-30       2   \n",
       "9132    570  tailbase    0.999698   48.436047  167.474289 2021-06-30       2   \n",
       "9133    570  tailbase    0.999698   48.436047  167.474289 2021-06-30       2   \n",
       "9134    570   tailtip    0.999992   65.729019  139.251877 2021-06-30       2   \n",
       "9135    570   tailtip    0.999992   65.729019  139.251877 2021-06-30       2   \n",
       "\n",
       "     Treatment     Scale    t        xmm        ymm  \n",
       "0         2dpi  0.413758  0.0  53.636600  65.559557  \n",
       "1         2dpi  0.413758  0.0  53.636600  65.559557  \n",
       "2         2dpi  0.413758  0.0  52.808838  48.582521  \n",
       "3         2dpi  0.413758  0.0  52.808838  48.582521  \n",
       "4         2dpi  0.413758  0.0  61.231180  30.979276  \n",
       "...        ...       ...  ...        ...        ...  \n",
       "9131      2dpi  0.413758  9.5  10.055794  89.784721  \n",
       "9132      2dpi  0.413758  9.5  20.040794  69.293802  \n",
       "9133      2dpi  0.413758  9.5  20.040794  69.293802  \n",
       "9134      2dpi  0.413758  9.5  27.195898  57.616557  \n",
       "9135      2dpi  0.413758  9.5  27.195898  57.616557  \n",
       "\n",
       "[9136 rows x 12 columns]"
      ]
     },
     "execution_count": 41,
     "metadata": {},
     "output_type": "execute_result"
    }
   ],
   "source": [
    "midline"
   ]
  },
  {
   "cell_type": "code",
   "execution_count": 42,
   "metadata": {},
   "outputs": [
    {
     "data": {
      "application/vnd.plotly.v1+json": {
       "config": {
        "plotlyServerURL": "https://plot.ly"
       },
       "data": [
        {
         "hovertemplate": "frame=10<br>xmm=%{x}<br>ymm=%{y}<extra></extra>",
         "legendgroup": "10",
         "line": {
          "color": "#636efa",
          "dash": "solid"
         },
         "marker": {
          "symbol": "circle"
         },
         "mode": "lines",
         "name": "10",
         "orientation": "v",
         "showlegend": true,
         "type": "scatter",
         "x": [
          50.95032122273301,
          50.95032122273301,
          50.9899222986101,
          50.9899222986101,
          60.89483164903356,
          60.89483164903356,
          69.59433412596398,
          69.59433412596398,
          81.22481497985473,
          81.22481497985473,
          92.55815991743151,
          92.55815991743151,
          100.67109296310028,
          100.67109296310028,
          100.61193599522967,
          100.61193599522967
         ],
         "xaxis": "x",
         "y": [
          66.0792611876892,
          66.0792611876892,
          49.27281712320199,
          49.27281712320199,
          33.9271934555471,
          33.9271934555471,
          24.17985819077981,
          24.17985819077981,
          22.520014371758503,
          22.520014371758503,
          29.498644125727253,
          29.498644125727253,
          43.673360733221955,
          43.673360733221955,
          61.65733150363374,
          61.65733150363374
         ],
         "yaxis": "y"
        },
        {
         "hovertemplate": "frame=11<br>xmm=%{x}<br>ymm=%{y}<extra></extra>",
         "legendgroup": "11",
         "line": {
          "color": "#EF553B",
          "dash": "solid"
         },
         "marker": {
          "symbol": "circle"
         },
         "mode": "lines",
         "name": "11",
         "orientation": "v",
         "showlegend": true,
         "type": "scatter",
         "x": [
          50.5326774489772,
          50.5326774489772,
          50.69627140324219,
          50.69627140324219,
          59.34068908351615,
          59.34068908351615,
          68.93578512258999,
          68.93578512258999,
          81.39412260070701,
          81.39412260070701,
          93.53333443795367,
          93.53333443795367,
          100.9706974359177,
          100.9706974359177,
          100.63599021588998,
          100.63599021588998
         ],
         "xaxis": "x",
         "y": [
          66.2535816828733,
          66.2535816828733,
          49.98653931144484,
          49.98653931144484,
          36.95707192873933,
          36.95707192873933,
          24.423904358660067,
          24.423904358660067,
          22.23229653514795,
          22.23229653514795,
          29.788879448030276,
          29.788879448030276,
          44.0743496423841,
          44.0743496423841,
          61.47476565092146,
          61.47476565092146
         ],
         "yaxis": "y"
        },
        {
         "hovertemplate": "frame=12<br>xmm=%{x}<br>ymm=%{y}<extra></extra>",
         "legendgroup": "12",
         "line": {
          "color": "#00cc96",
          "dash": "solid"
         },
         "marker": {
          "symbol": "circle"
         },
         "mode": "lines",
         "name": "12",
         "orientation": "v",
         "showlegend": true,
         "type": "scatter",
         "x": [
          48.94895008608075,
          48.94895008608075,
          51.46762586269173,
          51.46762586269173,
          60.620373622643946,
          60.620373622643946,
          70.87949873426058,
          70.87949873426058,
          83.38213764712124,
          83.38213764712124,
          94.50820591317618,
          94.50820591317618,
          101.55058093025566,
          101.55058093025566,
          100.60300878577728,
          100.60300878577728
         ],
         "xaxis": "x",
         "y": [
          66.14261028220506,
          66.14261028220506,
          49.548174815324955,
          49.548174815324955,
          34.88913499798423,
          34.88913499798423,
          24.058206021659576,
          24.058206021659576,
          22.84500835858784,
          22.84500835858784,
          31.66731520812156,
          31.66731520812156,
          44.977778188212405,
          44.977778188212405,
          61.24212156244081,
          61.24212156244081
         ],
         "yaxis": "y"
        },
        {
         "hovertemplate": "frame=13<br>xmm=%{x}<br>ymm=%{y}<extra></extra>",
         "legendgroup": "13",
         "line": {
          "color": "#ab63fa",
          "dash": "solid"
         },
         "marker": {
          "symbol": "circle"
         },
         "mode": "lines",
         "name": "13",
         "orientation": "v",
         "showlegend": true,
         "type": "scatter",
         "x": [
          48.22902493936054,
          48.22902493936054,
          51.39093014810347,
          51.39093014810347,
          60.84184922914348,
          60.84184922914348,
          70.76237172594303,
          70.76237172594303,
          82.29665463752382,
          82.29665463752382,
          95.2222753408249,
          95.2222753408249,
          101.65457597558805,
          101.65457597558805,
          101.07375809157615,
          101.07375809157615
         ],
         "xaxis": "x",
         "y": [
          66.47700183004564,
          66.47700183004564,
          49.978978962562756,
          49.978978962562756,
          35.5024292366094,
          35.5024292366094,
          24.16372418529493,
          24.16372418529493,
          23.219376632208213,
          23.219376632208213,
          31.53680685579103,
          31.53680685579103,
          44.79520286533451,
          44.79520286533451,
          61.051436621075204,
          61.051436621075204
         ],
         "yaxis": "y"
        },
        {
         "hovertemplate": "frame=14<br>xmm=%{x}<br>ymm=%{y}<extra></extra>",
         "legendgroup": "14",
         "line": {
          "color": "#FFA15A",
          "dash": "solid"
         },
         "marker": {
          "symbol": "circle"
         },
         "mode": "lines",
         "name": "14",
         "orientation": "v",
         "showlegend": true,
         "type": "scatter",
         "x": [
          48.500430415700485,
          48.500430415700485,
          51.173015323874914,
          51.173015323874914,
          60.90482583047851,
          60.90482583047851,
          71.77803436118816,
          71.77803436118816,
          85.57910874109292,
          85.57910874109292,
          95.45733747825905,
          95.45733747825905,
          102.53757421746445,
          102.53757421746445,
          101.73423269529171,
          101.73423269529171
         ],
         "xaxis": "x",
         "y": [
          66.51889152927951,
          66.51889152927951,
          50.03030094674847,
          50.03030094674847,
          35.37023203807765,
          35.37023203807765,
          24.128829781728143,
          24.128829781728143,
          24.52318326151654,
          24.52318326151654,
          32.96154276491104,
          32.96154276491104,
          46.83794284211186,
          46.83794284211186,
          61.651680971483884,
          61.651680971483884
         ],
         "yaxis": "y"
        }
       ],
       "layout": {
        "legend": {
         "title": {
          "text": "frame"
         },
         "tracegroupgap": 0
        },
        "margin": {
         "t": 60
        },
        "template": {
         "data": {
          "bar": [
           {
            "error_x": {
             "color": "#2a3f5f"
            },
            "error_y": {
             "color": "#2a3f5f"
            },
            "marker": {
             "line": {
              "color": "#E5ECF6",
              "width": 0.5
             },
             "pattern": {
              "fillmode": "overlay",
              "size": 10,
              "solidity": 0.2
             }
            },
            "type": "bar"
           }
          ],
          "barpolar": [
           {
            "marker": {
             "line": {
              "color": "#E5ECF6",
              "width": 0.5
             },
             "pattern": {
              "fillmode": "overlay",
              "size": 10,
              "solidity": 0.2
             }
            },
            "type": "barpolar"
           }
          ],
          "carpet": [
           {
            "aaxis": {
             "endlinecolor": "#2a3f5f",
             "gridcolor": "white",
             "linecolor": "white",
             "minorgridcolor": "white",
             "startlinecolor": "#2a3f5f"
            },
            "baxis": {
             "endlinecolor": "#2a3f5f",
             "gridcolor": "white",
             "linecolor": "white",
             "minorgridcolor": "white",
             "startlinecolor": "#2a3f5f"
            },
            "type": "carpet"
           }
          ],
          "choropleth": [
           {
            "colorbar": {
             "outlinewidth": 0,
             "ticks": ""
            },
            "type": "choropleth"
           }
          ],
          "contour": [
           {
            "colorbar": {
             "outlinewidth": 0,
             "ticks": ""
            },
            "colorscale": [
             [
              0,
              "#0d0887"
             ],
             [
              0.1111111111111111,
              "#46039f"
             ],
             [
              0.2222222222222222,
              "#7201a8"
             ],
             [
              0.3333333333333333,
              "#9c179e"
             ],
             [
              0.4444444444444444,
              "#bd3786"
             ],
             [
              0.5555555555555556,
              "#d8576b"
             ],
             [
              0.6666666666666666,
              "#ed7953"
             ],
             [
              0.7777777777777778,
              "#fb9f3a"
             ],
             [
              0.8888888888888888,
              "#fdca26"
             ],
             [
              1,
              "#f0f921"
             ]
            ],
            "type": "contour"
           }
          ],
          "contourcarpet": [
           {
            "colorbar": {
             "outlinewidth": 0,
             "ticks": ""
            },
            "type": "contourcarpet"
           }
          ],
          "heatmap": [
           {
            "colorbar": {
             "outlinewidth": 0,
             "ticks": ""
            },
            "colorscale": [
             [
              0,
              "#0d0887"
             ],
             [
              0.1111111111111111,
              "#46039f"
             ],
             [
              0.2222222222222222,
              "#7201a8"
             ],
             [
              0.3333333333333333,
              "#9c179e"
             ],
             [
              0.4444444444444444,
              "#bd3786"
             ],
             [
              0.5555555555555556,
              "#d8576b"
             ],
             [
              0.6666666666666666,
              "#ed7953"
             ],
             [
              0.7777777777777778,
              "#fb9f3a"
             ],
             [
              0.8888888888888888,
              "#fdca26"
             ],
             [
              1,
              "#f0f921"
             ]
            ],
            "type": "heatmap"
           }
          ],
          "heatmapgl": [
           {
            "colorbar": {
             "outlinewidth": 0,
             "ticks": ""
            },
            "colorscale": [
             [
              0,
              "#0d0887"
             ],
             [
              0.1111111111111111,
              "#46039f"
             ],
             [
              0.2222222222222222,
              "#7201a8"
             ],
             [
              0.3333333333333333,
              "#9c179e"
             ],
             [
              0.4444444444444444,
              "#bd3786"
             ],
             [
              0.5555555555555556,
              "#d8576b"
             ],
             [
              0.6666666666666666,
              "#ed7953"
             ],
             [
              0.7777777777777778,
              "#fb9f3a"
             ],
             [
              0.8888888888888888,
              "#fdca26"
             ],
             [
              1,
              "#f0f921"
             ]
            ],
            "type": "heatmapgl"
           }
          ],
          "histogram": [
           {
            "marker": {
             "pattern": {
              "fillmode": "overlay",
              "size": 10,
              "solidity": 0.2
             }
            },
            "type": "histogram"
           }
          ],
          "histogram2d": [
           {
            "colorbar": {
             "outlinewidth": 0,
             "ticks": ""
            },
            "colorscale": [
             [
              0,
              "#0d0887"
             ],
             [
              0.1111111111111111,
              "#46039f"
             ],
             [
              0.2222222222222222,
              "#7201a8"
             ],
             [
              0.3333333333333333,
              "#9c179e"
             ],
             [
              0.4444444444444444,
              "#bd3786"
             ],
             [
              0.5555555555555556,
              "#d8576b"
             ],
             [
              0.6666666666666666,
              "#ed7953"
             ],
             [
              0.7777777777777778,
              "#fb9f3a"
             ],
             [
              0.8888888888888888,
              "#fdca26"
             ],
             [
              1,
              "#f0f921"
             ]
            ],
            "type": "histogram2d"
           }
          ],
          "histogram2dcontour": [
           {
            "colorbar": {
             "outlinewidth": 0,
             "ticks": ""
            },
            "colorscale": [
             [
              0,
              "#0d0887"
             ],
             [
              0.1111111111111111,
              "#46039f"
             ],
             [
              0.2222222222222222,
              "#7201a8"
             ],
             [
              0.3333333333333333,
              "#9c179e"
             ],
             [
              0.4444444444444444,
              "#bd3786"
             ],
             [
              0.5555555555555556,
              "#d8576b"
             ],
             [
              0.6666666666666666,
              "#ed7953"
             ],
             [
              0.7777777777777778,
              "#fb9f3a"
             ],
             [
              0.8888888888888888,
              "#fdca26"
             ],
             [
              1,
              "#f0f921"
             ]
            ],
            "type": "histogram2dcontour"
           }
          ],
          "mesh3d": [
           {
            "colorbar": {
             "outlinewidth": 0,
             "ticks": ""
            },
            "type": "mesh3d"
           }
          ],
          "parcoords": [
           {
            "line": {
             "colorbar": {
              "outlinewidth": 0,
              "ticks": ""
             }
            },
            "type": "parcoords"
           }
          ],
          "pie": [
           {
            "automargin": true,
            "type": "pie"
           }
          ],
          "scatter": [
           {
            "marker": {
             "colorbar": {
              "outlinewidth": 0,
              "ticks": ""
             }
            },
            "type": "scatter"
           }
          ],
          "scatter3d": [
           {
            "line": {
             "colorbar": {
              "outlinewidth": 0,
              "ticks": ""
             }
            },
            "marker": {
             "colorbar": {
              "outlinewidth": 0,
              "ticks": ""
             }
            },
            "type": "scatter3d"
           }
          ],
          "scattercarpet": [
           {
            "marker": {
             "colorbar": {
              "outlinewidth": 0,
              "ticks": ""
             }
            },
            "type": "scattercarpet"
           }
          ],
          "scattergeo": [
           {
            "marker": {
             "colorbar": {
              "outlinewidth": 0,
              "ticks": ""
             }
            },
            "type": "scattergeo"
           }
          ],
          "scattergl": [
           {
            "marker": {
             "colorbar": {
              "outlinewidth": 0,
              "ticks": ""
             }
            },
            "type": "scattergl"
           }
          ],
          "scattermapbox": [
           {
            "marker": {
             "colorbar": {
              "outlinewidth": 0,
              "ticks": ""
             }
            },
            "type": "scattermapbox"
           }
          ],
          "scatterpolar": [
           {
            "marker": {
             "colorbar": {
              "outlinewidth": 0,
              "ticks": ""
             }
            },
            "type": "scatterpolar"
           }
          ],
          "scatterpolargl": [
           {
            "marker": {
             "colorbar": {
              "outlinewidth": 0,
              "ticks": ""
             }
            },
            "type": "scatterpolargl"
           }
          ],
          "scatterternary": [
           {
            "marker": {
             "colorbar": {
              "outlinewidth": 0,
              "ticks": ""
             }
            },
            "type": "scatterternary"
           }
          ],
          "surface": [
           {
            "colorbar": {
             "outlinewidth": 0,
             "ticks": ""
            },
            "colorscale": [
             [
              0,
              "#0d0887"
             ],
             [
              0.1111111111111111,
              "#46039f"
             ],
             [
              0.2222222222222222,
              "#7201a8"
             ],
             [
              0.3333333333333333,
              "#9c179e"
             ],
             [
              0.4444444444444444,
              "#bd3786"
             ],
             [
              0.5555555555555556,
              "#d8576b"
             ],
             [
              0.6666666666666666,
              "#ed7953"
             ],
             [
              0.7777777777777778,
              "#fb9f3a"
             ],
             [
              0.8888888888888888,
              "#fdca26"
             ],
             [
              1,
              "#f0f921"
             ]
            ],
            "type": "surface"
           }
          ],
          "table": [
           {
            "cells": {
             "fill": {
              "color": "#EBF0F8"
             },
             "line": {
              "color": "white"
             }
            },
            "header": {
             "fill": {
              "color": "#C8D4E3"
             },
             "line": {
              "color": "white"
             }
            },
            "type": "table"
           }
          ]
         },
         "layout": {
          "annotationdefaults": {
           "arrowcolor": "#2a3f5f",
           "arrowhead": 0,
           "arrowwidth": 1
          },
          "autotypenumbers": "strict",
          "coloraxis": {
           "colorbar": {
            "outlinewidth": 0,
            "ticks": ""
           }
          },
          "colorscale": {
           "diverging": [
            [
             0,
             "#8e0152"
            ],
            [
             0.1,
             "#c51b7d"
            ],
            [
             0.2,
             "#de77ae"
            ],
            [
             0.3,
             "#f1b6da"
            ],
            [
             0.4,
             "#fde0ef"
            ],
            [
             0.5,
             "#f7f7f7"
            ],
            [
             0.6,
             "#e6f5d0"
            ],
            [
             0.7,
             "#b8e186"
            ],
            [
             0.8,
             "#7fbc41"
            ],
            [
             0.9,
             "#4d9221"
            ],
            [
             1,
             "#276419"
            ]
           ],
           "sequential": [
            [
             0,
             "#0d0887"
            ],
            [
             0.1111111111111111,
             "#46039f"
            ],
            [
             0.2222222222222222,
             "#7201a8"
            ],
            [
             0.3333333333333333,
             "#9c179e"
            ],
            [
             0.4444444444444444,
             "#bd3786"
            ],
            [
             0.5555555555555556,
             "#d8576b"
            ],
            [
             0.6666666666666666,
             "#ed7953"
            ],
            [
             0.7777777777777778,
             "#fb9f3a"
            ],
            [
             0.8888888888888888,
             "#fdca26"
            ],
            [
             1,
             "#f0f921"
            ]
           ],
           "sequentialminus": [
            [
             0,
             "#0d0887"
            ],
            [
             0.1111111111111111,
             "#46039f"
            ],
            [
             0.2222222222222222,
             "#7201a8"
            ],
            [
             0.3333333333333333,
             "#9c179e"
            ],
            [
             0.4444444444444444,
             "#bd3786"
            ],
            [
             0.5555555555555556,
             "#d8576b"
            ],
            [
             0.6666666666666666,
             "#ed7953"
            ],
            [
             0.7777777777777778,
             "#fb9f3a"
            ],
            [
             0.8888888888888888,
             "#fdca26"
            ],
            [
             1,
             "#f0f921"
            ]
           ]
          },
          "colorway": [
           "#636efa",
           "#EF553B",
           "#00cc96",
           "#ab63fa",
           "#FFA15A",
           "#19d3f3",
           "#FF6692",
           "#B6E880",
           "#FF97FF",
           "#FECB52"
          ],
          "font": {
           "color": "#2a3f5f"
          },
          "geo": {
           "bgcolor": "white",
           "lakecolor": "white",
           "landcolor": "#E5ECF6",
           "showlakes": true,
           "showland": true,
           "subunitcolor": "white"
          },
          "hoverlabel": {
           "align": "left"
          },
          "hovermode": "closest",
          "mapbox": {
           "style": "light"
          },
          "paper_bgcolor": "white",
          "plot_bgcolor": "#E5ECF6",
          "polar": {
           "angularaxis": {
            "gridcolor": "white",
            "linecolor": "white",
            "ticks": ""
           },
           "bgcolor": "#E5ECF6",
           "radialaxis": {
            "gridcolor": "white",
            "linecolor": "white",
            "ticks": ""
           }
          },
          "scene": {
           "xaxis": {
            "backgroundcolor": "#E5ECF6",
            "gridcolor": "white",
            "gridwidth": 2,
            "linecolor": "white",
            "showbackground": true,
            "ticks": "",
            "zerolinecolor": "white"
           },
           "yaxis": {
            "backgroundcolor": "#E5ECF6",
            "gridcolor": "white",
            "gridwidth": 2,
            "linecolor": "white",
            "showbackground": true,
            "ticks": "",
            "zerolinecolor": "white"
           },
           "zaxis": {
            "backgroundcolor": "#E5ECF6",
            "gridcolor": "white",
            "gridwidth": 2,
            "linecolor": "white",
            "showbackground": true,
            "ticks": "",
            "zerolinecolor": "white"
           }
          },
          "shapedefaults": {
           "line": {
            "color": "#2a3f5f"
           }
          },
          "ternary": {
           "aaxis": {
            "gridcolor": "white",
            "linecolor": "white",
            "ticks": ""
           },
           "baxis": {
            "gridcolor": "white",
            "linecolor": "white",
            "ticks": ""
           },
           "bgcolor": "#E5ECF6",
           "caxis": {
            "gridcolor": "white",
            "linecolor": "white",
            "ticks": ""
           }
          },
          "title": {
           "x": 0.05
          },
          "xaxis": {
           "automargin": true,
           "gridcolor": "white",
           "linecolor": "white",
           "ticks": "",
           "title": {
            "standoff": 15
           },
           "zerolinecolor": "white",
           "zerolinewidth": 2
          },
          "yaxis": {
           "automargin": true,
           "gridcolor": "white",
           "linecolor": "white",
           "ticks": "",
           "title": {
            "standoff": 15
           },
           "zerolinecolor": "white",
           "zerolinewidth": 2
          }
         }
        },
        "xaxis": {
         "anchor": "y",
         "domain": [
          0,
          1
         ],
         "title": {
          "text": "xmm"
         }
        },
        "yaxis": {
         "anchor": "x",
         "domain": [
          0,
          1
         ],
         "title": {
          "text": "ymm"
         }
        }
       }
      }
     },
     "metadata": {},
     "output_type": "display_data"
    }
   ],
   "source": [
    "px.line(midline[(midline[\"frame\"] >= 10) & (midline[\"frame\"] < 15)], x=\"xmm\", y=\"ymm\", color=\"frame\")"
   ]
  },
  {
   "cell_type": "code",
   "execution_count": 121,
   "metadata": {},
   "outputs": [],
   "source": [
    "def get_length(x, y):\n",
    "    dx = x.diff()\n",
    "    dy = y.diff()\n",
    "    length = np.sum(sqrt(dx[1:]**2 + dy[1:]**2))\n",
    "    return(length)"
   ]
  },
  {
   "cell_type": "code",
   "execution_count": 122,
   "metadata": {},
   "outputs": [
    {
     "data": {
      "text/html": [
       "<div>\n",
       "<style scoped>\n",
       "    .dataframe tbody tr th:only-of-type {\n",
       "        vertical-align: middle;\n",
       "    }\n",
       "\n",
       "    .dataframe tbody tr th {\n",
       "        vertical-align: top;\n",
       "    }\n",
       "\n",
       "    .dataframe thead th {\n",
       "        text-align: right;\n",
       "    }\n",
       "</style>\n",
       "<table border=\"1\" class=\"dataframe\">\n",
       "  <thead>\n",
       "    <tr style=\"text-align: right;\">\n",
       "      <th></th>\n",
       "      <th>frame</th>\n",
       "      <th>bodyparts</th>\n",
       "      <th>likelihood</th>\n",
       "      <th>x</th>\n",
       "      <th>y</th>\n",
       "      <th>Date</th>\n",
       "      <th>Animal</th>\n",
       "      <th>Treatment</th>\n",
       "      <th>Scale</th>\n",
       "      <th>t</th>\n",
       "      <th>xmm</th>\n",
       "      <th>ymm</th>\n",
       "    </tr>\n",
       "  </thead>\n",
       "  <tbody>\n",
       "    <tr>\n",
       "      <th>80</th>\n",
       "      <td>10</td>\n",
       "      <td>snout</td>\n",
       "      <td>0.999991</td>\n",
       "      <td>744.759888</td>\n",
       "      <td>260.982300</td>\n",
       "      <td>2021-06-30</td>\n",
       "      <td>1</td>\n",
       "      <td>2dpi</td>\n",
       "      <td>0.4149</td>\n",
       "      <td>0.166667</td>\n",
       "      <td>309.000877</td>\n",
       "      <td>108.281556</td>\n",
       "    </tr>\n",
       "    <tr>\n",
       "      <th>81</th>\n",
       "      <td>10</td>\n",
       "      <td>gill</td>\n",
       "      <td>0.999779</td>\n",
       "      <td>790.327942</td>\n",
       "      <td>258.849365</td>\n",
       "      <td>2021-06-30</td>\n",
       "      <td>1</td>\n",
       "      <td>2dpi</td>\n",
       "      <td>0.4149</td>\n",
       "      <td>0.166667</td>\n",
       "      <td>327.907063</td>\n",
       "      <td>107.396602</td>\n",
       "    </tr>\n",
       "    <tr>\n",
       "      <th>82</th>\n",
       "      <td>10</td>\n",
       "      <td>mid1</td>\n",
       "      <td>0.999799</td>\n",
       "      <td>826.330200</td>\n",
       "      <td>265.189148</td>\n",
       "      <td>2021-06-30</td>\n",
       "      <td>1</td>\n",
       "      <td>2dpi</td>\n",
       "      <td>0.4149</td>\n",
       "      <td>0.166667</td>\n",
       "      <td>342.844400</td>\n",
       "      <td>110.026977</td>\n",
       "    </tr>\n",
       "    <tr>\n",
       "      <th>83</th>\n",
       "      <td>10</td>\n",
       "      <td>mid2</td>\n",
       "      <td>0.999189</td>\n",
       "      <td>863.551453</td>\n",
       "      <td>281.135376</td>\n",
       "      <td>2021-06-30</td>\n",
       "      <td>1</td>\n",
       "      <td>2dpi</td>\n",
       "      <td>0.4149</td>\n",
       "      <td>0.166667</td>\n",
       "      <td>358.287498</td>\n",
       "      <td>116.643067</td>\n",
       "    </tr>\n",
       "    <tr>\n",
       "      <th>84</th>\n",
       "      <td>10</td>\n",
       "      <td>anus</td>\n",
       "      <td>0.997293</td>\n",
       "      <td>902.827820</td>\n",
       "      <td>289.509277</td>\n",
       "      <td>2021-06-30</td>\n",
       "      <td>1</td>\n",
       "      <td>2dpi</td>\n",
       "      <td>0.4149</td>\n",
       "      <td>0.166667</td>\n",
       "      <td>374.583262</td>\n",
       "      <td>120.117399</td>\n",
       "    </tr>\n",
       "    <tr>\n",
       "      <th>...</th>\n",
       "      <td>...</td>\n",
       "      <td>...</td>\n",
       "      <td>...</td>\n",
       "      <td>...</td>\n",
       "      <td>...</td>\n",
       "      <td>...</td>\n",
       "      <td>...</td>\n",
       "      <td>...</td>\n",
       "      <td>...</td>\n",
       "      <td>...</td>\n",
       "      <td>...</td>\n",
       "      <td>...</td>\n",
       "    </tr>\n",
       "    <tr>\n",
       "      <th>1051</th>\n",
       "      <td>131</td>\n",
       "      <td>mid2</td>\n",
       "      <td>0.969515</td>\n",
       "      <td>102.224045</td>\n",
       "      <td>102.421700</td>\n",
       "      <td>2021-06-30</td>\n",
       "      <td>1</td>\n",
       "      <td>2dpi</td>\n",
       "      <td>0.4149</td>\n",
       "      <td>2.183333</td>\n",
       "      <td>42.412756</td>\n",
       "      <td>42.494763</td>\n",
       "    </tr>\n",
       "    <tr>\n",
       "      <th>1052</th>\n",
       "      <td>131</td>\n",
       "      <td>anus</td>\n",
       "      <td>0.995628</td>\n",
       "      <td>130.032074</td>\n",
       "      <td>136.476669</td>\n",
       "      <td>2021-06-30</td>\n",
       "      <td>1</td>\n",
       "      <td>2dpi</td>\n",
       "      <td>0.4149</td>\n",
       "      <td>2.183333</td>\n",
       "      <td>53.950307</td>\n",
       "      <td>56.624170</td>\n",
       "    </tr>\n",
       "    <tr>\n",
       "      <th>1053</th>\n",
       "      <td>131</td>\n",
       "      <td>mid4</td>\n",
       "      <td>0.998067</td>\n",
       "      <td>167.713318</td>\n",
       "      <td>151.997925</td>\n",
       "      <td>2021-06-30</td>\n",
       "      <td>1</td>\n",
       "      <td>2dpi</td>\n",
       "      <td>0.4149</td>\n",
       "      <td>2.183333</td>\n",
       "      <td>69.584256</td>\n",
       "      <td>63.063939</td>\n",
       "    </tr>\n",
       "    <tr>\n",
       "      <th>1054</th>\n",
       "      <td>131</td>\n",
       "      <td>tailbase</td>\n",
       "      <td>0.999520</td>\n",
       "      <td>201.805969</td>\n",
       "      <td>149.854202</td>\n",
       "      <td>2021-06-30</td>\n",
       "      <td>1</td>\n",
       "      <td>2dpi</td>\n",
       "      <td>0.4149</td>\n",
       "      <td>2.183333</td>\n",
       "      <td>83.729297</td>\n",
       "      <td>62.174509</td>\n",
       "    </tr>\n",
       "    <tr>\n",
       "      <th>1055</th>\n",
       "      <td>131</td>\n",
       "      <td>tailtip</td>\n",
       "      <td>0.999977</td>\n",
       "      <td>226.328476</td>\n",
       "      <td>141.517441</td>\n",
       "      <td>2021-06-30</td>\n",
       "      <td>1</td>\n",
       "      <td>2dpi</td>\n",
       "      <td>0.4149</td>\n",
       "      <td>2.183333</td>\n",
       "      <td>93.903685</td>\n",
       "      <td>58.715586</td>\n",
       "    </tr>\n",
       "  </tbody>\n",
       "</table>\n",
       "<p>976 rows × 12 columns</p>\n",
       "</div>"
      ],
      "text/plain": [
       "      frame bodyparts  likelihood           x           y       Date  Animal  \\\n",
       "80       10     snout    0.999991  744.759888  260.982300 2021-06-30       1   \n",
       "81       10      gill    0.999779  790.327942  258.849365 2021-06-30       1   \n",
       "82       10      mid1    0.999799  826.330200  265.189148 2021-06-30       1   \n",
       "83       10      mid2    0.999189  863.551453  281.135376 2021-06-30       1   \n",
       "84       10      anus    0.997293  902.827820  289.509277 2021-06-30       1   \n",
       "...     ...       ...         ...         ...         ...        ...     ...   \n",
       "1051    131      mid2    0.969515  102.224045  102.421700 2021-06-30       1   \n",
       "1052    131      anus    0.995628  130.032074  136.476669 2021-06-30       1   \n",
       "1053    131      mid4    0.998067  167.713318  151.997925 2021-06-30       1   \n",
       "1054    131  tailbase    0.999520  201.805969  149.854202 2021-06-30       1   \n",
       "1055    131   tailtip    0.999977  226.328476  141.517441 2021-06-30       1   \n",
       "\n",
       "     Treatment   Scale         t         xmm         ymm  \n",
       "80        2dpi  0.4149  0.166667  309.000877  108.281556  \n",
       "81        2dpi  0.4149  0.166667  327.907063  107.396602  \n",
       "82        2dpi  0.4149  0.166667  342.844400  110.026977  \n",
       "83        2dpi  0.4149  0.166667  358.287498  116.643067  \n",
       "84        2dpi  0.4149  0.166667  374.583262  120.117399  \n",
       "...        ...     ...       ...         ...         ...  \n",
       "1051      2dpi  0.4149  2.183333   42.412756   42.494763  \n",
       "1052      2dpi  0.4149  2.183333   53.950307   56.624170  \n",
       "1053      2dpi  0.4149  2.183333   69.584256   63.063939  \n",
       "1054      2dpi  0.4149  2.183333   83.729297   62.174509  \n",
       "1055      2dpi  0.4149  2.183333   93.903685   58.715586  \n",
       "\n",
       "[976 rows x 12 columns]"
      ]
     },
     "execution_count": 122,
     "metadata": {},
     "output_type": "execute_result"
    }
   ],
   "source": [
    "midline[midline[\"frame\"] >= 10]"
   ]
  },
  {
   "cell_type": "code",
   "execution_count": 43,
   "metadata": {},
   "outputs": [
    {
     "name": "stdout",
     "output_type": "stream",
     "text": [
      "1: /Users/etytel01/Box/Katz lamprey kinematics/2021/Processed Data/Exp_062921/Exp_062921/Animal2/1dpi/063021_A2V5_01DLC_resnet50_LesionsOct13shuffle1_1030000.csv\n",
      "2: /Users/etytel01/Box/Katz lamprey kinematics/2021/Processed Data/Exp_062921/Exp_062921/Animal2/1dpi/063021_A2V5_02DLC_resnet50_LesionsOct13shuffle1_1030000.csv\n",
      "3: /Users/etytel01/Box/Katz lamprey kinematics/2021/Processed Data/Exp_062921/Exp_062921/Animal2/1dpi/063021_A2V5_03DLC_resnet50_LesionsOct13shuffle1_1030000.csv\n",
      "4: /Users/etytel01/Box/Katz lamprey kinematics/2021/Processed Data/Exp_062921/Exp_062921/Animal2/1dpi/063021_A2V5_04DLC_resnet50_LesionsOct13shuffle1_1030000.csv\n",
      "5: /Users/etytel01/Box/Katz lamprey kinematics/2021/Processed Data/Exp_062921/Exp_062921/Animal2/1dpi/063021_A2V5_05DLC_resnet50_LesionsOct13shuffle1_1030000.csv\n",
      "6: /Users/etytel01/Box/Katz lamprey kinematics/2021/Processed Data/Exp_062921/Exp_062921/Animal2/1dpi/063021_A2V5_06DLC_resnet50_LesionsOct13shuffle1_1030000.csv\n",
      "7: /Users/etytel01/Box/Katz lamprey kinematics/2021/Processed Data/Exp_062921/Exp_062921/Animal2/1dpi/063021_A2V6_01DLC_resnet50_LesionsOct13shuffle1_1030000.csv\n",
      "8: /Users/etytel01/Box/Katz lamprey kinematics/2021/Processed Data/Exp_062921/Exp_062921/Animal2/1dpi/063021_A2V6_02DLC_resnet50_LesionsOct13shuffle1_1030000.csv\n",
      "9: /Users/etytel01/Box/Katz lamprey kinematics/2021/Processed Data/Exp_062921/Exp_062921/Animal2/1dpi/063021_A2V6_03DLC_resnet50_LesionsOct13shuffle1_1030000.csv\n",
      "10: /Users/etytel01/Box/Katz lamprey kinematics/2021/Processed Data/Exp_062921/Exp_062921/Animal2/1dpi/063021_A2V6_04DLC_resnet50_LesionsOct13shuffle1_1030000.csv\n",
      "11: /Users/etytel01/Box/Katz lamprey kinematics/2021/Processed Data/Exp_062921/Exp_062921/Animal2/1dpi/063021_A2V6_05DLC_resnet50_LesionsOct13shuffle1_1030000.csv\n",
      "12: /Users/etytel01/Box/Katz lamprey kinematics/2021/Processed Data/Exp_062921/Exp_062921/Animal2/1dpi/063021_A2V6_06DLC_resnet50_LesionsOct13shuffle1_1030000.csv\n",
      "13: /Users/etytel01/Box/Katz lamprey kinematics/2021/Processed Data/Exp_062921/Exp_062921/Animal2/1dpi/063021_A2V6_07DLC_resnet50_LesionsOct13shuffle1_1030000.csv\n",
      "14: /Users/etytel01/Box/Katz lamprey kinematics/2021/Processed Data/Exp_062921/Exp_062921/Animal2/1dpi/063021_A2V6_08DLC_resnet50_LesionsOct13shuffle1_1030000.csv\n",
      "15: /Users/etytel01/Box/Katz lamprey kinematics/2021/Processed Data/Exp_062921/Exp_062921/Animal2/1dpi/063021_A2V6_09DLC_resnet50_LesionsOct13shuffle1_1030000.csv\n",
      "16: /Users/etytel01/Box/Katz lamprey kinematics/2021/Processed Data/Exp_062921/Exp_062921/Animal2/2dpi/063021_A2V13_01DLC_resnet50_LesionsOct13shuffle1_1030000.csv\n",
      "17: /Users/etytel01/Box/Katz lamprey kinematics/2021/Processed Data/Exp_062921/Exp_062921/Animal2/2dpi/063021_A2V13_02DLC_resnet50_LesionsOct13shuffle1_1030000.csv\n",
      "18: /Users/etytel01/Box/Katz lamprey kinematics/2021/Processed Data/Exp_062921/Exp_062921/Animal2/2dpi/063021_A2V13_03DLC_resnet50_LesionsOct13shuffle1_1030000.csv\n",
      "19: /Users/etytel01/Box/Katz lamprey kinematics/2021/Processed Data/Exp_062921/Exp_062921/Animal2/2dpi/063021_A2V13_04DLC_resnet50_LesionsOct13shuffle1_1030000.csv\n",
      "20: /Users/etytel01/Box/Katz lamprey kinematics/2021/Processed Data/Exp_062921/Exp_062921/Animal2/2dpi/063021_A2V13_05DLC_resnet50_LesionsOct13shuffle1_1030000.csv\n",
      "21: /Users/etytel01/Box/Katz lamprey kinematics/2021/Processed Data/Exp_062921/Exp_062921/Animal2/2dpi/063021_A2V13_06DLC_resnet50_LesionsOct13shuffle1_1030000.csv\n",
      "22: /Users/etytel01/Box/Katz lamprey kinematics/2021/Processed Data/Exp_062921/Exp_062921/Animal2/2dpi/063021_A2V13_07DLC_resnet50_LesionsOct13shuffle1_1030000.csv\n",
      "23: /Users/etytel01/Box/Katz lamprey kinematics/2021/Processed Data/Exp_062921/Exp_062921/Animal2/2dpi/063021_A2V13_08DLC_resnet50_LesionsOct13shuffle1_1030000.csv\n",
      "24: /Users/etytel01/Box/Katz lamprey kinematics/2021/Processed Data/Exp_062921/Exp_062921/Animal2/2dpi/063021_A2V14_01DLC_resnet50_LesionsOct13shuffle1_1030000.csv\n",
      "25: /Users/etytel01/Box/Katz lamprey kinematics/2021/Processed Data/Exp_062921/Exp_062921/Animal2/2dpi/063021_A2V14_02DLC_resnet50_LesionsOct13shuffle1_1030000.csv\n",
      "26: /Users/etytel01/Box/Katz lamprey kinematics/2021/Processed Data/Exp_062921/Exp_062921/Animal2/2dpi/063021_A2V14_03DLC_resnet50_LesionsOct13shuffle1_1030000.csv\n",
      "27: /Users/etytel01/Box/Katz lamprey kinematics/2021/Processed Data/Exp_062921/Exp_062921/Animal2/2dpi/063021_A2V15_01DLC_resnet50_LesionsOct13shuffle1_1030000.csv\n",
      "28: /Users/etytel01/Box/Katz lamprey kinematics/2021/Processed Data/Exp_062921/Exp_062921/Animal2/2dpi/063021_A2V15_02DLC_resnet50_LesionsOct13shuffle1_1030000.csv\n",
      "29: /Users/etytel01/Box/Katz lamprey kinematics/2021/Processed Data/Exp_062921/Exp_062921/Animal2/2dpi/063021_A2V15_03DLC_resnet50_LesionsOct13shuffle1_1030000.csv\n",
      "30: /Users/etytel01/Box/Katz lamprey kinematics/2021/Processed Data/Exp_062921/Exp_062921/Animal2/2hpi/062921_A2V19_01DLC_resnet50_LesionsOct13shuffle1_1030000.csv\n",
      "31: /Users/etytel01/Box/Katz lamprey kinematics/2021/Processed Data/Exp_062921/Exp_062921/Animal2/2hpi/062921_A2V19_02DLC_resnet50_LesionsOct13shuffle1_1030000.csv\n",
      "32: /Users/etytel01/Box/Katz lamprey kinematics/2021/Processed Data/Exp_062921/Exp_062921/Animal2/2hpi/062921_A2V19_03DLC_resnet50_LesionsOct13shuffle1_1030000.csv\n",
      "33: /Users/etytel01/Box/Katz lamprey kinematics/2021/Processed Data/Exp_062921/Exp_062921/Animal2/2hpi/062921_A2V19_04DLC_resnet50_LesionsOct13shuffle1_1030000.csv\n",
      "34: /Users/etytel01/Box/Katz lamprey kinematics/2021/Processed Data/Exp_062921/Exp_062921/Animal2/2hpi/062921_A2V19_05DLC_resnet50_LesionsOct13shuffle1_1030000.csv\n",
      "35: /Users/etytel01/Box/Katz lamprey kinematics/2021/Processed Data/Exp_062921/Exp_062921/Animal2/2hpi/062921_A2V19_06DLC_resnet50_LesionsOct13shuffle1_1030000.csv\n",
      "36: /Users/etytel01/Box/Katz lamprey kinematics/2021/Processed Data/Exp_062921/Exp_062921/Animal2/2hpi/062921_A2V19_07DLC_resnet50_LesionsOct13shuffle1_1030000.csv\n",
      "37: /Users/etytel01/Box/Katz lamprey kinematics/2021/Processed Data/Exp_062921/Exp_062921/Animal2/2hpi/062921_A2V19_08DLC_resnet50_LesionsOct13shuffle1_1030000.csv\n",
      "38: /Users/etytel01/Box/Katz lamprey kinematics/2021/Processed Data/Exp_062921/Exp_062921/Animal2/2hpi/062921_A2V19_09DLC_resnet50_LesionsOct13shuffle1_1030000.csv\n",
      "39: /Users/etytel01/Box/Katz lamprey kinematics/2021/Processed Data/Exp_062921/Exp_062921/Animal2/2hpi/062921_A2V19_10DLC_resnet50_LesionsOct13shuffle1_1030000.csv\n",
      "40: /Users/etytel01/Box/Katz lamprey kinematics/2021/Processed Data/Exp_062921/Exp_062921/Animal2/2hpi/062921_A2V19_11DLC_resnet50_LesionsOct13shuffle1_1030000.csv\n",
      "41: /Users/etytel01/Box/Katz lamprey kinematics/2021/Processed Data/Exp_062921/Exp_062921/Animal2/2hpi/062921_A2V19_12DLC_resnet50_LesionsOct13shuffle1_1030000.csv\n",
      "42: /Users/etytel01/Box/Katz lamprey kinematics/2021/Processed Data/Exp_062921/Exp_062921/Animal2/2hpi/062921_A2V19_13DLC_resnet50_LesionsOct13shuffle1_1030000.csv\n",
      "43: /Users/etytel01/Box/Katz lamprey kinematics/2021/Processed Data/Exp_062921/Exp_062921/Animal2/2hpi/062921_A2V19_14DLC_resnet50_LesionsOct13shuffle1_1030000.csv\n",
      "44: /Users/etytel01/Box/Katz lamprey kinematics/2021/Processed Data/Exp_062921/Exp_062921/Animal2/2hpi/062921_A2V19_15DLC_resnet50_LesionsOct13shuffle1_1030000.csv\n",
      "45: /Users/etytel01/Box/Katz lamprey kinematics/2021/Processed Data/Exp_062921/Exp_062921/Animal2/2hpi/062921_A2V19_16DLC_resnet50_LesionsOct13shuffle1_1030000.csv\n",
      "46: /Users/etytel01/Box/Katz lamprey kinematics/2021/Processed Data/Exp_062921/Exp_062921/Animal2/2hpi/062921_A2V19_17DLC_resnet50_LesionsOct13shuffle1_1030000.csv\n",
      "47: /Users/etytel01/Box/Katz lamprey kinematics/2021/Processed Data/Exp_062921/Exp_062921/Animal2/2hpi/062921_A2V20_01DLC_resnet50_LesionsOct13shuffle1_1030000.csv\n",
      "48: /Users/etytel01/Box/Katz lamprey kinematics/2021/Processed Data/Exp_062921/Exp_062921/Animal2/2hpi/062921_A2V20_02DLC_resnet50_LesionsOct13shuffle1_1030000.csv\n",
      "49: /Users/etytel01/Box/Katz lamprey kinematics/2021/Processed Data/Exp_062921/Exp_062921/Animal2/2hpi/062921_A2V20_03DLC_resnet50_LesionsOct13shuffle1_1030000.csv\n",
      "50: /Users/etytel01/Box/Katz lamprey kinematics/2021/Processed Data/Exp_062921/Exp_062921/Animal2/2hpi/062921_A2V20_04DLC_resnet50_LesionsOct13shuffle1_1030000.csv\n",
      "51: /Users/etytel01/Box/Katz lamprey kinematics/2021/Processed Data/Exp_062921/Exp_062921/Animal2/2hpi/062921_A2V20_05DLC_resnet50_LesionsOct13shuffle1_1030000.csv\n",
      "52: /Users/etytel01/Box/Katz lamprey kinematics/2021/Processed Data/Exp_062921/Exp_062921/Animal2/2hpi/062921_A2V20_06DLC_resnet50_LesionsOct13shuffle1_1030000.csv\n",
      "53: /Users/etytel01/Box/Katz lamprey kinematics/2021/Processed Data/Exp_062921/Exp_062921/Animal2/2hpi/062921_A2V20_07DLC_resnet50_LesionsOct13shuffle1_1030000.csv\n",
      "54: /Users/etytel01/Box/Katz lamprey kinematics/2021/Processed Data/Exp_062921/Exp_062921/Animal2/3dpi/070221_A2V05_01DLC_resnet50_LesionsOct13shuffle1_1030000.csv\n",
      "55: /Users/etytel01/Box/Katz lamprey kinematics/2021/Processed Data/Exp_062921/Exp_062921/Animal2/3dpi/070221_A2V05_02DLC_resnet50_LesionsOct13shuffle1_1030000.csv\n",
      "56: /Users/etytel01/Box/Katz lamprey kinematics/2021/Processed Data/Exp_062921/Exp_062921/Animal2/3dpi/070221_A2V05_03(1)DLC_resnet50_LesionsOct13shuffle1_1030000.csv\n",
      "57: /Users/etytel01/Box/Katz lamprey kinematics/2021/Processed Data/Exp_062921/Exp_062921/Animal2/3dpi/070221_A2V05_03(2)DLC_resnet50_LesionsOct13shuffle1_1030000.csv\n",
      "58: /Users/etytel01/Box/Katz lamprey kinematics/2021/Processed Data/Exp_062921/Exp_062921/Animal2/3dpi/070221_A2V05_04DLC_resnet50_LesionsOct13shuffle1_1030000.csv\n",
      "59: /Users/etytel01/Box/Katz lamprey kinematics/2021/Processed Data/Exp_062921/Exp_062921/Animal2/3dpi/070221_A2V05_05DLC_resnet50_LesionsOct13shuffle1_1030000.csv\n",
      "60: /Users/etytel01/Box/Katz lamprey kinematics/2021/Processed Data/Exp_062921/Exp_062921/Animal2/3dpi/070221_A2V06_01DLC_resnet50_LesionsOct13shuffle1_1030000.csv\n",
      "61: /Users/etytel01/Box/Katz lamprey kinematics/2021/Processed Data/Exp_062921/Exp_062921/Animal2/3dpi/070221_A2V06_02DLC_resnet50_LesionsOct13shuffle1_1030000.csv\n",
      "62: /Users/etytel01/Box/Katz lamprey kinematics/2021/Processed Data/Exp_062921/Exp_062921/Animal2/3dpi/070221_A2V06_03DLC_resnet50_LesionsOct13shuffle1_1030000.csv\n",
      "63: /Users/etytel01/Box/Katz lamprey kinematics/2021/Processed Data/Exp_062921/Exp_062921/Animal2/3dpi/070221_A2V06_04DLC_resnet50_LesionsOct13shuffle1_1030000.csv\n",
      "64: /Users/etytel01/Box/Katz lamprey kinematics/2021/Processed Data/Exp_062921/Exp_062921/Animal2/3dpi/070221_A2V06_05DLC_resnet50_LesionsOct13shuffle1_1030000.csv\n",
      "65: /Users/etytel01/Box/Katz lamprey kinematics/2021/Processed Data/Exp_062921/Exp_062921/Animal2/3dpi/070221_A2V06_06DLC_resnet50_LesionsOct13shuffle1_1030000.csv\n",
      "66: /Users/etytel01/Box/Katz lamprey kinematics/2021/Processed Data/Exp_062921/Exp_062921/Animal2/3dpi/070221_A2V06_07DLC_resnet50_LesionsOct13shuffle1_1030000.csv\n",
      "67: /Users/etytel01/Box/Katz lamprey kinematics/2021/Processed Data/Exp_062921/Exp_062921/Animal2/3dpi/070221_A2V06_08DLC_resnet50_LesionsOct13shuffle1_1030000.csv\n",
      "68: /Users/etytel01/Box/Katz lamprey kinematics/2021/Processed Data/Exp_062921/Exp_062921/Animal2/3dpi/070221_A2V06_09DLC_resnet50_LesionsOct13shuffle1_1030000.csv\n",
      "69: /Users/etytel01/Box/Katz lamprey kinematics/2021/Processed Data/Exp_062921/Exp_062921/Animal2/3dpi/070221_A2V06_10DLC_resnet50_LesionsOct13shuffle1_1030000.csv\n",
      "70: /Users/etytel01/Box/Katz lamprey kinematics/2021/Processed Data/Exp_062921/Exp_062921/Animal2/Control/062921_A2V10_01DLC_resnet50_LesionsOct13shuffle1_1030000.csv\n",
      "71: /Users/etytel01/Box/Katz lamprey kinematics/2021/Processed Data/Exp_062921/Exp_062921/Animal2/Control/062921_A2V10_03DLC_resnet50_LesionsOct13shuffle1_1030000.csv\n",
      "72: /Users/etytel01/Box/Katz lamprey kinematics/2021/Processed Data/Exp_062921/Exp_062921/Animal2/Control/062921_A2V10_04DLC_resnet50_LesionsOct13shuffle1_1030000.csv\n",
      "73: /Users/etytel01/Box/Katz lamprey kinematics/2021/Processed Data/Exp_062921/Exp_062921/Animal2/Control/062921_A2V10_05DLC_resnet50_LesionsOct13shuffle1_1030000.csv\n",
      "74: /Users/etytel01/Box/Katz lamprey kinematics/2021/Processed Data/Exp_062921/Exp_062921/Animal2/Control/062921_A2V10_06DLC_resnet50_LesionsOct13shuffle1_1030000.csv\n",
      "75: /Users/etytel01/Box/Katz lamprey kinematics/2021/Processed Data/Exp_062921/Exp_062921/Animal2/Control/062921_A2V10_07DLC_resnet50_LesionsOct13shuffle1_1030000.csv\n",
      "76: /Users/etytel01/Box/Katz lamprey kinematics/2021/Processed Data/Exp_062921/Exp_062921/Animal2/Control/062921_A2V10_08DLC_resnet50_LesionsOct13shuffle1_1030000.csv\n",
      "77: /Users/etytel01/Box/Katz lamprey kinematics/2021/Processed Data/Exp_062921/Exp_062921/Animal2/Control/062921_A2V11_01DLC_resnet50_LesionsOct13shuffle1_1030000.csv\n",
      "78: /Users/etytel01/Box/Katz lamprey kinematics/2021/Processed Data/Exp_062921/Exp_062921/Animal2/Control/062921_A2V11_02DLC_resnet50_LesionsOct13shuffle1_1030000.csv\n",
      "79: /Users/etytel01/Box/Katz lamprey kinematics/2021/Processed Data/Exp_062921/Exp_062921/Animal2/Control/062921_A2V6_01DLC_resnet50_LesionsOct13shuffle1_1030000.csv\n",
      "80: /Users/etytel01/Box/Katz lamprey kinematics/2021/Processed Data/Exp_062921/Exp_062921/Animal2/Control/062921_A2V6_02DLC_resnet50_LesionsOct13shuffle1_1030000.csv\n",
      "81: /Users/etytel01/Box/Katz lamprey kinematics/2021/Processed Data/Exp_062921/Exp_062921/Animal2/Control/062921_A2V6_03DLC_resnet50_LesionsOct13shuffle1_1030000.csv\n",
      "82: /Users/etytel01/Box/Katz lamprey kinematics/2021/Processed Data/Exp_062921/Exp_062921/Animal2/Control/062921_A2V7_01DLC_resnet50_LesionsOct13shuffle1_1030000.csv\n",
      "83: /Users/etytel01/Box/Katz lamprey kinematics/2021/Processed Data/Exp_062921/Exp_062921/Animal2/Control/062921_A2V7_03DLC_resnet50_LesionsOct13shuffle1_1030000.csv\n",
      "84: /Users/etytel01/Box/Katz lamprey kinematics/2021/Processed Data/Exp_062921/Exp_062921/Animal2/Control/062921_A2V8_01DLC_resnet50_LesionsOct13shuffle1_1030000.csv\n",
      "85: /Users/etytel01/Box/Katz lamprey kinematics/2021/Processed Data/Exp_062921/Exp_062921/Animal2/Control/062921_A2V8_02DLC_resnet50_LesionsOct13shuffle1_1030000.csv\n",
      "86: /Users/etytel01/Box/Katz lamprey kinematics/2021/Processed Data/Exp_062921/Exp_062921/Animal2/Control/062921_A2V8_03DLC_resnet50_LesionsOct13shuffle1_1030000.csv\n",
      "87: /Users/etytel01/Box/Katz lamprey kinematics/2021/Processed Data/Exp_062921/Exp_062921/Animal2/Control/062921_A2V8_04DLC_resnet50_LesionsOct13shuffle1_1030000.csv\n",
      "88: /Users/etytel01/Box/Katz lamprey kinematics/2021/Processed Data/Exp_062921/Exp_062921/Animal2/Control/062921_A2V8_05DLC_resnet50_LesionsOct13shuffle1_1030000.csv\n",
      "89: /Users/etytel01/Box/Katz lamprey kinematics/2021/Processed Data/Exp_062921/Exp_062921/Animal2/Control/062921_A2V9_01DLC_resnet50_LesionsOct13shuffle1_1030000.csv\n"
     ]
    }
   ],
   "source": [
    "nfiles = 0\n",
    "\n",
    "for root, dirs, files in os.walk(datadir):\n",
    "    for f1 in files:\n",
    "        basename1, ext = os.path.splitext(f1)\n",
    "        if ext != '.h5':\n",
    "            continue\n",
    "\n",
    "        infile1 = os.path.join(root, f1)\n",
    "        outfile1 = os.path.join(root, basename1 + '.csv')\n",
    "\n",
    "        if os.path.exists(outfile1):\n",
    "            continue\n",
    "        \n",
    "        print('{}: {}'.format(nfiles + 1, outfile1))\n",
    "\n",
    "        midline = pd.read_hdf(infile1)\n",
    "        midline = flatten_DLC_points(midline)\n",
    "\n",
    "\n",
    "        midline.to_csv(outfile1, index=False)\n",
    "        nfiles += 1\n"
   ]
  },
  {
   "cell_type": "code",
   "execution_count": 25,
   "metadata": {},
   "outputs": [
    {
     "name": "stdout",
     "output_type": "stream",
     "text": [
      "Shuffle: DLC_resnet50_LesionsOct13shuffle1_1030000\n"
     ]
    }
   ],
   "source": [
    "shufflename = midline.columns.levels[0][-1]\n",
    "print(\"Shuffle: {}\".format(shufflename))"
   ]
  },
  {
   "cell_type": "markdown",
   "metadata": {},
   "source": [
    "This will get rid of the top level index, which isn't very important for us."
   ]
  },
  {
   "cell_type": "code",
   "execution_count": 27,
   "metadata": {},
   "outputs": [],
   "source": [
    "midline = midline.xs(shufflename, level=\"scorer\", axis=1)"
   ]
  },
  {
   "cell_type": "markdown",
   "metadata": {},
   "source": [
    "Split into x and y arrays"
   ]
  },
  {
   "cell_type": "code",
   "execution_count": 118,
   "metadata": {},
   "outputs": [
    {
     "data": {
      "text/html": [
       "<div>\n",
       "<style scoped>\n",
       "    .dataframe tbody tr th:only-of-type {\n",
       "        vertical-align: middle;\n",
       "    }\n",
       "\n",
       "    .dataframe tbody tr th {\n",
       "        vertical-align: top;\n",
       "    }\n",
       "\n",
       "    .dataframe thead tr th {\n",
       "        text-align: left;\n",
       "    }\n",
       "</style>\n",
       "<table border=\"1\" class=\"dataframe\">\n",
       "  <thead>\n",
       "    <tr>\n",
       "      <th>bodyparts</th>\n",
       "      <th>index</th>\n",
       "      <th colspan=\"3\" halign=\"left\">snout</th>\n",
       "      <th colspan=\"3\" halign=\"left\">gill</th>\n",
       "      <th colspan=\"3\" halign=\"left\">mid1</th>\n",
       "      <th>...</th>\n",
       "      <th>anus</th>\n",
       "      <th colspan=\"3\" halign=\"left\">mid4</th>\n",
       "      <th colspan=\"3\" halign=\"left\">tailbase</th>\n",
       "      <th colspan=\"3\" halign=\"left\">tailtip</th>\n",
       "    </tr>\n",
       "    <tr>\n",
       "      <th>coords</th>\n",
       "      <th></th>\n",
       "      <th>x</th>\n",
       "      <th>y</th>\n",
       "      <th>likelihood</th>\n",
       "      <th>x</th>\n",
       "      <th>y</th>\n",
       "      <th>likelihood</th>\n",
       "      <th>x</th>\n",
       "      <th>y</th>\n",
       "      <th>likelihood</th>\n",
       "      <th>...</th>\n",
       "      <th>likelihood</th>\n",
       "      <th>x</th>\n",
       "      <th>y</th>\n",
       "      <th>likelihood</th>\n",
       "      <th>x</th>\n",
       "      <th>y</th>\n",
       "      <th>likelihood</th>\n",
       "      <th>x</th>\n",
       "      <th>y</th>\n",
       "      <th>likelihood</th>\n",
       "    </tr>\n",
       "  </thead>\n",
       "  <tbody>\n",
       "    <tr>\n",
       "      <th>0</th>\n",
       "      <td>0</td>\n",
       "      <td>805.507202</td>\n",
       "      <td>269.256775</td>\n",
       "      <td>0.999997</td>\n",
       "      <td>851.992126</td>\n",
       "      <td>275.009308</td>\n",
       "      <td>0.999897</td>\n",
       "      <td>896.400146</td>\n",
       "      <td>270.211273</td>\n",
       "      <td>0.998845</td>\n",
       "      <td>...</td>\n",
       "      <td>0.996928</td>\n",
       "      <td>1012.632080</td>\n",
       "      <td>246.722748</td>\n",
       "      <td>0.996878</td>\n",
       "      <td>1038.379028</td>\n",
       "      <td>262.566345</td>\n",
       "      <td>0.997818</td>\n",
       "      <td>1051.980591</td>\n",
       "      <td>277.437653</td>\n",
       "      <td>0.999360</td>\n",
       "    </tr>\n",
       "    <tr>\n",
       "      <th>1</th>\n",
       "      <td>1</td>\n",
       "      <td>799.924133</td>\n",
       "      <td>266.169647</td>\n",
       "      <td>0.999982</td>\n",
       "      <td>846.198303</td>\n",
       "      <td>274.019318</td>\n",
       "      <td>0.999842</td>\n",
       "      <td>891.261597</td>\n",
       "      <td>273.894501</td>\n",
       "      <td>0.999570</td>\n",
       "      <td>...</td>\n",
       "      <td>0.999301</td>\n",
       "      <td>1005.258423</td>\n",
       "      <td>241.948837</td>\n",
       "      <td>0.999426</td>\n",
       "      <td>1032.572998</td>\n",
       "      <td>251.593765</td>\n",
       "      <td>0.999510</td>\n",
       "      <td>1046.555176</td>\n",
       "      <td>263.973999</td>\n",
       "      <td>0.998138</td>\n",
       "    </tr>\n",
       "    <tr>\n",
       "      <th>2</th>\n",
       "      <td>2</td>\n",
       "      <td>794.135559</td>\n",
       "      <td>262.285675</td>\n",
       "      <td>0.999994</td>\n",
       "      <td>840.605408</td>\n",
       "      <td>273.317108</td>\n",
       "      <td>0.999183</td>\n",
       "      <td>884.112549</td>\n",
       "      <td>275.111511</td>\n",
       "      <td>0.999463</td>\n",
       "      <td>...</td>\n",
       "      <td>0.998824</td>\n",
       "      <td>996.298645</td>\n",
       "      <td>239.050049</td>\n",
       "      <td>0.998586</td>\n",
       "      <td>1021.531250</td>\n",
       "      <td>243.133667</td>\n",
       "      <td>0.999608</td>\n",
       "      <td>1038.262695</td>\n",
       "      <td>251.611435</td>\n",
       "      <td>0.999611</td>\n",
       "    </tr>\n",
       "    <tr>\n",
       "      <th>3</th>\n",
       "      <td>3</td>\n",
       "      <td>787.785400</td>\n",
       "      <td>258.928406</td>\n",
       "      <td>0.999999</td>\n",
       "      <td>831.362305</td>\n",
       "      <td>271.491882</td>\n",
       "      <td>0.999712</td>\n",
       "      <td>872.850708</td>\n",
       "      <td>277.839874</td>\n",
       "      <td>0.999196</td>\n",
       "      <td>...</td>\n",
       "      <td>0.994730</td>\n",
       "      <td>983.460022</td>\n",
       "      <td>240.125961</td>\n",
       "      <td>0.997416</td>\n",
       "      <td>1011.008057</td>\n",
       "      <td>237.750000</td>\n",
       "      <td>0.999897</td>\n",
       "      <td>1030.147583</td>\n",
       "      <td>242.828293</td>\n",
       "      <td>0.999896</td>\n",
       "    </tr>\n",
       "    <tr>\n",
       "      <th>4</th>\n",
       "      <td>4</td>\n",
       "      <td>782.153931</td>\n",
       "      <td>256.069397</td>\n",
       "      <td>0.999980</td>\n",
       "      <td>825.138123</td>\n",
       "      <td>268.755859</td>\n",
       "      <td>0.999614</td>\n",
       "      <td>863.695801</td>\n",
       "      <td>279.627777</td>\n",
       "      <td>0.997954</td>\n",
       "      <td>...</td>\n",
       "      <td>0.995010</td>\n",
       "      <td>978.418335</td>\n",
       "      <td>242.866409</td>\n",
       "      <td>0.999220</td>\n",
       "      <td>1004.564148</td>\n",
       "      <td>236.727127</td>\n",
       "      <td>0.999878</td>\n",
       "      <td>1024.317505</td>\n",
       "      <td>238.298904</td>\n",
       "      <td>0.999851</td>\n",
       "    </tr>\n",
       "    <tr>\n",
       "      <th>...</th>\n",
       "      <td>...</td>\n",
       "      <td>...</td>\n",
       "      <td>...</td>\n",
       "      <td>...</td>\n",
       "      <td>...</td>\n",
       "      <td>...</td>\n",
       "      <td>...</td>\n",
       "      <td>...</td>\n",
       "      <td>...</td>\n",
       "      <td>...</td>\n",
       "      <td>...</td>\n",
       "      <td>...</td>\n",
       "      <td>...</td>\n",
       "      <td>...</td>\n",
       "      <td>...</td>\n",
       "      <td>...</td>\n",
       "      <td>...</td>\n",
       "      <td>...</td>\n",
       "      <td>...</td>\n",
       "      <td>...</td>\n",
       "      <td>...</td>\n",
       "    </tr>\n",
       "    <tr>\n",
       "      <th>127</th>\n",
       "      <td>127</td>\n",
       "      <td>42.041489</td>\n",
       "      <td>21.862974</td>\n",
       "      <td>0.999502</td>\n",
       "      <td>71.495865</td>\n",
       "      <td>52.025368</td>\n",
       "      <td>0.998195</td>\n",
       "      <td>93.890007</td>\n",
       "      <td>90.628922</td>\n",
       "      <td>0.993461</td>\n",
       "      <td>...</td>\n",
       "      <td>0.993607</td>\n",
       "      <td>192.170700</td>\n",
       "      <td>143.837234</td>\n",
       "      <td>0.995228</td>\n",
       "      <td>222.137222</td>\n",
       "      <td>143.016449</td>\n",
       "      <td>0.997092</td>\n",
       "      <td>255.910355</td>\n",
       "      <td>142.026337</td>\n",
       "      <td>0.999389</td>\n",
       "    </tr>\n",
       "    <tr>\n",
       "      <th>128</th>\n",
       "      <td>128</td>\n",
       "      <td>35.835537</td>\n",
       "      <td>18.121704</td>\n",
       "      <td>0.999965</td>\n",
       "      <td>66.932800</td>\n",
       "      <td>47.324997</td>\n",
       "      <td>0.996320</td>\n",
       "      <td>91.247452</td>\n",
       "      <td>83.815018</td>\n",
       "      <td>0.986256</td>\n",
       "      <td>...</td>\n",
       "      <td>0.988230</td>\n",
       "      <td>187.581085</td>\n",
       "      <td>146.080948</td>\n",
       "      <td>0.996607</td>\n",
       "      <td>221.529160</td>\n",
       "      <td>142.289337</td>\n",
       "      <td>0.995644</td>\n",
       "      <td>251.012695</td>\n",
       "      <td>140.705276</td>\n",
       "      <td>0.999943</td>\n",
       "    </tr>\n",
       "    <tr>\n",
       "      <th>129</th>\n",
       "      <td>129</td>\n",
       "      <td>30.526577</td>\n",
       "      <td>14.828379</td>\n",
       "      <td>0.998960</td>\n",
       "      <td>65.308456</td>\n",
       "      <td>46.052628</td>\n",
       "      <td>0.995395</td>\n",
       "      <td>88.988815</td>\n",
       "      <td>79.244041</td>\n",
       "      <td>0.986264</td>\n",
       "      <td>...</td>\n",
       "      <td>0.995456</td>\n",
       "      <td>180.305817</td>\n",
       "      <td>148.374847</td>\n",
       "      <td>0.999637</td>\n",
       "      <td>212.659836</td>\n",
       "      <td>144.845459</td>\n",
       "      <td>0.999549</td>\n",
       "      <td>241.566422</td>\n",
       "      <td>138.927628</td>\n",
       "      <td>0.999970</td>\n",
       "    </tr>\n",
       "    <tr>\n",
       "      <th>130</th>\n",
       "      <td>130</td>\n",
       "      <td>24.000473</td>\n",
       "      <td>11.739753</td>\n",
       "      <td>0.998812</td>\n",
       "      <td>61.215580</td>\n",
       "      <td>40.943035</td>\n",
       "      <td>0.998110</td>\n",
       "      <td>85.339905</td>\n",
       "      <td>73.733307</td>\n",
       "      <td>0.994646</td>\n",
       "      <td>...</td>\n",
       "      <td>0.998459</td>\n",
       "      <td>173.242691</td>\n",
       "      <td>150.525726</td>\n",
       "      <td>0.999405</td>\n",
       "      <td>207.471832</td>\n",
       "      <td>147.204727</td>\n",
       "      <td>0.999755</td>\n",
       "      <td>234.311005</td>\n",
       "      <td>139.556335</td>\n",
       "      <td>0.999943</td>\n",
       "    </tr>\n",
       "    <tr>\n",
       "      <th>131</th>\n",
       "      <td>131</td>\n",
       "      <td>17.691586</td>\n",
       "      <td>10.456287</td>\n",
       "      <td>0.997517</td>\n",
       "      <td>54.256935</td>\n",
       "      <td>37.202038</td>\n",
       "      <td>0.999876</td>\n",
       "      <td>81.512474</td>\n",
       "      <td>66.538475</td>\n",
       "      <td>0.998864</td>\n",
       "      <td>...</td>\n",
       "      <td>0.995628</td>\n",
       "      <td>167.713318</td>\n",
       "      <td>151.997925</td>\n",
       "      <td>0.998067</td>\n",
       "      <td>201.805969</td>\n",
       "      <td>149.854202</td>\n",
       "      <td>0.999520</td>\n",
       "      <td>226.328476</td>\n",
       "      <td>141.517441</td>\n",
       "      <td>0.999977</td>\n",
       "    </tr>\n",
       "  </tbody>\n",
       "</table>\n",
       "<p>132 rows × 25 columns</p>\n",
       "</div>"
      ],
      "text/plain": [
       "bodyparts index       snout                               gill              \\\n",
       "coords                    x           y likelihood           x           y   \n",
       "0             0  805.507202  269.256775   0.999997  851.992126  275.009308   \n",
       "1             1  799.924133  266.169647   0.999982  846.198303  274.019318   \n",
       "2             2  794.135559  262.285675   0.999994  840.605408  273.317108   \n",
       "3             3  787.785400  258.928406   0.999999  831.362305  271.491882   \n",
       "4             4  782.153931  256.069397   0.999980  825.138123  268.755859   \n",
       "..          ...         ...         ...        ...         ...         ...   \n",
       "127         127   42.041489   21.862974   0.999502   71.495865   52.025368   \n",
       "128         128   35.835537   18.121704   0.999965   66.932800   47.324997   \n",
       "129         129   30.526577   14.828379   0.998960   65.308456   46.052628   \n",
       "130         130   24.000473   11.739753   0.998812   61.215580   40.943035   \n",
       "131         131   17.691586   10.456287   0.997517   54.256935   37.202038   \n",
       "\n",
       "bodyparts                   mid1                         ...       anus  \\\n",
       "coords    likelihood           x           y likelihood  ... likelihood   \n",
       "0           0.999897  896.400146  270.211273   0.998845  ...   0.996928   \n",
       "1           0.999842  891.261597  273.894501   0.999570  ...   0.999301   \n",
       "2           0.999183  884.112549  275.111511   0.999463  ...   0.998824   \n",
       "3           0.999712  872.850708  277.839874   0.999196  ...   0.994730   \n",
       "4           0.999614  863.695801  279.627777   0.997954  ...   0.995010   \n",
       "..               ...         ...         ...        ...  ...        ...   \n",
       "127         0.998195   93.890007   90.628922   0.993461  ...   0.993607   \n",
       "128         0.996320   91.247452   83.815018   0.986256  ...   0.988230   \n",
       "129         0.995395   88.988815   79.244041   0.986264  ...   0.995456   \n",
       "130         0.998110   85.339905   73.733307   0.994646  ...   0.998459   \n",
       "131         0.999876   81.512474   66.538475   0.998864  ...   0.995628   \n",
       "\n",
       "bodyparts         mid4                            tailbase              \\\n",
       "coords               x           y likelihood            x           y   \n",
       "0          1012.632080  246.722748   0.996878  1038.379028  262.566345   \n",
       "1          1005.258423  241.948837   0.999426  1032.572998  251.593765   \n",
       "2           996.298645  239.050049   0.998586  1021.531250  243.133667   \n",
       "3           983.460022  240.125961   0.997416  1011.008057  237.750000   \n",
       "4           978.418335  242.866409   0.999220  1004.564148  236.727127   \n",
       "..                 ...         ...        ...          ...         ...   \n",
       "127         192.170700  143.837234   0.995228   222.137222  143.016449   \n",
       "128         187.581085  146.080948   0.996607   221.529160  142.289337   \n",
       "129         180.305817  148.374847   0.999637   212.659836  144.845459   \n",
       "130         173.242691  150.525726   0.999405   207.471832  147.204727   \n",
       "131         167.713318  151.997925   0.998067   201.805969  149.854202   \n",
       "\n",
       "bodyparts                 tailtip                         \n",
       "coords    likelihood            x           y likelihood  \n",
       "0           0.997818  1051.980591  277.437653   0.999360  \n",
       "1           0.999510  1046.555176  263.973999   0.998138  \n",
       "2           0.999608  1038.262695  251.611435   0.999611  \n",
       "3           0.999897  1030.147583  242.828293   0.999896  \n",
       "4           0.999878  1024.317505  238.298904   0.999851  \n",
       "..               ...          ...         ...        ...  \n",
       "127         0.997092   255.910355  142.026337   0.999389  \n",
       "128         0.995644   251.012695  140.705276   0.999943  \n",
       "129         0.999549   241.566422  138.927628   0.999970  \n",
       "130         0.999755   234.311005  139.556335   0.999943  \n",
       "131         0.999520   226.328476  141.517441   0.999977  \n",
       "\n",
       "[132 rows x 25 columns]"
      ]
     },
     "execution_count": 118,
     "metadata": {},
     "output_type": "execute_result"
    }
   ],
   "source": [
    "midline.reset_index()"
   ]
  },
  {
   "cell_type": "code",
   "execution_count": 71,
   "metadata": {},
   "outputs": [
    {
     "data": {
      "text/plain": [
       "Int64Index([  0,   1,   2,   3,   4,   5,   6,   7,   8,   9,\n",
       "            ...\n",
       "            122, 123, 124, 125, 126, 127, 128, 129, 130, 131],\n",
       "           dtype='int64', length=132)"
      ]
     },
     "execution_count": 71,
     "metadata": {},
     "output_type": "execute_result"
    }
   ],
   "source": []
  },
  {
   "cell_type": "code",
   "execution_count": 59,
   "metadata": {},
   "outputs": [],
   "source": [
    "pointorder = ['snout', 'gill', 'mid1', 'mid2', 'anus', 'mid4',  'tailbase', 'tailtip']"
   ]
  },
  {
   "cell_type": "code",
   "execution_count": 17,
   "metadata": {},
   "outputs": [],
   "source": [
    "x = midline.xs(\"x\", level=\"coords\", axis=1)\n",
    "y = midline.xs(\"y\", level=\"coords\", axis=1)"
   ]
  },
  {
   "cell_type": "code",
   "execution_count": 28,
   "metadata": {},
   "outputs": [],
   "source": [
    "x = x.stack()\n",
    "y = y.stack()"
   ]
  },
  {
   "cell_type": "code",
   "execution_count": 81,
   "metadata": {},
   "outputs": [
    {
     "data": {
      "text/html": [
       "<div>\n",
       "<style scoped>\n",
       "    .dataframe tbody tr th:only-of-type {\n",
       "        vertical-align: middle;\n",
       "    }\n",
       "\n",
       "    .dataframe tbody tr th {\n",
       "        vertical-align: top;\n",
       "    }\n",
       "\n",
       "    .dataframe thead th {\n",
       "        text-align: right;\n",
       "    }\n",
       "</style>\n",
       "<table border=\"1\" class=\"dataframe\">\n",
       "  <thead>\n",
       "    <tr style=\"text-align: right;\">\n",
       "      <th></th>\n",
       "      <th>scorer</th>\n",
       "      <th>DLC_resnet50_LesionsOct13shuffle1_1030000</th>\n",
       "    </tr>\n",
       "    <tr>\n",
       "      <th></th>\n",
       "      <th>bodyparts</th>\n",
       "      <th></th>\n",
       "    </tr>\n",
       "  </thead>\n",
       "  <tbody>\n",
       "    <tr>\n",
       "      <th rowspan=\"5\" valign=\"top\">0</th>\n",
       "      <th>anus</th>\n",
       "      <td>975.182983</td>\n",
       "    </tr>\n",
       "    <tr>\n",
       "      <th>gill</th>\n",
       "      <td>851.992126</td>\n",
       "    </tr>\n",
       "    <tr>\n",
       "      <th>mid1</th>\n",
       "      <td>896.400146</td>\n",
       "    </tr>\n",
       "    <tr>\n",
       "      <th>mid2</th>\n",
       "      <td>936.800476</td>\n",
       "    </tr>\n",
       "    <tr>\n",
       "      <th>mid4</th>\n",
       "      <td>1012.632080</td>\n",
       "    </tr>\n",
       "    <tr>\n",
       "      <th>...</th>\n",
       "      <th>...</th>\n",
       "      <td>...</td>\n",
       "    </tr>\n",
       "    <tr>\n",
       "      <th rowspan=\"5\" valign=\"top\">131</th>\n",
       "      <th>mid2</th>\n",
       "      <td>102.224045</td>\n",
       "    </tr>\n",
       "    <tr>\n",
       "      <th>mid4</th>\n",
       "      <td>167.713318</td>\n",
       "    </tr>\n",
       "    <tr>\n",
       "      <th>snout</th>\n",
       "      <td>17.691586</td>\n",
       "    </tr>\n",
       "    <tr>\n",
       "      <th>tailbase</th>\n",
       "      <td>201.805969</td>\n",
       "    </tr>\n",
       "    <tr>\n",
       "      <th>tailtip</th>\n",
       "      <td>226.328476</td>\n",
       "    </tr>\n",
       "  </tbody>\n",
       "</table>\n",
       "<p>1056 rows × 1 columns</p>\n",
       "</div>"
      ],
      "text/plain": [
       "scorer         DLC_resnet50_LesionsOct13shuffle1_1030000\n",
       "    bodyparts                                           \n",
       "0   anus                                      975.182983\n",
       "    gill                                      851.992126\n",
       "    mid1                                      896.400146\n",
       "    mid2                                      936.800476\n",
       "    mid4                                     1012.632080\n",
       "...                                                  ...\n",
       "131 mid2                                      102.224045\n",
       "    mid4                                      167.713318\n",
       "    snout                                      17.691586\n",
       "    tailbase                                  201.805969\n",
       "    tailtip                                   226.328476\n",
       "\n",
       "[1056 rows x 1 columns]"
      ]
     },
     "execution_count": 81,
     "metadata": {},
     "output_type": "execute_result"
    }
   ],
   "source": [
    "x"
   ]
  },
  {
   "cell_type": "code",
   "execution_count": 84,
   "metadata": {},
   "outputs": [
    {
     "data": {
      "text/html": [
       "<div>\n",
       "<style scoped>\n",
       "    .dataframe tbody tr th:only-of-type {\n",
       "        vertical-align: middle;\n",
       "    }\n",
       "\n",
       "    .dataframe tbody tr th {\n",
       "        vertical-align: top;\n",
       "    }\n",
       "\n",
       "    .dataframe thead th {\n",
       "        text-align: right;\n",
       "    }\n",
       "</style>\n",
       "<table border=\"1\" class=\"dataframe\">\n",
       "  <thead>\n",
       "    <tr style=\"text-align: right;\">\n",
       "      <th></th>\n",
       "      <th>scorer</th>\n",
       "      <th>DLC_resnet50_LesionsOct13shuffle1_1030000</th>\n",
       "    </tr>\n",
       "    <tr>\n",
       "      <th></th>\n",
       "      <th>bodyparts</th>\n",
       "      <th></th>\n",
       "    </tr>\n",
       "  </thead>\n",
       "  <tbody>\n",
       "    <tr>\n",
       "      <th>0</th>\n",
       "      <th>snout</th>\n",
       "      <td>805.507202</td>\n",
       "    </tr>\n",
       "    <tr>\n",
       "      <th>1</th>\n",
       "      <th>snout</th>\n",
       "      <td>799.924133</td>\n",
       "    </tr>\n",
       "    <tr>\n",
       "      <th>2</th>\n",
       "      <th>snout</th>\n",
       "      <td>794.135559</td>\n",
       "    </tr>\n",
       "    <tr>\n",
       "      <th>3</th>\n",
       "      <th>snout</th>\n",
       "      <td>787.785400</td>\n",
       "    </tr>\n",
       "    <tr>\n",
       "      <th>4</th>\n",
       "      <th>snout</th>\n",
       "      <td>782.153931</td>\n",
       "    </tr>\n",
       "    <tr>\n",
       "      <th>...</th>\n",
       "      <th>...</th>\n",
       "      <td>...</td>\n",
       "    </tr>\n",
       "    <tr>\n",
       "      <th>127</th>\n",
       "      <th>tailtip</th>\n",
       "      <td>255.910355</td>\n",
       "    </tr>\n",
       "    <tr>\n",
       "      <th>128</th>\n",
       "      <th>tailtip</th>\n",
       "      <td>251.012695</td>\n",
       "    </tr>\n",
       "    <tr>\n",
       "      <th>129</th>\n",
       "      <th>tailtip</th>\n",
       "      <td>241.566422</td>\n",
       "    </tr>\n",
       "    <tr>\n",
       "      <th>130</th>\n",
       "      <th>tailtip</th>\n",
       "      <td>234.311005</td>\n",
       "    </tr>\n",
       "    <tr>\n",
       "      <th>131</th>\n",
       "      <th>tailtip</th>\n",
       "      <td>226.328476</td>\n",
       "    </tr>\n",
       "  </tbody>\n",
       "</table>\n",
       "<p>1056 rows × 1 columns</p>\n",
       "</div>"
      ],
      "text/plain": [
       "scorer         DLC_resnet50_LesionsOct13shuffle1_1030000\n",
       "    bodyparts                                           \n",
       "0   snout                                     805.507202\n",
       "1   snout                                     799.924133\n",
       "2   snout                                     794.135559\n",
       "3   snout                                     787.785400\n",
       "4   snout                                     782.153931\n",
       "...                                                  ...\n",
       "127 tailtip                                   255.910355\n",
       "128 tailtip                                   251.012695\n",
       "129 tailtip                                   241.566422\n",
       "130 tailtip                                   234.311005\n",
       "131 tailtip                                   226.328476\n",
       "\n",
       "[1056 rows x 1 columns]"
      ]
     },
     "execution_count": 84,
     "metadata": {},
     "output_type": "execute_result"
    }
   ],
   "source": [
    "x.loc[(slice(None), pointorder), slice(None)]"
   ]
  },
  {
   "cell_type": "code",
   "execution_count": 77,
   "metadata": {},
   "outputs": [
    {
     "data": {
      "text/plain": [
       "MultiIndex([(  0,     'anus'),\n",
       "            (  0,     'gill'),\n",
       "            (  0,     'mid1'),\n",
       "            (  0,     'mid2'),\n",
       "            (  0,     'mid4'),\n",
       "            (  0,    'snout'),\n",
       "            (  0, 'tailbase'),\n",
       "            (  0,  'tailtip'),\n",
       "            (  1,     'anus'),\n",
       "            (  1,     'gill'),\n",
       "            ...\n",
       "            (130, 'tailbase'),\n",
       "            (130,  'tailtip'),\n",
       "            (131,     'anus'),\n",
       "            (131,     'gill'),\n",
       "            (131,     'mid1'),\n",
       "            (131,     'mid2'),\n",
       "            (131,     'mid4'),\n",
       "            (131,    'snout'),\n",
       "            (131, 'tailbase'),\n",
       "            (131,  'tailtip')],\n",
       "           names=[None, 'bodyparts'], length=1056)"
      ]
     },
     "execution_count": 77,
     "metadata": {},
     "output_type": "execute_result"
    }
   ],
   "source": [
    "x.index"
   ]
  },
  {
   "cell_type": "code",
   "execution_count": 90,
   "metadata": {},
   "outputs": [],
   "source": [
    "idx = pd.IndexSlice\n",
    "xy = midline.loc[:, idx[:, [\"x\", \"y\"]]].stack(0)"
   ]
  },
  {
   "cell_type": "code",
   "execution_count": 94,
   "metadata": {},
   "outputs": [
    {
     "data": {
      "text/html": [
       "<div>\n",
       "<style scoped>\n",
       "    .dataframe tbody tr th:only-of-type {\n",
       "        vertical-align: middle;\n",
       "    }\n",
       "\n",
       "    .dataframe tbody tr th {\n",
       "        vertical-align: top;\n",
       "    }\n",
       "\n",
       "    .dataframe thead th {\n",
       "        text-align: right;\n",
       "    }\n",
       "</style>\n",
       "<table border=\"1\" class=\"dataframe\">\n",
       "  <thead>\n",
       "    <tr style=\"text-align: right;\">\n",
       "      <th>coords</th>\n",
       "      <th>level_0</th>\n",
       "      <th>bodyparts</th>\n",
       "      <th>x</th>\n",
       "      <th>y</th>\n",
       "    </tr>\n",
       "  </thead>\n",
       "  <tbody>\n",
       "    <tr>\n",
       "      <th>0</th>\n",
       "      <td>0</td>\n",
       "      <td>anus</td>\n",
       "      <td>975.182983</td>\n",
       "      <td>241.875992</td>\n",
       "    </tr>\n",
       "    <tr>\n",
       "      <th>1</th>\n",
       "      <td>0</td>\n",
       "      <td>gill</td>\n",
       "      <td>851.992126</td>\n",
       "      <td>275.009308</td>\n",
       "    </tr>\n",
       "    <tr>\n",
       "      <th>2</th>\n",
       "      <td>0</td>\n",
       "      <td>mid1</td>\n",
       "      <td>896.400146</td>\n",
       "      <td>270.211273</td>\n",
       "    </tr>\n",
       "    <tr>\n",
       "      <th>3</th>\n",
       "      <td>0</td>\n",
       "      <td>mid2</td>\n",
       "      <td>936.800476</td>\n",
       "      <td>252.487213</td>\n",
       "    </tr>\n",
       "    <tr>\n",
       "      <th>4</th>\n",
       "      <td>0</td>\n",
       "      <td>mid4</td>\n",
       "      <td>1012.632080</td>\n",
       "      <td>246.722748</td>\n",
       "    </tr>\n",
       "    <tr>\n",
       "      <th>...</th>\n",
       "      <td>...</td>\n",
       "      <td>...</td>\n",
       "      <td>...</td>\n",
       "      <td>...</td>\n",
       "    </tr>\n",
       "    <tr>\n",
       "      <th>1051</th>\n",
       "      <td>131</td>\n",
       "      <td>mid2</td>\n",
       "      <td>102.224045</td>\n",
       "      <td>102.421700</td>\n",
       "    </tr>\n",
       "    <tr>\n",
       "      <th>1052</th>\n",
       "      <td>131</td>\n",
       "      <td>mid4</td>\n",
       "      <td>167.713318</td>\n",
       "      <td>151.997925</td>\n",
       "    </tr>\n",
       "    <tr>\n",
       "      <th>1053</th>\n",
       "      <td>131</td>\n",
       "      <td>snout</td>\n",
       "      <td>17.691586</td>\n",
       "      <td>10.456287</td>\n",
       "    </tr>\n",
       "    <tr>\n",
       "      <th>1054</th>\n",
       "      <td>131</td>\n",
       "      <td>tailbase</td>\n",
       "      <td>201.805969</td>\n",
       "      <td>149.854202</td>\n",
       "    </tr>\n",
       "    <tr>\n",
       "      <th>1055</th>\n",
       "      <td>131</td>\n",
       "      <td>tailtip</td>\n",
       "      <td>226.328476</td>\n",
       "      <td>141.517441</td>\n",
       "    </tr>\n",
       "  </tbody>\n",
       "</table>\n",
       "<p>1056 rows × 4 columns</p>\n",
       "</div>"
      ],
      "text/plain": [
       "coords  level_0 bodyparts            x           y\n",
       "0             0      anus   975.182983  241.875992\n",
       "1             0      gill   851.992126  275.009308\n",
       "2             0      mid1   896.400146  270.211273\n",
       "3             0      mid2   936.800476  252.487213\n",
       "4             0      mid4  1012.632080  246.722748\n",
       "...         ...       ...          ...         ...\n",
       "1051        131      mid2   102.224045  102.421700\n",
       "1052        131      mid4   167.713318  151.997925\n",
       "1053        131     snout    17.691586   10.456287\n",
       "1054        131  tailbase   201.805969  149.854202\n",
       "1055        131   tailtip   226.328476  141.517441\n",
       "\n",
       "[1056 rows x 4 columns]"
      ]
     },
     "execution_count": 94,
     "metadata": {},
     "output_type": "execute_result"
    }
   ],
   "source": [
    "xy = xy.reset_index()\n",
    "xy"
   ]
  },
  {
   "cell_type": "code",
   "execution_count": 96,
   "metadata": {},
   "outputs": [],
   "source": [
    "xy = xy.rename(columns={\"level_0\": \"frame\"})"
   ]
  },
  {
   "cell_type": "code",
   "execution_count": 105,
   "metadata": {},
   "outputs": [],
   "source": [
    "xy[\"bodyparts\"] = xy[\"bodyparts\"].astype(\"category\").cat.reorder_categories(pointorder)"
   ]
  },
  {
   "cell_type": "code",
   "execution_count": 111,
   "metadata": {},
   "outputs": [],
   "source": [
    "xy = xy.sort_values(['frame', 'bodyparts'])"
   ]
  },
  {
   "cell_type": "code",
   "execution_count": 89,
   "metadata": {},
   "outputs": [],
   "source": [
    "xy = xy.loc[(slice(None), pointorder),]"
   ]
  },
  {
   "cell_type": "code",
   "execution_count": 120,
   "metadata": {},
   "outputs": [],
   "source": [
    "def flatten_DLC_points(df):\n",
    "    scorer = df.columns.levels[0][-1]\n",
    "    df = df.xs(shufflename, level=\"scorer\", axis=1)\n",
    "\n",
    "    return df"
   ]
  },
  {
   "cell_type": "code",
   "execution_count": 121,
   "metadata": {},
   "outputs": [
    {
     "ename": "KeyError",
     "evalue": "'Level scorer not found'",
     "output_type": "error",
     "traceback": [
      "\u001b[0;31m---------------------------------------------------------------------------\u001b[0m",
      "\u001b[0;31mValueError\u001b[0m                                Traceback (most recent call last)",
      "\u001b[0;32m~/opt/anaconda3/envs/DEEPLABCUT/lib/python3.8/site-packages/pandas/core/indexes/multi.py\u001b[0m in \u001b[0;36m_get_level_number\u001b[0;34m(self, level)\u001b[0m\n\u001b[1;32m   1522\u001b[0m         \u001b[0;32mtry\u001b[0m\u001b[0;34m:\u001b[0m\u001b[0;34m\u001b[0m\u001b[0;34m\u001b[0m\u001b[0m\n\u001b[0;32m-> 1523\u001b[0;31m             \u001b[0mlevel\u001b[0m \u001b[0;34m=\u001b[0m \u001b[0mself\u001b[0m\u001b[0;34m.\u001b[0m\u001b[0mnames\u001b[0m\u001b[0;34m.\u001b[0m\u001b[0mindex\u001b[0m\u001b[0;34m(\u001b[0m\u001b[0mlevel\u001b[0m\u001b[0;34m)\u001b[0m\u001b[0;34m\u001b[0m\u001b[0;34m\u001b[0m\u001b[0m\n\u001b[0m\u001b[1;32m   1524\u001b[0m         \u001b[0;32mexcept\u001b[0m \u001b[0mValueError\u001b[0m \u001b[0;32mas\u001b[0m \u001b[0merr\u001b[0m\u001b[0;34m:\u001b[0m\u001b[0;34m\u001b[0m\u001b[0;34m\u001b[0m\u001b[0m\n",
      "\u001b[0;31mValueError\u001b[0m: 'scorer' is not in list",
      "\nThe above exception was the direct cause of the following exception:\n",
      "\u001b[0;31mKeyError\u001b[0m                                  Traceback (most recent call last)",
      "\u001b[0;32m/var/folders/rs/r2xck00j2td2g2w0g6s_t2lx370bnk/T/ipykernel_2275/3686032887.py\u001b[0m in \u001b[0;36m<module>\u001b[0;34m\u001b[0m\n\u001b[0;32m----> 1\u001b[0;31m \u001b[0mflatten_DLC_points\u001b[0m\u001b[0;34m(\u001b[0m\u001b[0mmidline\u001b[0m\u001b[0;34m)\u001b[0m\u001b[0;34m\u001b[0m\u001b[0;34m\u001b[0m\u001b[0m\n\u001b[0m",
      "\u001b[0;32m/var/folders/rs/r2xck00j2td2g2w0g6s_t2lx370bnk/T/ipykernel_2275/3767454772.py\u001b[0m in \u001b[0;36mflatten_DLC_points\u001b[0;34m(df)\u001b[0m\n\u001b[1;32m      1\u001b[0m \u001b[0;32mdef\u001b[0m \u001b[0mflatten_DLC_points\u001b[0m\u001b[0;34m(\u001b[0m\u001b[0mdf\u001b[0m\u001b[0;34m)\u001b[0m\u001b[0;34m:\u001b[0m\u001b[0;34m\u001b[0m\u001b[0;34m\u001b[0m\u001b[0m\n\u001b[1;32m      2\u001b[0m     \u001b[0mscorer\u001b[0m \u001b[0;34m=\u001b[0m \u001b[0mdf\u001b[0m\u001b[0;34m.\u001b[0m\u001b[0mcolumns\u001b[0m\u001b[0;34m.\u001b[0m\u001b[0mlevels\u001b[0m\u001b[0;34m[\u001b[0m\u001b[0;36m0\u001b[0m\u001b[0;34m]\u001b[0m\u001b[0;34m[\u001b[0m\u001b[0;34m-\u001b[0m\u001b[0;36m1\u001b[0m\u001b[0;34m]\u001b[0m\u001b[0;34m\u001b[0m\u001b[0;34m\u001b[0m\u001b[0m\n\u001b[0;32m----> 3\u001b[0;31m     \u001b[0mdf\u001b[0m \u001b[0;34m=\u001b[0m \u001b[0mdf\u001b[0m\u001b[0;34m.\u001b[0m\u001b[0mxs\u001b[0m\u001b[0;34m(\u001b[0m\u001b[0mshufflename\u001b[0m\u001b[0;34m,\u001b[0m \u001b[0mlevel\u001b[0m\u001b[0;34m=\u001b[0m\u001b[0;34m\"scorer\"\u001b[0m\u001b[0;34m,\u001b[0m \u001b[0maxis\u001b[0m\u001b[0;34m=\u001b[0m\u001b[0;36m1\u001b[0m\u001b[0;34m)\u001b[0m\u001b[0;34m\u001b[0m\u001b[0;34m\u001b[0m\u001b[0m\n\u001b[0m\u001b[1;32m      4\u001b[0m \u001b[0;34m\u001b[0m\u001b[0m\n\u001b[1;32m      5\u001b[0m     \u001b[0;32mreturn\u001b[0m \u001b[0mdf\u001b[0m\u001b[0;34m\u001b[0m\u001b[0;34m\u001b[0m\u001b[0m\n",
      "\u001b[0;32m~/opt/anaconda3/envs/DEEPLABCUT/lib/python3.8/site-packages/pandas/core/generic.py\u001b[0m in \u001b[0;36mxs\u001b[0;34m(self, key, axis, level, drop_level)\u001b[0m\n\u001b[1;32m   3746\u001b[0m             \u001b[0;32mif\u001b[0m \u001b[0;32mnot\u001b[0m \u001b[0misinstance\u001b[0m\u001b[0;34m(\u001b[0m\u001b[0mlabels\u001b[0m\u001b[0;34m,\u001b[0m \u001b[0mMultiIndex\u001b[0m\u001b[0;34m)\u001b[0m\u001b[0;34m:\u001b[0m\u001b[0;34m\u001b[0m\u001b[0;34m\u001b[0m\u001b[0m\n\u001b[1;32m   3747\u001b[0m                 \u001b[0;32mraise\u001b[0m \u001b[0mTypeError\u001b[0m\u001b[0;34m(\u001b[0m\u001b[0;34m\"Index must be a MultiIndex\"\u001b[0m\u001b[0;34m)\u001b[0m\u001b[0;34m\u001b[0m\u001b[0;34m\u001b[0m\u001b[0m\n\u001b[0;32m-> 3748\u001b[0;31m             \u001b[0mloc\u001b[0m\u001b[0;34m,\u001b[0m \u001b[0mnew_ax\u001b[0m \u001b[0;34m=\u001b[0m \u001b[0mlabels\u001b[0m\u001b[0;34m.\u001b[0m\u001b[0mget_loc_level\u001b[0m\u001b[0;34m(\u001b[0m\u001b[0mkey\u001b[0m\u001b[0;34m,\u001b[0m \u001b[0mlevel\u001b[0m\u001b[0;34m=\u001b[0m\u001b[0mlevel\u001b[0m\u001b[0;34m,\u001b[0m \u001b[0mdrop_level\u001b[0m\u001b[0;34m=\u001b[0m\u001b[0mdrop_level\u001b[0m\u001b[0;34m)\u001b[0m\u001b[0;34m\u001b[0m\u001b[0;34m\u001b[0m\u001b[0m\n\u001b[0m\u001b[1;32m   3749\u001b[0m \u001b[0;34m\u001b[0m\u001b[0m\n\u001b[1;32m   3750\u001b[0m             \u001b[0;31m# create the tuple of the indexer\u001b[0m\u001b[0;34m\u001b[0m\u001b[0;34m\u001b[0m\u001b[0;34m\u001b[0m\u001b[0m\n",
      "\u001b[0;32m~/opt/anaconda3/envs/DEEPLABCUT/lib/python3.8/site-packages/pandas/core/indexes/multi.py\u001b[0m in \u001b[0;36mget_loc_level\u001b[0;34m(self, key, level, drop_level)\u001b[0m\n\u001b[1;32m   3006\u001b[0m         \"\"\"\n\u001b[1;32m   3007\u001b[0m         \u001b[0;32mif\u001b[0m \u001b[0;32mnot\u001b[0m \u001b[0misinstance\u001b[0m\u001b[0;34m(\u001b[0m\u001b[0mlevel\u001b[0m\u001b[0;34m,\u001b[0m \u001b[0;34m(\u001b[0m\u001b[0mlist\u001b[0m\u001b[0;34m,\u001b[0m \u001b[0mtuple\u001b[0m\u001b[0;34m)\u001b[0m\u001b[0;34m)\u001b[0m\u001b[0;34m:\u001b[0m\u001b[0;34m\u001b[0m\u001b[0;34m\u001b[0m\u001b[0m\n\u001b[0;32m-> 3008\u001b[0;31m             \u001b[0mlevel\u001b[0m \u001b[0;34m=\u001b[0m \u001b[0mself\u001b[0m\u001b[0;34m.\u001b[0m\u001b[0m_get_level_number\u001b[0m\u001b[0;34m(\u001b[0m\u001b[0mlevel\u001b[0m\u001b[0;34m)\u001b[0m\u001b[0;34m\u001b[0m\u001b[0;34m\u001b[0m\u001b[0m\n\u001b[0m\u001b[1;32m   3009\u001b[0m         \u001b[0;32melse\u001b[0m\u001b[0;34m:\u001b[0m\u001b[0;34m\u001b[0m\u001b[0;34m\u001b[0m\u001b[0m\n\u001b[1;32m   3010\u001b[0m             \u001b[0mlevel\u001b[0m \u001b[0;34m=\u001b[0m \u001b[0;34m[\u001b[0m\u001b[0mself\u001b[0m\u001b[0;34m.\u001b[0m\u001b[0m_get_level_number\u001b[0m\u001b[0;34m(\u001b[0m\u001b[0mlev\u001b[0m\u001b[0;34m)\u001b[0m \u001b[0;32mfor\u001b[0m \u001b[0mlev\u001b[0m \u001b[0;32min\u001b[0m \u001b[0mlevel\u001b[0m\u001b[0;34m]\u001b[0m\u001b[0;34m\u001b[0m\u001b[0;34m\u001b[0m\u001b[0m\n",
      "\u001b[0;32m~/opt/anaconda3/envs/DEEPLABCUT/lib/python3.8/site-packages/pandas/core/indexes/multi.py\u001b[0m in \u001b[0;36m_get_level_number\u001b[0;34m(self, level)\u001b[0m\n\u001b[1;32m   1524\u001b[0m         \u001b[0;32mexcept\u001b[0m \u001b[0mValueError\u001b[0m \u001b[0;32mas\u001b[0m \u001b[0merr\u001b[0m\u001b[0;34m:\u001b[0m\u001b[0;34m\u001b[0m\u001b[0;34m\u001b[0m\u001b[0m\n\u001b[1;32m   1525\u001b[0m             \u001b[0;32mif\u001b[0m \u001b[0;32mnot\u001b[0m \u001b[0mis_integer\u001b[0m\u001b[0;34m(\u001b[0m\u001b[0mlevel\u001b[0m\u001b[0;34m)\u001b[0m\u001b[0;34m:\u001b[0m\u001b[0;34m\u001b[0m\u001b[0;34m\u001b[0m\u001b[0m\n\u001b[0;32m-> 1526\u001b[0;31m                 \u001b[0;32mraise\u001b[0m \u001b[0mKeyError\u001b[0m\u001b[0;34m(\u001b[0m\u001b[0;34mf\"Level {level} not found\"\u001b[0m\u001b[0;34m)\u001b[0m \u001b[0;32mfrom\u001b[0m \u001b[0merr\u001b[0m\u001b[0;34m\u001b[0m\u001b[0;34m\u001b[0m\u001b[0m\n\u001b[0m\u001b[1;32m   1527\u001b[0m             \u001b[0;32melif\u001b[0m \u001b[0mlevel\u001b[0m \u001b[0;34m<\u001b[0m \u001b[0;36m0\u001b[0m\u001b[0;34m:\u001b[0m\u001b[0;34m\u001b[0m\u001b[0;34m\u001b[0m\u001b[0m\n\u001b[1;32m   1528\u001b[0m                 \u001b[0mlevel\u001b[0m \u001b[0;34m+=\u001b[0m \u001b[0mself\u001b[0m\u001b[0;34m.\u001b[0m\u001b[0mnlevels\u001b[0m\u001b[0;34m\u001b[0m\u001b[0;34m\u001b[0m\u001b[0m\n",
      "\u001b[0;31mKeyError\u001b[0m: 'Level scorer not found'"
     ]
    }
   ],
   "source": [
    "flatten_DLC_points(midline)"
   ]
  },
  {
   "cell_type": "code",
   "execution_count": 117,
   "metadata": {},
   "outputs": [
    {
     "data": {
      "application/vnd.plotly.v1+json": {
       "config": {
        "plotlyServerURL": "https://plot.ly"
       },
       "data": [
        {
         "hovertemplate": "frame=0<br>x=%{x}<br>y=%{y}<extra></extra>",
         "legendgroup": "0",
         "line": {
          "color": "#636efa",
          "dash": "solid"
         },
         "marker": {
          "symbol": "circle"
         },
         "mode": "lines",
         "name": "0",
         "showlegend": true,
         "type": "scattergl",
         "x": [
          805.5072021484375,
          851.9921264648438,
          896.400146484375,
          936.8004760742188,
          975.1829833984375,
          1012.632080078125,
          1038.3790283203125,
          1051.9805908203125
         ],
         "xaxis": "x",
         "y": [
          269.25677490234375,
          275.0093078613281,
          270.2112731933594,
          252.48721313476562,
          241.87599182128906,
          246.72274780273438,
          262.56634521484375,
          277.4376525878906
         ],
         "yaxis": "y"
        },
        {
         "hovertemplate": "frame=1<br>x=%{x}<br>y=%{y}<extra></extra>",
         "legendgroup": "1",
         "line": {
          "color": "#EF553B",
          "dash": "solid"
         },
         "marker": {
          "symbol": "circle"
         },
         "mode": "lines",
         "name": "1",
         "showlegend": true,
         "type": "scattergl",
         "x": [
          799.9241333007812,
          846.1983032226562,
          891.2615966796875,
          932.8654174804688,
          969.1478881835938,
          1005.2584228515625,
          1032.572998046875,
          1046.55517578125
         ],
         "xaxis": "x",
         "y": [
          266.1696472167969,
          274.0193176269531,
          273.8945007324219,
          257.7153015136719,
          243.32998657226562,
          241.94883728027344,
          251.59376525878906,
          263.9739990234375
         ],
         "yaxis": "y"
        },
        {
         "hovertemplate": "frame=2<br>x=%{x}<br>y=%{y}<extra></extra>",
         "legendgroup": "2",
         "line": {
          "color": "#00cc96",
          "dash": "solid"
         },
         "marker": {
          "symbol": "circle"
         },
         "mode": "lines",
         "name": "2",
         "showlegend": true,
         "type": "scattergl",
         "x": [
          794.1355590820312,
          840.6054077148438,
          884.112548828125,
          921.9476928710938,
          959.97216796875,
          996.2986450195312,
          1021.53125,
          1038.2626953125
         ],
         "xaxis": "x",
         "y": [
          262.2856750488281,
          273.3171081542969,
          275.11151123046875,
          265.5523986816406,
          247.0469207763672,
          239.050048828125,
          243.1336669921875,
          251.61143493652344
         ],
         "yaxis": "y"
        },
        {
         "hovertemplate": "frame=3<br>x=%{x}<br>y=%{y}<extra></extra>",
         "legendgroup": "3",
         "line": {
          "color": "#ab63fa",
          "dash": "solid"
         },
         "marker": {
          "symbol": "circle"
         },
         "mode": "lines",
         "name": "3",
         "showlegend": true,
         "type": "scattergl",
         "x": [
          787.785400390625,
          831.3623046875,
          872.8507080078125,
          912.9149169921875,
          952.1188354492188,
          983.4600219726562,
          1011.008056640625,
          1030.1475830078125
         ],
         "xaxis": "x",
         "y": [
          258.92840576171875,
          271.49188232421875,
          277.8398742675781,
          272.1130065917969,
          254.1527099609375,
          240.12596130371094,
          237.75,
          242.8282928466797
         ],
         "yaxis": "y"
        },
        {
         "hovertemplate": "frame=4<br>x=%{x}<br>y=%{y}<extra></extra>",
         "legendgroup": "4",
         "line": {
          "color": "#FFA15A",
          "dash": "solid"
         },
         "marker": {
          "symbol": "circle"
         },
         "mode": "lines",
         "name": "4",
         "showlegend": true,
         "type": "scattergl",
         "x": [
          782.1539306640625,
          825.1381225585938,
          863.69580078125,
          909.0015258789062,
          946.1399536132812,
          978.4183349609375,
          1004.5641479492188,
          1024.3175048828125
         ],
         "xaxis": "x",
         "y": [
          256.06939697265625,
          268.755859375,
          279.6277770996094,
          276.4203186035156,
          258.0010681152344,
          242.8664093017578,
          236.7271270751953,
          238.2989044189453
         ],
         "yaxis": "y"
        },
        {
         "hovertemplate": "frame=5<br>x=%{x}<br>y=%{y}<extra></extra>",
         "legendgroup": "5",
         "line": {
          "color": "#19d3f3",
          "dash": "solid"
         },
         "marker": {
          "symbol": "circle"
         },
         "mode": "lines",
         "name": "5",
         "showlegend": true,
         "type": "scattergl",
         "x": [
          776.5467529296875,
          821.4505615234375,
          860.0308837890625,
          905.4891967773438,
          943.55908203125,
          973.7894897460938,
          997.0738525390625,
          1017.0670776367188
         ],
         "xaxis": "x",
         "y": [
          254.6757354736328,
          266.4735412597656,
          280.34375,
          279.73260498046875,
          261.1269226074219,
          245.26605224609375,
          237.01612854003906,
          235.33502197265625
         ],
         "yaxis": "y"
        },
        {
         "hovertemplate": "frame=6<br>x=%{x}<br>y=%{y}<extra></extra>",
         "legendgroup": "6",
         "line": {
          "color": "#FF6692",
          "dash": "solid"
         },
         "marker": {
          "symbol": "circle"
         },
         "mode": "lines",
         "name": "6",
         "showlegend": true,
         "type": "scattergl",
         "x": [
          770.744140625,
          816.1024780273438,
          853.7908325195312,
          897.41552734375,
          934.4239501953125,
          962.1416015625,
          981.1454467773438,
          1003.2139892578125
         ],
         "xaxis": "x",
         "y": [
          254.23175048828125,
          264.18011474609375,
          278.183349609375,
          285.63714599609375,
          269.6763916015625,
          251.4654998779297,
          241.1853790283203,
          234.54017639160156
         ],
         "yaxis": "y"
        },
        {
         "hovertemplate": "frame=7<br>x=%{x}<br>y=%{y}<extra></extra>",
         "legendgroup": "7",
         "line": {
          "color": "#B6E880",
          "dash": "solid"
         },
         "marker": {
          "symbol": "circle"
         },
         "mode": "lines",
         "name": "7",
         "showlegend": true,
         "type": "scattergl",
         "x": [
          765.18310546875,
          810.4322509765625,
          848.1607055664062,
          890.7130126953125,
          929.8442993164062,
          960.884765625,
          978.5828247070312,
          1002.0217895507812
         ],
         "xaxis": "x",
         "y": [
          254.0178985595703,
          263.33587646484375,
          276.5064697265625,
          288.1069641113281,
          273.98602294921875,
          253.79165649414062,
          242.15145874023438,
          232.80789184570312
         ],
         "yaxis": "y"
        },
        {
         "hovertemplate": "frame=8<br>x=%{x}<br>y=%{y}<extra></extra>",
         "legendgroup": "8",
         "line": {
          "color": "#FF97FF",
          "dash": "solid"
         },
         "marker": {
          "symbol": "circle"
         },
         "mode": "lines",
         "name": "8",
         "showlegend": true,
         "type": "scattergl",
         "x": [
          758.72021484375,
          806.1683349609375,
          844.2115478515625,
          882.1648559570312,
          920.288818359375,
          954.552734375,
          976.1071166992188,
          1000.1759643554688
         ],
         "xaxis": "x",
         "y": [
          255.4664764404297,
          261.4826354980469,
          274.3277893066406,
          288.7865295410156,
          280.88519287109375,
          260.2076416015625,
          243.68756103515625,
          231.75782775878906
         ],
         "yaxis": "y"
        },
        {
         "hovertemplate": "frame=9<br>x=%{x}<br>y=%{y}<extra></extra>",
         "legendgroup": "9",
         "line": {
          "color": "#FECB52",
          "dash": "solid"
         },
         "marker": {
          "symbol": "circle"
         },
         "mode": "lines",
         "name": "9",
         "showlegend": true,
         "type": "scattergl",
         "x": [
          751.0645751953125,
          798.7197875976562,
          835.0768432617188,
          872.8274536132812,
          913.701171875,
          948.377197265625,
          970.900146484375,
          994.3754272460938
         ],
         "xaxis": "x",
         "y": [
          258.2291564941406,
          260.3621520996094,
          269.9015197753906,
          286.8392333984375,
          286.3627624511719,
          267.9798889160156,
          252.92401123046875,
          231.82164001464844
         ],
         "yaxis": "y"
        },
        {
         "hovertemplate": "frame=10<br>x=%{x}<br>y=%{y}<extra></extra>",
         "legendgroup": "10",
         "line": {
          "color": "#636efa",
          "dash": "solid"
         },
         "marker": {
          "symbol": "circle"
         },
         "mode": "lines",
         "name": "10",
         "showlegend": true,
         "type": "scattergl",
         "x": [
          744.7598876953125,
          790.3279418945312,
          826.3302001953125,
          863.5514526367188,
          902.8278198242188,
          938.470703125,
          965.5502319335938,
          988.426513671875
         ],
         "xaxis": "x",
         "y": [
          260.9822998046875,
          258.849365234375,
          265.18914794921875,
          281.1353759765625,
          289.50927734375,
          277.9031066894531,
          259.0145568847656,
          234.86288452148438
         ],
         "yaxis": "y"
        },
        {
         "hovertemplate": "frame=11<br>x=%{x}<br>y=%{y}<extra></extra>",
         "legendgroup": "11",
         "line": {
          "color": "#EF553B",
          "dash": "solid"
         },
         "marker": {
          "symbol": "circle"
         },
         "mode": "lines",
         "name": "11",
         "showlegend": true,
         "type": "scattergl",
         "x": [
          737.3448486328125,
          783.2530517578125,
          821.6610107421875,
          858.2673950195312,
          898.118896484375,
          934.647705078125,
          962.944580078125,
          981.3394775390625
         ],
         "xaxis": "x",
         "y": [
          265.2496643066406,
          259.0734558105469,
          262.6507263183594,
          277.3924865722656,
          289.0443115234375,
          282.54071044921875,
          265.8088684082031,
          243.48683166503906
         ],
         "yaxis": "y"
        },
        {
         "hovertemplate": "frame=12<br>x=%{x}<br>y=%{y}<extra></extra>",
         "legendgroup": "12",
         "line": {
          "color": "#00cc96",
          "dash": "solid"
         },
         "marker": {
          "symbol": "circle"
         },
         "mode": "lines",
         "name": "12",
         "showlegend": true,
         "type": "scattergl",
         "x": [
          730.83740234375,
          776.9846801757812,
          817.2850952148438,
          854.7592163085938,
          895.0018920898438,
          933.9654541015625,
          962.5282592773438,
          977.9746704101562
         ],
         "xaxis": "x",
         "y": [
          267.43304443359375,
          260.1902160644531,
          260.403076171875,
          274.2828063964844,
          288.09765625,
          285.5943298339844,
          272.0997314453125,
          251.58444213867188
         ],
         "yaxis": "y"
        },
        {
         "hovertemplate": "frame=13<br>x=%{x}<br>y=%{y}<extra></extra>",
         "legendgroup": "13",
         "line": {
          "color": "#ab63fa",
          "dash": "solid"
         },
         "marker": {
          "symbol": "circle"
         },
         "mode": "lines",
         "name": "13",
         "showlegend": true,
         "type": "scattergl",
         "x": [
          723.1437377929688,
          765.4906005859375,
          806.67578125,
          845.1122436523438,
          885.4246826171875,
          923.7337646484375,
          954.3067016601562,
          971.543212890625
         ],
         "xaxis": "x",
         "y": [
          272.21807861328125,
          263.3959045410156,
          257.6829528808594,
          267.61431884765625,
          284.30181884765625,
          288.3276062011719,
          280.3252868652344,
          263.9538879394531
         ],
         "yaxis": "y"
        },
        {
         "hovertemplate": "frame=14<br>x=%{x}<br>y=%{y}<extra></extra>",
         "legendgroup": "14",
         "line": {
          "color": "#FFA15A",
          "dash": "solid"
         },
         "marker": {
          "symbol": "circle"
         },
         "mode": "lines",
         "name": "14",
         "showlegend": true,
         "type": "scattergl",
         "x": [
          716.2844848632812,
          755.37939453125,
          793.5247802734375,
          832.7777709960938,
          873.6054077148438,
          910.68505859375,
          940.552734375,
          960.5006713867188
         ],
         "xaxis": "x",
         "y": [
          274.7673034667969,
          266.3891906738281,
          257.26129150390625,
          261.1883544921875,
          277.46551513671875,
          288.56427001953125,
          287.8876953125,
          277.58697509765625
         ],
         "yaxis": "y"
        },
        {
         "hovertemplate": "frame=15<br>x=%{x}<br>y=%{y}<extra></extra>",
         "legendgroup": "15",
         "line": {
          "color": "#19d3f3",
          "dash": "solid"
         },
         "marker": {
          "symbol": "circle"
         },
         "mode": "lines",
         "name": "15",
         "showlegend": true,
         "type": "scattergl",
         "x": [
          710.5835571289062,
          746.2477416992188,
          783.3162231445312,
          825.2817993164062,
          867.8861694335938,
          903.357177734375,
          936.86474609375,
          959.330078125
         ],
         "xaxis": "x",
         "y": [
          276.8478088378906,
          271.07208251953125,
          257.9949951171875,
          256.09490966796875,
          271.3263854980469,
          288.05047607421875,
          288.9944763183594,
          283.26947021484375
         ],
         "yaxis": "y"
        },
        {
         "hovertemplate": "frame=16<br>x=%{x}<br>y=%{y}<extra></extra>",
         "legendgroup": "16",
         "line": {
          "color": "#FF6692",
          "dash": "solid"
         },
         "marker": {
          "symbol": "circle"
         },
         "mode": "lines",
         "name": "16",
         "showlegend": true,
         "type": "scattergl",
         "x": [
          703.56005859375,
          741.8278198242188,
          781.2163696289062,
          820.6218872070312,
          863.84130859375,
          898.62255859375,
          932.97705078125,
          957.390869140625
         ],
         "xaxis": "x",
         "y": [
          279.5013427734375,
          272.33050537109375,
          257.6608581542969,
          251.16839599609375,
          266.6123352050781,
          285.79705810546875,
          289.55780029296875,
          285.4737548828125
         ],
         "yaxis": "y"
        },
        {
         "hovertemplate": "frame=17<br>x=%{x}<br>y=%{y}<extra></extra>",
         "legendgroup": "17",
         "line": {
          "color": "#B6E880",
          "dash": "solid"
         },
         "marker": {
          "symbol": "circle"
         },
         "mode": "lines",
         "name": "17",
         "showlegend": true,
         "type": "scattergl",
         "x": [
          695.74462890625,
          737.7525634765625,
          778.130126953125,
          818.518310546875,
          859.8251953125,
          893.5633544921875,
          925.6663818359375,
          949.9735107421875
         ],
         "xaxis": "x",
         "y": [
          280.77667236328125,
          272.9517822265625,
          257.87066650390625,
          248.01693725585938,
          261.2358703613281,
          281.7408752441406,
          288.89697265625,
          288.3241271972656
         ],
         "yaxis": "y"
        },
        {
         "hovertemplate": "frame=18<br>x=%{x}<br>y=%{y}<extra></extra>",
         "legendgroup": "18",
         "line": {
          "color": "#FF97FF",
          "dash": "solid"
         },
         "marker": {
          "symbol": "circle"
         },
         "mode": "lines",
         "name": "18",
         "showlegend": true,
         "type": "scattergl",
         "x": [
          688.5965576171875,
          732.1454467773438,
          774.0870971679688,
          813.3314208984375,
          855.2396850585938,
          887.8549194335938,
          916.4714965820312,
          938.7693481445312
         ],
         "xaxis": "x",
         "y": [
          279.627197265625,
          275.0021667480469,
          260.02825927734375,
          247.3136444091797,
          255.417236328125,
          276.0774230957031,
          286.7907409667969,
          289.77777099609375
         ],
         "yaxis": "y"
        },
        {
         "hovertemplate": "frame=19<br>x=%{x}<br>y=%{y}<extra></extra>",
         "legendgroup": "19",
         "line": {
          "color": "#FECB52",
          "dash": "solid"
         },
         "marker": {
          "symbol": "circle"
         },
         "mode": "lines",
         "name": "19",
         "showlegend": true,
         "type": "scattergl",
         "x": [
          682.2891845703125,
          727.1309814453125,
          769.68701171875,
          806.35009765625,
          850.10595703125,
          887.313720703125,
          912.0164794921875,
          933.008544921875
         ],
         "xaxis": "x",
         "y": [
          278.7822265625,
          275.32232666015625,
          261.4708557128906,
          247.64944458007812,
          250.3695526123047,
          270.9725036621094,
          284.311279296875,
          289.8487243652344
         ],
         "yaxis": "y"
        },
        {
         "hovertemplate": "frame=20<br>x=%{x}<br>y=%{y}<extra></extra>",
         "legendgroup": "20",
         "line": {
          "color": "#636efa",
          "dash": "solid"
         },
         "marker": {
          "symbol": "circle"
         },
         "mode": "lines",
         "name": "20",
         "showlegend": true,
         "type": "scattergl",
         "x": [
          673.382080078125,
          720.962158203125,
          762.0335083007812,
          797.1763305664062,
          839.7911987304688,
          882.0523681640625,
          904.54052734375,
          925.094970703125
         ],
         "xaxis": "x",
         "y": [
          276.4639892578125,
          276.4223937988281,
          265.1303405761719,
          250.17039489746094,
          247.39505004882812,
          263.9014587402344,
          279.1684265136719,
          288.9180603027344
         ],
         "yaxis": "y"
        },
        {
         "hovertemplate": "frame=21<br>x=%{x}<br>y=%{y}<extra></extra>",
         "legendgroup": "21",
         "line": {
          "color": "#EF553B",
          "dash": "solid"
         },
         "marker": {
          "symbol": "circle"
         },
         "mode": "lines",
         "name": "21",
         "showlegend": true,
         "type": "scattergl",
         "x": [
          666.6624145507812,
          713.8748779296875,
          756.4409790039062,
          792.2655029296875,
          831.8659057617188,
          868.0831909179688,
          895.4644165039062,
          913.1907348632812
         ],
         "xaxis": "x",
         "y": [
          272.5971984863281,
          276.4637145996094,
          267.9984436035156,
          254.72305297851562,
          246.4475860595703,
          254.17340087890625,
          268.4536437988281,
          282.2508850097656
         ],
         "yaxis": "y"
        },
        {
         "hovertemplate": "frame=22<br>x=%{x}<br>y=%{y}<extra></extra>",
         "legendgroup": "22",
         "line": {
          "color": "#00cc96",
          "dash": "solid"
         },
         "marker": {
          "symbol": "circle"
         },
         "mode": "lines",
         "name": "22",
         "showlegend": true,
         "type": "scattergl",
         "x": [
          659.2138671875,
          707.3567504882812,
          751.8946533203125,
          791.8679809570312,
          831.0219116210938,
          869.4186401367188,
          897.2222290039062,
          911.5279541015625
         ],
         "xaxis": "x",
         "y": [
          269.3363952636719,
          276.6051330566406,
          271.2518005371094,
          255.51275634765625,
          246.11351013183594,
          250.7660369873047,
          264.36029052734375,
          278.95184326171875
         ],
         "yaxis": "y"
        },
        {
         "hovertemplate": "frame=23<br>x=%{x}<br>y=%{y}<extra></extra>",
         "legendgroup": "23",
         "line": {
          "color": "#ab63fa",
          "dash": "solid"
         },
         "marker": {
          "symbol": "circle"
         },
         "mode": "lines",
         "name": "23",
         "showlegend": true,
         "type": "scattergl",
         "x": [
          651.728759765625,
          697.4775390625,
          742.8292236328125,
          786.8601684570312,
          823.8630981445312,
          860.6799926757812,
          888.2698364257812,
          902.900146484375
         ],
         "xaxis": "x",
         "y": [
          265.96240234375,
          275.95074462890625,
          274.423583984375,
          258.84478759765625,
          245.74314880371094,
          245.06576538085938,
          254.55926513671875,
          266.406982421875
         ],
         "yaxis": "y"
        },
        {
         "hovertemplate": "frame=24<br>x=%{x}<br>y=%{y}<extra></extra>",
         "legendgroup": "24",
         "line": {
          "color": "#FFA15A",
          "dash": "solid"
         },
         "marker": {
          "symbol": "circle"
         },
         "mode": "lines",
         "name": "24",
         "showlegend": true,
         "type": "scattergl",
         "x": [
          645.2572021484375,
          693.486083984375,
          737.440673828125,
          776.7724609375,
          817.5000610351562,
          855.0618896484375,
          882.2106323242188,
          897.2184448242188
         ],
         "xaxis": "x",
         "y": [
          262.3338623046875,
          274.45404052734375,
          275.2088623046875,
          265.7649230957031,
          248.1523895263672,
          242.50965881347656,
          247.2068328857422,
          257.51220703125
         ],
         "yaxis": "y"
        },
        {
         "hovertemplate": "frame=25<br>x=%{x}<br>y=%{y}<extra></extra>",
         "legendgroup": "25",
         "line": {
          "color": "#19d3f3",
          "dash": "solid"
         },
         "marker": {
          "symbol": "circle"
         },
         "mode": "lines",
         "name": "25",
         "showlegend": true,
         "type": "scattergl",
         "x": [
          638.6246948242188,
          687.646484375,
          727.4852294921875,
          765.9180908203125,
          807.1583862304688,
          839.5984497070312,
          866.7744750976562,
          887.3433837890625
         ],
         "xaxis": "x",
         "y": [
          259.17303466796875,
          271.9937744140625,
          277.6528625488281,
          271.2687683105469,
          253.6642608642578,
          242.35177612304688,
          240.19041442871094,
          245.61172485351562
         ],
         "yaxis": "y"
        },
        {
         "hovertemplate": "frame=26<br>x=%{x}<br>y=%{y}<extra></extra>",
         "legendgroup": "26",
         "line": {
          "color": "#FF6692",
          "dash": "solid"
         },
         "marker": {
          "symbol": "circle"
         },
         "mode": "lines",
         "name": "26",
         "showlegend": true,
         "type": "scattergl",
         "x": [
          633.0729370117188,
          676.4449462890625,
          715.9072875976562,
          759.7803344726562,
          799.8817749023438,
          831.5450439453125,
          859.8825073242188,
          880.2670288085938
         ],
         "xaxis": "x",
         "y": [
          256.2019958496094,
          268.575927734375,
          278.31005859375,
          275.4259033203125,
          257.3486328125,
          243.67166137695312,
          237.7765350341797,
          240.47850036621094
         ],
         "yaxis": "y"
        },
        {
         "hovertemplate": "frame=27<br>x=%{x}<br>y=%{y}<extra></extra>",
         "legendgroup": "27",
         "line": {
          "color": "#B6E880",
          "dash": "solid"
         },
         "marker": {
          "symbol": "circle"
         },
         "mode": "lines",
         "name": "27",
         "showlegend": true,
         "type": "scattergl",
         "x": [
          626.2694091796875,
          671.7213134765625,
          712.352783203125,
          757.5709838867188,
          796.0707397460938,
          826.4655151367188,
          852.6466674804688,
          873.0885009765625
         ],
         "xaxis": "x",
         "y": [
          254.21534729003906,
          266.88201904296875,
          278.7854309082031,
          278.624267578125,
          260.6690673828125,
          244.7764892578125,
          237.27890014648438,
          237.04725646972656
         ],
         "yaxis": "y"
        },
        {
         "hovertemplate": "frame=28<br>x=%{x}<br>y=%{y}<extra></extra>",
         "legendgroup": "28",
         "line": {
          "color": "#FF97FF",
          "dash": "solid"
         },
         "marker": {
          "symbol": "circle"
         },
         "mode": "lines",
         "name": "28",
         "showlegend": true,
         "type": "scattergl",
         "x": [
          619.478515625,
          667.1239624023438,
          707.2457275390625,
          754.618896484375,
          793.6209716796875,
          824.7188720703125,
          850.237548828125,
          871.6436157226562
         ],
         "xaxis": "x",
         "y": [
          252.15921020507812,
          264.3824157714844,
          277.61444091796875,
          281.17218017578125,
          262.7242431640625,
          245.70899963378906,
          236.08499145507812,
          233.0440216064453
         ],
         "yaxis": "y"
        },
        {
         "hovertemplate": "frame=29<br>x=%{x}<br>y=%{y}<extra></extra>",
         "legendgroup": "29",
         "line": {
          "color": "#FECB52",
          "dash": "solid"
         },
         "marker": {
          "symbol": "circle"
         },
         "mode": "lines",
         "name": "29",
         "showlegend": true,
         "type": "scattergl",
         "x": [
          613.7022705078125,
          660.1343994140625,
          699.6682739257812,
          742.1055297851562,
          784.2227172851562,
          815.5801391601562,
          836.436767578125,
          858.7098999023438
         ],
         "xaxis": "x",
         "y": [
          252.2655792236328,
          262.3044128417969,
          276.025634765625,
          283.5766296386719,
          270.5967102050781,
          251.7749786376953,
          240.621337890625,
          231.9038543701172
         ],
         "yaxis": "y"
        },
        {
         "hovertemplate": "frame=30<br>x=%{x}<br>y=%{y}<extra></extra>",
         "legendgroup": "30",
         "line": {
          "color": "#636efa",
          "dash": "solid"
         },
         "marker": {
          "symbol": "circle"
         },
         "mode": "lines",
         "name": "30",
         "showlegend": true,
         "type": "scattergl",
         "x": [
          606.6393432617188,
          655.438232421875,
          694.3687133789062,
          734.2755126953125,
          775.3489379882812,
          808.1257934570312,
          828.6168212890625,
          851.4921264648438
         ],
         "xaxis": "x",
         "y": [
          252.83660888671875,
          261.2848205566406,
          272.2342224121094,
          284.5544128417969,
          277.8321838378906,
          259.9228210449219,
          244.53433227539062,
          231.85557556152344
         ],
         "yaxis": "y"
        },
        {
         "hovertemplate": "frame=31<br>x=%{x}<br>y=%{y}<extra></extra>",
         "legendgroup": "31",
         "line": {
          "color": "#EF553B",
          "dash": "solid"
         },
         "marker": {
          "symbol": "circle"
         },
         "mode": "lines",
         "name": "31",
         "showlegend": true,
         "type": "scattergl",
         "x": [
          599.9297485351562,
          648.3429565429688,
          682.6961669921875,
          719.8819580078125,
          758.1651611328125,
          791.8164672851562,
          817.5904541015625,
          842.3907470703125
         ],
         "xaxis": "x",
         "y": [
          254.4728240966797,
          258.4048156738281,
          266.939697265625,
          281.2550354003906,
          285.1282958984375,
          272.8240661621094,
          255.27737426757812,
          232.88978576660156
         ],
         "yaxis": "y"
        },
        {
         "hovertemplate": "frame=32<br>x=%{x}<br>y=%{y}<extra></extra>",
         "legendgroup": "32",
         "line": {
          "color": "#00cc96",
          "dash": "solid"
         },
         "marker": {
          "symbol": "circle"
         },
         "mode": "lines",
         "name": "32",
         "showlegend": true,
         "type": "scattergl",
         "x": [
          593.8819580078125,
          642.2403564453125,
          679.9566650390625,
          715.6940307617188,
          755.2649536132812,
          790.2549438476562,
          816.9163208007812,
          838.611083984375
         ],
         "xaxis": "x",
         "y": [
          257.75408935546875,
          258.12646484375,
          264.4949645996094,
          278.5596923828125,
          286.0418701171875,
          276.5656433105469,
          258.15411376953125,
          234.55606079101562
         ],
         "yaxis": "y"
        },
        {
         "hovertemplate": "frame=33<br>x=%{x}<br>y=%{y}<extra></extra>",
         "legendgroup": "33",
         "line": {
          "color": "#ab63fa",
          "dash": "solid"
         },
         "marker": {
          "symbol": "circle"
         },
         "mode": "lines",
         "name": "33",
         "showlegend": true,
         "type": "scattergl",
         "x": [
          586.9490966796875,
          632.5750122070312,
          672.3510131835938,
          710.0028686523438,
          749.7827758789062,
          788.685791015625,
          816.637939453125,
          832.9552612304688
         ],
         "xaxis": "x",
         "y": [
          260.94189453125,
          257.7897644042969,
          260.3363952636719,
          275.3222351074219,
          286.450439453125,
          280.3166198730469,
          262.6918640136719,
          240.4462890625
         ],
         "yaxis": "y"
        },
        {
         "hovertemplate": "frame=34<br>x=%{x}<br>y=%{y}<extra></extra>",
         "legendgroup": "34",
         "line": {
          "color": "#FFA15A",
          "dash": "solid"
         },
         "marker": {
          "symbol": "circle"
         },
         "mode": "lines",
         "name": "34",
         "showlegend": true,
         "type": "scattergl",
         "x": [
          581.255126953125,
          626.2526245117188,
          665.65185546875,
          703.109375,
          741.4542846679688,
          778.7156372070312,
          808.6915893554688,
          825.8219604492188
         ],
         "xaxis": "x",
         "y": [
          264.34088134765625,
          258.2956848144531,
          257.91851806640625,
          271.0126953125,
          284.6763000488281,
          284.9808654785156,
          272.93896484375,
          253.81552124023438
         ],
         "yaxis": "y"
        },
        {
         "hovertemplate": "frame=35<br>x=%{x}<br>y=%{y}<extra></extra>",
         "legendgroup": "35",
         "line": {
          "color": "#19d3f3",
          "dash": "solid"
         },
         "marker": {
          "symbol": "circle"
         },
         "mode": "lines",
         "name": "35",
         "showlegend": true,
         "type": "scattergl",
         "x": [
          573.7938842773438,
          617.8123168945312,
          654.9801025390625,
          694.17578125,
          735.1401977539062,
          773.1845092773438,
          802.2940063476562,
          821.4575805664062
         ],
         "xaxis": "x",
         "y": [
          267.4953918457031,
          259.49298095703125,
          256.0170593261719,
          264.48406982421875,
          281.32379150390625,
          287.4189453125,
          280.173583984375,
          263.8616027832031
         ],
         "yaxis": "y"
        },
        {
         "hovertemplate": "frame=36<br>x=%{x}<br>y=%{y}<extra></extra>",
         "legendgroup": "36",
         "line": {
          "color": "#FF6692",
          "dash": "solid"
         },
         "marker": {
          "symbol": "circle"
         },
         "mode": "lines",
         "name": "36",
         "showlegend": true,
         "type": "scattergl",
         "x": [
          568.1016845703125,
          612.3159790039062,
          650.5338745117188,
          690.6290893554688,
          733.0953979492188,
          771.7012939453125,
          800.0391845703125,
          820.3929443359375
         ],
         "xaxis": "x",
         "y": [
          269.3952331542969,
          260.9427795410156,
          254.37344360351562,
          260.6825256347656,
          279.320556640625,
          287.71234130859375,
          283.18267822265625,
          270.21954345703125
         ],
         "yaxis": "y"
        },
        {
         "hovertemplate": "frame=37<br>x=%{x}<br>y=%{y}<extra></extra>",
         "legendgroup": "37",
         "line": {
          "color": "#B6E880",
          "dash": "solid"
         },
         "marker": {
          "symbol": "circle"
         },
         "mode": "lines",
         "name": "37",
         "showlegend": true,
         "type": "scattergl",
         "x": [
          561.07666015625,
          605.16748046875,
          644.7465209960938,
          684.1670532226562,
          725.6712646484375,
          762.7987670898438,
          790.818115234375,
          813.4537963867188
         ],
         "xaxis": "x",
         "y": [
          271.2686767578125,
          263.2046813964844,
          252.69134521484375,
          256.39556884765625,
          273.966064453125,
          287.5571594238281,
          287.443359375,
          278.6656799316406
         ],
         "yaxis": "y"
        },
        {
         "hovertemplate": "frame=38<br>x=%{x}<br>y=%{y}<extra></extra>",
         "legendgroup": "38",
         "line": {
          "color": "#FF97FF",
          "dash": "solid"
         },
         "marker": {
          "symbol": "circle"
         },
         "mode": "lines",
         "name": "38",
         "showlegend": true,
         "type": "scattergl",
         "x": [
          552.905517578125,
          596.4097900390625,
          638.01025390625,
          677.3065795898438,
          717.3467407226562,
          753.9893798828125,
          784.7293701171875,
          809.4100341796875
         ],
         "xaxis": "x",
         "y": [
          270.7849426269531,
          266.221435546875,
          254.57334899902344,
          251.74412536621094,
          268.86376953125,
          285.14886474609375,
          288.6994323730469,
          284.40789794921875
         ],
         "yaxis": "y"
        },
        {
         "hovertemplate": "frame=39<br>x=%{x}<br>y=%{y}<extra></extra>",
         "legendgroup": "39",
         "line": {
          "color": "#FECB52",
          "dash": "solid"
         },
         "marker": {
          "symbol": "circle"
         },
         "mode": "lines",
         "name": "39",
         "showlegend": true,
         "type": "scattergl",
         "x": [
          546.47314453125,
          590.3563232421875,
          632.1990356445312,
          673.5614013671875,
          714.6900634765625,
          750.2410278320312,
          779.0505981445312,
          803.3980712890625
         ],
         "xaxis": "x",
         "y": [
          270.3175354003906,
          269.704345703125,
          256.39599609375,
          249.41064453125,
          263.94403076171875,
          282.458251953125,
          289.65740966796875,
          289.0821533203125
         ],
         "yaxis": "y"
        },
        {
         "hovertemplate": "frame=40<br>x=%{x}<br>y=%{y}<extra></extra>",
         "legendgroup": "40",
         "line": {
          "color": "#636efa",
          "dash": "solid"
         },
         "marker": {
          "symbol": "circle"
         },
         "mode": "lines",
         "name": "40",
         "showlegend": true,
         "type": "scattergl",
         "x": [
          538.5997924804688,
          586.2572021484375,
          630.644775390625,
          670.1027221679688,
          711.783935546875,
          744.8875122070312,
          772.0010986328125,
          794.688720703125
         ],
         "xaxis": "x",
         "y": [
          269.2592468261719,
          269.9105529785156,
          258.4407043457031,
          248.80618286132812,
          260.17779541015625,
          279.6929016113281,
          290.48675537109375,
          292.8804931640625
         ],
         "yaxis": "y"
        },
        {
         "hovertemplate": "frame=41<br>x=%{x}<br>y=%{y}<extra></extra>",
         "legendgroup": "41",
         "line": {
          "color": "#EF553B",
          "dash": "solid"
         },
         "marker": {
          "symbol": "circle"
         },
         "mode": "lines",
         "name": "41",
         "showlegend": true,
         "type": "scattergl",
         "x": [
          533.0386962890625,
          578.0182495117188,
          621.7230224609375,
          659.5196533203125,
          701.849853515625,
          737.7615966796875,
          761.3936767578125,
          780.2172241210938
         ],
         "xaxis": "x",
         "y": [
          266.9583740234375,
          270.410888671875,
          262.41168212890625,
          250.60220336914062,
          253.1986846923828,
          274.248291015625,
          287.24224853515625,
          292.88037109375
         ],
         "yaxis": "y"
        },
        {
         "hovertemplate": "frame=42<br>x=%{x}<br>y=%{y}<extra></extra>",
         "legendgroup": "42",
         "line": {
          "color": "#00cc96",
          "dash": "solid"
         },
         "marker": {
          "symbol": "circle"
         },
         "mode": "lines",
         "name": "42",
         "showlegend": true,
         "type": "scattergl",
         "x": [
          525.885009765625,
          572.5394287109375,
          614.0993041992188,
          653.1332397460938,
          694.1997680664062,
          731.6470947265625,
          755.2858276367188,
          773.5477294921875
         ],
         "xaxis": "x",
         "y": [
          261.8591003417969,
          271.8403015136719,
          266.43341064453125,
          253.90792846679688,
          251.0338134765625,
          267.1683349609375,
          281.4716491699219,
          290.8088073730469
         ],
         "yaxis": "y"
        },
        {
         "hovertemplate": "frame=43<br>x=%{x}<br>y=%{y}<extra></extra>",
         "legendgroup": "43",
         "line": {
          "color": "#ab63fa",
          "dash": "solid"
         },
         "marker": {
          "symbol": "circle"
         },
         "mode": "lines",
         "name": "43",
         "showlegend": true,
         "type": "scattergl",
         "x": [
          520.630859375,
          567.8533935546875,
          610.8536987304688,
          651.7083740234375,
          690.0531616210938,
          725.40283203125,
          749.0870361328125,
          765.5325927734375
         ],
         "xaxis": "x",
         "y": [
          258.1896667480469,
          271.4910888671875,
          268.83563232421875,
          255.6258544921875,
          250.3477020263672,
          260.0279846191406,
          274.6311340332031,
          288.1941833496094
         ],
         "yaxis": "y"
        },
        {
         "hovertemplate": "frame=44<br>x=%{x}<br>y=%{y}<extra></extra>",
         "legendgroup": "44",
         "line": {
          "color": "#FFA15A",
          "dash": "solid"
         },
         "marker": {
          "symbol": "circle"
         },
         "mode": "lines",
         "name": "44",
         "showlegend": true,
         "type": "scattergl",
         "x": [
          514.436767578125,
          562.345947265625,
          606.9263305664062,
          650.497802734375,
          689.4224243164062,
          724.7382202148438,
          749.016357421875,
          764.0347900390625
         ],
         "xaxis": "x",
         "y": [
          254.2171630859375,
          271.7525634765625,
          271.9386901855469,
          258.21484375,
          250.58445739746094,
          256.5917663574219,
          269.7540588378906,
          284.04791259765625
         ],
         "yaxis": "y"
        },
        {
         "hovertemplate": "frame=45<br>x=%{x}<br>y=%{y}<extra></extra>",
         "legendgroup": "45",
         "line": {
          "color": "#19d3f3",
          "dash": "solid"
         },
         "marker": {
          "symbol": "circle"
         },
         "mode": "lines",
         "name": "45",
         "showlegend": true,
         "type": "scattergl",
         "x": [
          509.0371398925781,
          556.6029663085938,
          599.3982543945312,
          644.3355712890625,
          682.123291015625,
          716.9841918945312,
          742.5999755859375,
          757.0325317382812
         ],
         "xaxis": "x",
         "y": [
          249.80459594726562,
          270.7507019042969,
          274.4141845703125,
          263.3014221191406,
          251.36196899414062,
          251.62850952148438,
          260.98236083984375,
          272.34356689453125
         ],
         "yaxis": "y"
        },
        {
         "hovertemplate": "frame=46<br>x=%{x}<br>y=%{y}<extra></extra>",
         "legendgroup": "46",
         "line": {
          "color": "#FF6692",
          "dash": "solid"
         },
         "marker": {
          "symbol": "circle"
         },
         "mode": "lines",
         "name": "46",
         "showlegend": true,
         "type": "scattergl",
         "x": [
          503.8897399902344,
          547.413818359375,
          584.6697387695312,
          625.3333129882812,
          666.0731201171875,
          698.5736694335938,
          729.6690063476562,
          748.2974853515625
         ],
         "xaxis": "x",
         "y": [
          245.2503204345703,
          268.3419494628906,
          276.2623291015625,
          272.55029296875,
          257.13330078125,
          249.2801055908203,
          251.91448974609375,
          261.36859130859375
         ],
         "yaxis": "y"
        },
        {
         "hovertemplate": "frame=47<br>x=%{x}<br>y=%{y}<extra></extra>",
         "legendgroup": "47",
         "line": {
          "color": "#B6E880",
          "dash": "solid"
         },
         "marker": {
          "symbol": "circle"
         },
         "mode": "lines",
         "name": "47",
         "showlegend": true,
         "type": "scattergl",
         "x": [
          497.5646667480469,
          540.97607421875,
          579.5865478515625,
          622.2534790039062,
          662.2822875976562,
          694.4359741210938,
          721.9094848632812,
          741.9234008789062
         ],
         "xaxis": "x",
         "y": [
          241.43838500976562,
          265.2432556152344,
          276.5262756347656,
          274.29376220703125,
          260.2930603027344,
          249.5570068359375,
          247.937744140625,
          254.08151245117188
         ],
         "yaxis": "y"
        },
        {
         "hovertemplate": "frame=48<br>x=%{x}<br>y=%{y}<extra></extra>",
         "legendgroup": "48",
         "line": {
          "color": "#FF97FF",
          "dash": "solid"
         },
         "marker": {
          "symbol": "circle"
         },
         "mode": "lines",
         "name": "48",
         "showlegend": true,
         "type": "scattergl",
         "x": [
          491.4732971191406,
          533.3018798828125,
          569.7512817382812,
          613.2529907226562,
          653.4890747070312,
          683.2483520507812,
          711.6425170898438,
          732.445556640625
         ],
         "xaxis": "x",
         "y": [
          238.39501953125,
          261.0467224121094,
          277.7987365722656,
          279.6464538574219,
          265.9682922363281,
          253.06039428710938,
          247.3174285888672,
          248.7841796875
         ],
         "yaxis": "y"
        },
        {
         "hovertemplate": "frame=49<br>x=%{x}<br>y=%{y}<extra></extra>",
         "legendgroup": "49",
         "line": {
          "color": "#FECB52",
          "dash": "solid"
         },
         "marker": {
          "symbol": "circle"
         },
         "mode": "lines",
         "name": "49",
         "showlegend": true,
         "type": "scattergl",
         "x": [
          485.7630310058594,
          527.5786743164062,
          563.9108276367188,
          607.0828857421875,
          649.3052368164062,
          680.7439575195312,
          705.9514770507812,
          727.419677734375
         ],
         "xaxis": "x",
         "y": [
          236.12185668945312,
          257.8045349121094,
          276.209716796875,
          281.95269775390625,
          267.59454345703125,
          254.7059783935547,
          245.57876586914062,
          243.87420654296875
         ],
         "yaxis": "y"
        },
        {
         "hovertemplate": "frame=50<br>x=%{x}<br>y=%{y}<extra></extra>",
         "legendgroup": "50",
         "line": {
          "color": "#636efa",
          "dash": "solid"
         },
         "marker": {
          "symbol": "circle"
         },
         "mode": "lines",
         "name": "50",
         "showlegend": true,
         "type": "scattergl",
         "x": [
          480.0694274902344,
          523.7864379882812,
          559.6245727539062,
          601.5232543945312,
          644.2391357421875,
          674.5931396484375,
          700.5241088867188,
          720.6982421875
         ],
         "xaxis": "x",
         "y": [
          234.73927307128906,
          256.2348327636719,
          276.3034362792969,
          285.2142028808594,
          272.4930114746094,
          257.4757080078125,
          245.42196655273438,
          243.32884216308594
         ],
         "yaxis": "y"
        },
        {
         "hovertemplate": "frame=51<br>x=%{x}<br>y=%{y}<extra></extra>",
         "legendgroup": "51",
         "line": {
          "color": "#EF553B",
          "dash": "solid"
         },
         "marker": {
          "symbol": "circle"
         },
         "mode": "lines",
         "name": "51",
         "showlegend": true,
         "type": "scattergl",
         "x": [
          473.0621032714844,
          515.5673828125,
          550.8953247070312,
          587.8626098632812,
          627.081298828125,
          662.9631958007812,
          683.8037109375,
          708.478515625
         ],
         "xaxis": "x",
         "y": [
          234.14508056640625,
          251.7717742919922,
          271.3684997558594,
          285.8717041015625,
          281.1815185546875,
          265.0325012207031,
          253.5601043701172,
          241.9425048828125
         ],
         "yaxis": "y"
        },
        {
         "hovertemplate": "frame=52<br>x=%{x}<br>y=%{y}<extra></extra>",
         "legendgroup": "52",
         "line": {
          "color": "#00cc96",
          "dash": "solid"
         },
         "marker": {
          "symbol": "circle"
         },
         "mode": "lines",
         "name": "52",
         "showlegend": true,
         "type": "scattergl",
         "x": [
          465.46026611328125,
          510.1136474609375,
          544.328857421875,
          580.8566284179688,
          619.8280029296875,
          656.3873291015625,
          680.6085205078125,
          704.5911254882812
         ],
         "xaxis": "x",
         "y": [
          234.10255432128906,
          248.14634704589844,
          267,
          286.1308898925781,
          286.6384582519531,
          269.9290466308594,
          255.77720642089844,
          241.766845703125
         ],
         "yaxis": "y"
        },
        {
         "hovertemplate": "frame=53<br>x=%{x}<br>y=%{y}<extra></extra>",
         "legendgroup": "53",
         "line": {
          "color": "#ab63fa",
          "dash": "solid"
         },
         "marker": {
          "symbol": "circle"
         },
         "mode": "lines",
         "name": "53",
         "showlegend": true,
         "type": "scattergl",
         "x": [
          458.24737548828125,
          503.6145324707031,
          538.5065307617188,
          571.964111328125,
          610.491943359375,
          644.900146484375,
          670.80224609375,
          694.2677612304688
         ],
         "xaxis": "x",
         "y": [
          234.1599884033203,
          246.01962280273438,
          260.76348876953125,
          282.1514892578125,
          290.0193786621094,
          278.0556335449219,
          262.7598876953125,
          243.7539825439453
         ],
         "yaxis": "y"
        },
        {
         "hovertemplate": "frame=54<br>x=%{x}<br>y=%{y}<extra></extra>",
         "legendgroup": "54",
         "line": {
          "color": "#FFA15A",
          "dash": "solid"
         },
         "marker": {
          "symbol": "circle"
         },
         "mode": "lines",
         "name": "54",
         "showlegend": true,
         "type": "scattergl",
         "x": [
          451.1457824707031,
          496.83819580078125,
          532.6154174804688,
          565.4371948242188,
          605.2935791015625,
          641.9296875,
          668.0650024414062,
          689.46875
         ],
         "xaxis": "x",
         "y": [
          235.58328247070312,
          244.5059356689453,
          256.8769226074219,
          278.2547912597656,
          290.3827819824219,
          282.0108337402344,
          268.39129638671875,
          247.20639038085938
         ],
         "yaxis": "y"
        },
        {
         "hovertemplate": "frame=55<br>x=%{x}<br>y=%{y}<extra></extra>",
         "legendgroup": "55",
         "line": {
          "color": "#19d3f3",
          "dash": "solid"
         },
         "marker": {
          "symbol": "circle"
         },
         "mode": "lines",
         "name": "55",
         "showlegend": true,
         "type": "scattergl",
         "x": [
          442.9765625,
          491.9270935058594,
          527.2665405273438,
          560.8958129882812,
          598.185302734375,
          635.7511596679688,
          663.5592651367188,
          684.1104736328125
         ],
         "xaxis": "x",
         "y": [
          236.5662384033203,
          244.00146484375,
          254.0537872314453,
          273.9464416503906,
          289.3289794921875,
          286.6493835449219,
          272.6170349121094,
          251.58145141601562
         ],
         "yaxis": "y"
        },
        {
         "hovertemplate": "frame=56<br>x=%{x}<br>y=%{y}<extra></extra>",
         "legendgroup": "56",
         "line": {
          "color": "#FF6692",
          "dash": "solid"
         },
         "marker": {
          "symbol": "circle"
         },
         "mode": "lines",
         "name": "56",
         "showlegend": true,
         "type": "scattergl",
         "x": [
          435.4001770019531,
          483.08087158203125,
          523.1687622070312,
          556.2185668945312,
          593.501953125,
          629.8359375,
          660.5773315429688,
          679.5559692382812
         ],
         "xaxis": "x",
         "y": [
          238.35362243652344,
          242.10394287109375,
          250.7456817626953,
          269.0492248535156,
          288.1999816894531,
          289.94580078125,
          278.26055908203125,
          260.48419189453125
         ],
         "yaxis": "y"
        },
        {
         "hovertemplate": "frame=57<br>x=%{x}<br>y=%{y}<extra></extra>",
         "legendgroup": "57",
         "line": {
          "color": "#B6E880",
          "dash": "solid"
         },
         "marker": {
          "symbol": "circle"
         },
         "mode": "lines",
         "name": "57",
         "showlegend": true,
         "type": "scattergl",
         "x": [
          428.0101623535156,
          476.0349426269531,
          516.2141723632812,
          550.815673828125,
          587.3054809570312,
          626.398193359375,
          655.6910400390625,
          673.8812255859375
         ],
         "xaxis": "x",
         "y": [
          240.00294494628906,
          241.70851135253906,
          247.61004638671875,
          264.1391296386719,
          284.7213439941406,
          292.7369079589844,
          284.0367126464844,
          269.94537353515625
         ],
         "yaxis": "y"
        },
        {
         "hovertemplate": "frame=58<br>x=%{x}<br>y=%{y}<extra></extra>",
         "legendgroup": "58",
         "line": {
          "color": "#FF97FF",
          "dash": "solid"
         },
         "marker": {
          "symbol": "circle"
         },
         "mode": "lines",
         "name": "58",
         "showlegend": true,
         "type": "scattergl",
         "x": [
          421.2420959472656,
          470.7638854980469,
          511.5277099609375,
          547.6641235351562,
          583.9088134765625,
          619.9945068359375,
          650.4481201171875,
          668.8667602539062
         ],
         "xaxis": "x",
         "y": [
          241.62396240234375,
          240.96078491210938,
          244.75184631347656,
          259.562255859375,
          281.40087890625,
          293.2247619628906,
          288.5269470214844,
          277.6592712402344
         ],
         "yaxis": "y"
        },
        {
         "hovertemplate": "frame=59<br>x=%{x}<br>y=%{y}<extra></extra>",
         "legendgroup": "59",
         "line": {
          "color": "#FECB52",
          "dash": "solid"
         },
         "marker": {
          "symbol": "circle"
         },
         "mode": "lines",
         "name": "59",
         "showlegend": true,
         "type": "scattergl",
         "x": [
          412.9708557128906,
          456.21759033203125,
          499.6219177246094,
          539.0006103515625,
          576.243408203125,
          613.270751953125,
          642.5302124023438,
          663.9102172851562
         ],
         "xaxis": "x",
         "y": [
          241.85964965820312,
          243.1167755126953,
          241.01431274414062,
          252.65701293945312,
          275.1094665527344,
          292.7734375,
          294.0531005859375,
          286.09918212890625
         ],
         "yaxis": "y"
        },
        {
         "hovertemplate": "frame=60<br>x=%{x}<br>y=%{y}<extra></extra>",
         "legendgroup": "60",
         "line": {
          "color": "#636efa",
          "dash": "solid"
         },
         "marker": {
          "symbol": "circle"
         },
         "mode": "lines",
         "name": "60",
         "showlegend": true,
         "type": "scattergl",
         "x": [
          406.388916015625,
          450.89947509765625,
          491.40093994140625,
          532.3263549804688,
          568.24462890625,
          602.0416870117188,
          632.3250732421875,
          654.8059692382812
         ],
         "xaxis": "x",
         "y": [
          242.905517578125,
          244.13385009765625,
          239.9444122314453,
          245.8913116455078,
          266.1101989746094,
          289.40478515625,
          295.6232604980469,
          292.3056945800781
         ],
         "yaxis": "y"
        },
        {
         "hovertemplate": "frame=61<br>x=%{x}<br>y=%{y}<extra></extra>",
         "legendgroup": "61",
         "line": {
          "color": "#EF553B",
          "dash": "solid"
         },
         "marker": {
          "symbol": "circle"
         },
         "mode": "lines",
         "name": "61",
         "showlegend": true,
         "type": "scattergl",
         "x": [
          398.8067626953125,
          441.4803161621094,
          483.36907958984375,
          525.5042114257812,
          562.703857421875,
          594.785400390625,
          626.236083984375,
          650.0884399414062
         ],
         "xaxis": "x",
         "y": [
          242.94296264648438,
          246.78623962402344,
          239.23179626464844,
          240.89633178710938,
          261.23077392578125,
          286.0614929199219,
          295.7225036621094,
          296.6600341796875
         ],
         "yaxis": "y"
        },
        {
         "hovertemplate": "frame=62<br>x=%{x}<br>y=%{y}<extra></extra>",
         "legendgroup": "62",
         "line": {
          "color": "#00cc96",
          "dash": "solid"
         },
         "marker": {
          "symbol": "circle"
         },
         "mode": "lines",
         "name": "62",
         "showlegend": true,
         "type": "scattergl",
         "x": [
          392.3972473144531,
          438.0058898925781,
          480.7182922363281,
          520.4573364257812,
          560.0971069335938,
          592.272216796875,
          620.0919189453125,
          643.4649658203125
         ],
         "xaxis": "x",
         "y": [
          243.2039794921875,
          246.35581970214844,
          238.93898010253906,
          236.59829711914062,
          256.8624267578125,
          282.4622497558594,
          294.8272705078125,
          297.63958740234375
         ],
         "yaxis": "y"
        },
        {
         "hovertemplate": "frame=63<br>x=%{x}<br>y=%{y}<extra></extra>",
         "legendgroup": "63",
         "line": {
          "color": "#ab63fa",
          "dash": "solid"
         },
         "marker": {
          "symbol": "circle"
         },
         "mode": "lines",
         "name": "63",
         "showlegend": true,
         "type": "scattergl",
         "x": [
          384.8900146484375,
          432.69879150390625,
          478.51763916015625,
          518.049072265625,
          555.1083374023438,
          587.4507446289062,
          612.4235229492188,
          633.9918212890625
         ],
         "xaxis": "x",
         "y": [
          241.53453063964844,
          247.8734893798828,
          239.6118621826172,
          234.15797424316406,
          251.21478271484375,
          276.85205078125,
          292.52069091796875,
          298.805908203125
         ],
         "yaxis": "y"
        },
        {
         "hovertemplate": "frame=64<br>x=%{x}<br>y=%{y}<extra></extra>",
         "legendgroup": "64",
         "line": {
          "color": "#FFA15A",
          "dash": "solid"
         },
         "marker": {
          "symbol": "circle"
         },
         "mode": "lines",
         "name": "64",
         "showlegend": true,
         "type": "scattergl",
         "x": [
          378.1097106933594,
          427.88427734375,
          471.4743957519531,
          510.2253723144531,
          550.4076538085938,
          584.0115356445312,
          609.3031616210938,
          629.3468627929688
         ],
         "xaxis": "x",
         "y": [
          240.25735473632812,
          247.7738037109375,
          241.02615356445312,
          232.97764587402344,
          245.5140380859375,
          272.2396240234375,
          290.45343017578125,
          298.0579833984375
         ],
         "yaxis": "y"
        },
        {
         "hovertemplate": "frame=65<br>x=%{x}<br>y=%{y}<extra></extra>",
         "legendgroup": "65",
         "line": {
          "color": "#19d3f3",
          "dash": "solid"
         },
         "marker": {
          "symbol": "circle"
         },
         "mode": "lines",
         "name": "65",
         "showlegend": true,
         "type": "scattergl",
         "x": [
          371.29742431640625,
          417.8931884765625,
          459.0244445800781,
          494.7720947265625,
          536.2977905273438,
          571.5132446289062,
          595.9482421875,
          616.0033569335938
         ],
         "xaxis": "x",
         "y": [
          236.9099578857422,
          247.61468505859375,
          242.90347290039062,
          235.24522399902344,
          238.6094512939453,
          259.7694091796875,
          279.6112976074219,
          295.3679504394531
         ],
         "yaxis": "y"
        },
        {
         "hovertemplate": "frame=66<br>x=%{x}<br>y=%{y}<extra></extra>",
         "legendgroup": "66",
         "line": {
          "color": "#FF6692",
          "dash": "solid"
         },
         "marker": {
          "symbol": "circle"
         },
         "mode": "lines",
         "name": "66",
         "showlegend": true,
         "type": "scattergl",
         "x": [
          364.28375244140625,
          413.0078430175781,
          454.3627624511719,
          491.08612060546875,
          531.7423706054688,
          565.7987670898438,
          591.3236694335938,
          607.4703979492188
         ],
         "xaxis": "x",
         "y": [
          233.18548583984375,
          246.24807739257812,
          245.7012939453125,
          236.96194458007812,
          236.58453369140625,
          253.48989868164062,
          272.31170654296875,
          288.84808349609375
         ],
         "yaxis": "y"
        },
        {
         "hovertemplate": "frame=67<br>x=%{x}<br>y=%{y}<extra></extra>",
         "legendgroup": "67",
         "line": {
          "color": "#B6E880",
          "dash": "solid"
         },
         "marker": {
          "symbol": "circle"
         },
         "mode": "lines",
         "name": "67",
         "showlegend": true,
         "type": "scattergl",
         "x": [
          358.85064697265625,
          406.04119873046875,
          448.5455017089844,
          487.9793395996094,
          529.3150024414062,
          564.5841064453125,
          588.7742309570312,
          602.1219482421875
         ],
         "xaxis": "x",
         "y": [
          228.974365234375,
          245.61520385742188,
          246.88941955566406,
          238.33065795898438,
          236.1288604736328,
          249.3595428466797,
          265.7375183105469,
          282.79412841796875
         ],
         "yaxis": "y"
        },
        {
         "hovertemplate": "frame=68<br>x=%{x}<br>y=%{y}<extra></extra>",
         "legendgroup": "68",
         "line": {
          "color": "#FF97FF",
          "dash": "solid"
         },
         "marker": {
          "symbol": "circle"
         },
         "mode": "lines",
         "name": "68",
         "showlegend": true,
         "type": "scattergl",
         "x": [
          352.7345275878906,
          401.1104736328125,
          444.16546630859375,
          485.62530517578125,
          525.4552001953125,
          561.76513671875,
          585.9660034179688,
          598.595947265625
         ],
         "xaxis": "x",
         "y": [
          224.59796142578125,
          244.06805419921875,
          248.3997802734375,
          240.5087890625,
          235.81768798828125,
          245.3419647216797,
          260.15509033203125,
          275.25238037109375
         ],
         "yaxis": "y"
        },
        {
         "hovertemplate": "frame=69<br>x=%{x}<br>y=%{y}<extra></extra>",
         "legendgroup": "69",
         "line": {
          "color": "#FECB52",
          "dash": "solid"
         },
         "marker": {
          "symbol": "circle"
         },
         "mode": "lines",
         "name": "69",
         "showlegend": true,
         "type": "scattergl",
         "x": [
          346.79095458984375,
          390.7889099121094,
          432.89642333984375,
          474.7561950683594,
          516.469482421875,
          556.0466918945312,
          581.1434326171875,
          593.8224487304688
         ],
         "xaxis": "x",
         "y": [
          219.69166564941406,
          240.51979064941406,
          249.017333984375,
          244.5111846923828,
          236.22079467773438,
          240.0550537109375,
          252.48672485351562,
          264.8846435546875
         ],
         "yaxis": "y"
        },
        {
         "hovertemplate": "frame=70<br>x=%{x}<br>y=%{y}<extra></extra>",
         "legendgroup": "70",
         "line": {
          "color": "#636efa",
          "dash": "solid"
         },
         "marker": {
          "symbol": "circle"
         },
         "mode": "lines",
         "name": "70",
         "showlegend": true,
         "type": "scattergl",
         "x": [
          342.1485900878906,
          385.65142822265625,
          421.5770568847656,
          464.704345703125,
          505.61285400390625,
          548.0211181640625,
          575.2383422851562,
          589.7181396484375
         ],
         "xaxis": "x",
         "y": [
          214.864990234375,
          238.87274169921875,
          249.7344207763672,
          249.1386260986328,
          238.53720092773438,
          236.17774963378906,
          245.3751678466797,
          255.51119995117188
         ],
         "yaxis": "y"
        },
        {
         "hovertemplate": "frame=71<br>x=%{x}<br>y=%{y}<extra></extra>",
         "legendgroup": "71",
         "line": {
          "color": "#EF553B",
          "dash": "solid"
         },
         "marker": {
          "symbol": "circle"
         },
         "mode": "lines",
         "name": "71",
         "showlegend": true,
         "type": "scattergl",
         "x": [
          336.58148193359375,
          375.54461669921875,
          410.2829284667969,
          454.1736145019531,
          498.9351501464844,
          537.775146484375,
          568.29345703125,
          586.1278076171875
         ],
         "xaxis": "x",
         "y": [
          209.9113006591797,
          233.55328369140625,
          249.52455139160156,
          252.72975158691406,
          240.39349365234375,
          234.3857879638672,
          238.78250122070312,
          248.53076171875
         ],
         "yaxis": "y"
        },
        {
         "hovertemplate": "frame=72<br>x=%{x}<br>y=%{y}<extra></extra>",
         "legendgroup": "72",
         "line": {
          "color": "#00cc96",
          "dash": "solid"
         },
         "marker": {
          "symbol": "circle"
         },
         "mode": "lines",
         "name": "72",
         "showlegend": true,
         "type": "scattergl",
         "x": [
          332.12933349609375,
          369.5317077636719,
          402.63818359375,
          448.401611328125,
          493.79736328125,
          530.196533203125,
          564.5903930664062,
          583.8018798828125
         ],
         "xaxis": "x",
         "y": [
          205.9300994873047,
          229.0361328125,
          247.2042999267578,
          254.42616271972656,
          242.70233154296875,
          235.10748291015625,
          235.4358673095703,
          244.03782653808594
         ],
         "yaxis": "y"
        },
        {
         "hovertemplate": "frame=73<br>x=%{x}<br>y=%{y}<extra></extra>",
         "legendgroup": "73",
         "line": {
          "color": "#ab63fa",
          "dash": "solid"
         },
         "marker": {
          "symbol": "circle"
         },
         "mode": "lines",
         "name": "73",
         "showlegend": true,
         "type": "scattergl",
         "x": [
          328.417236328125,
          367.14715576171875,
          399.30767822265625,
          442.0478820800781,
          487.59259033203125,
          521.7679443359375,
          553.0221557617188,
          572.4346923828125
         ],
         "xaxis": "x",
         "y": [
          201.48019409179688,
          226.42056274414062,
          247.46107482910156,
          257.0602111816406,
          245.9047088623047,
          236.62799072265625,
          232.04794311523438,
          234.94869995117188
         ],
         "yaxis": "y"
        },
        {
         "hovertemplate": "frame=74<br>x=%{x}<br>y=%{y}<extra></extra>",
         "legendgroup": "74",
         "line": {
          "color": "#FFA15A",
          "dash": "solid"
         },
         "marker": {
          "symbol": "circle"
         },
         "mode": "lines",
         "name": "74",
         "showlegend": true,
         "type": "scattergl",
         "x": [
          323.7296447753906,
          361.1618957519531,
          393.80975341796875,
          437.505126953125,
          483.5306701660156,
          516.7473754882812,
          547.2051391601562,
          567.48583984375
         ],
         "xaxis": "x",
         "y": [
          197.4445343017578,
          222.55223083496094,
          245.58786010742188,
          258.55548095703125,
          250.4269561767578,
          238.62191772460938,
          232.18826293945312,
          233.01675415039062
         ],
         "yaxis": "y"
        },
        {
         "hovertemplate": "frame=75<br>x=%{x}<br>y=%{y}<extra></extra>",
         "legendgroup": "75",
         "line": {
          "color": "#19d3f3",
          "dash": "solid"
         },
         "marker": {
          "symbol": "circle"
         },
         "mode": "lines",
         "name": "75",
         "showlegend": true,
         "type": "scattergl",
         "x": [
          318.73480224609375,
          360.9068908691406,
          391.6505126953125,
          432.1098327636719,
          473.82342529296875,
          507.210205078125,
          533.5316772460938,
          559.5712280273438
         ],
         "xaxis": "x",
         "y": [
          193.7875213623047,
          220.77381896972656,
          244.5991973876953,
          259.9703063964844,
          253.46006774902344,
          243.27127075195312,
          233.16517639160156,
          228.311767578125
         ],
         "yaxis": "y"
        },
        {
         "hovertemplate": "frame=76<br>x=%{x}<br>y=%{y}<extra></extra>",
         "legendgroup": "76",
         "line": {
          "color": "#FF6692",
          "dash": "solid"
         },
         "marker": {
          "symbol": "circle"
         },
         "mode": "lines",
         "name": "76",
         "showlegend": true,
         "type": "scattergl",
         "x": [
          313.33599853515625,
          355.60247802734375,
          387.4724426269531,
          425.11456298828125,
          466.346923828125,
          502.46722412109375,
          527.8756103515625,
          552.7410278320312
         ],
         "xaxis": "x",
         "y": [
          190.61026000976562,
          216.89633178710938,
          241.31639099121094,
          260.1335754394531,
          259.23541259765625,
          247.78298950195312,
          236.60980224609375,
          227.71221923828125
         ],
         "yaxis": "y"
        },
        {
         "hovertemplate": "frame=77<br>x=%{x}<br>y=%{y}<extra></extra>",
         "legendgroup": "77",
         "line": {
          "color": "#B6E880",
          "dash": "solid"
         },
         "marker": {
          "symbol": "circle"
         },
         "mode": "lines",
         "name": "77",
         "showlegend": true,
         "type": "scattergl",
         "x": [
          307.0458068847656,
          351.2378234863281,
          384.6277770996094,
          416.0753173828125,
          454.5293884277344,
          493.576904296875,
          519.0647583007812,
          545.4999389648438
         ],
         "xaxis": "x",
         "y": [
          189.02317810058594,
          213.351318359375,
          238.35479736328125,
          259.8858947753906,
          263.6435546875,
          252.1636505126953,
          241.14553833007812,
          228.11248779296875
         ],
         "yaxis": "y"
        },
        {
         "hovertemplate": "frame=78<br>x=%{x}<br>y=%{y}<extra></extra>",
         "legendgroup": "78",
         "line": {
          "color": "#FF97FF",
          "dash": "solid"
         },
         "marker": {
          "symbol": "circle"
         },
         "mode": "lines",
         "name": "78",
         "showlegend": true,
         "type": "scattergl",
         "x": [
          301.27069091796875,
          343.018798828125,
          373.4963684082031,
          404.9513854980469,
          445.9502868652344,
          484.509033203125,
          514.3553466796875,
          538.3909912109375
         ],
         "xaxis": "x",
         "y": [
          187.52845764160156,
          207.87367248535156,
          227.6126708984375,
          253.99273681640625,
          265.4911193847656,
          258.4129333496094,
          245.2080535888672,
          229.4329376220703
         ],
         "yaxis": "y"
        },
        {
         "hovertemplate": "frame=79<br>x=%{x}<br>y=%{y}<extra></extra>",
         "legendgroup": "79",
         "line": {
          "color": "#FECB52",
          "dash": "solid"
         },
         "marker": {
          "symbol": "circle"
         },
         "mode": "lines",
         "name": "79",
         "showlegend": true,
         "type": "scattergl",
         "x": [
          295.54559326171875,
          339.4921569824219,
          369.7133483886719,
          400.0198974609375,
          436.5434265136719,
          476.026611328125,
          507.89410400390625,
          532.0377807617188
         ],
         "xaxis": "x",
         "y": [
          186.94822692871094,
          204.8770751953125,
          223.30458068847656,
          248.82040405273438,
          266.26629638671875,
          263.7839050292969,
          251.30979919433594,
          233.02503967285156
         ],
         "yaxis": "y"
        },
        {
         "hovertemplate": "frame=80<br>x=%{x}<br>y=%{y}<extra></extra>",
         "legendgroup": "80",
         "line": {
          "color": "#636efa",
          "dash": "solid"
         },
         "marker": {
          "symbol": "circle"
         },
         "mode": "lines",
         "name": "80",
         "showlegend": true,
         "type": "scattergl",
         "x": [
          288.7156677246094,
          333.95281982421875,
          366.2287902832031,
          396.4232482910156,
          431.8025817871094,
          472.235595703125,
          506.9330749511719,
          528.3372802734375
         ],
         "xaxis": "x",
         "y": [
          187.03933715820312,
          202.75198364257812,
          219.83421325683594,
          245.14459228515625,
          266.22332763671875,
          267.4082946777344,
          255.01095581054688,
          236.06649780273438
         ],
         "yaxis": "y"
        },
        {
         "hovertemplate": "frame=81<br>x=%{x}<br>y=%{y}<extra></extra>",
         "legendgroup": "81",
         "line": {
          "color": "#EF553B",
          "dash": "solid"
         },
         "marker": {
          "symbol": "circle"
         },
         "mode": "lines",
         "name": "81",
         "showlegend": true,
         "type": "scattergl",
         "x": [
          282.0596618652344,
          324.8140563964844,
          359.9858093261719,
          390.0921630859375,
          427.43194580078125,
          468.2332458496094,
          500.761474609375,
          521.6697998046875
         ],
         "xaxis": "x",
         "y": [
          186.77919006347656,
          198.9894561767578,
          213.7767333984375,
          238.16653442382812,
          265.9065856933594,
          271.70355224609375,
          260.4835510253906,
          243.8542022705078
         ],
         "yaxis": "y"
        },
        {
         "hovertemplate": "frame=82<br>x=%{x}<br>y=%{y}<extra></extra>",
         "legendgroup": "82",
         "line": {
          "color": "#00cc96",
          "dash": "solid"
         },
         "marker": {
          "symbol": "circle"
         },
         "mode": "lines",
         "name": "82",
         "showlegend": true,
         "type": "scattergl",
         "x": [
          276.5035095214844,
          322.4190979003906,
          358.9598083496094,
          388.5981140136719,
          424.36468505859375,
          464.2606201171875,
          495.2682800292969,
          514.9296264648438
         ],
         "xaxis": "x",
         "y": [
          186.69850158691406,
          198.1643829345703,
          211.4569091796875,
          234.57106018066406,
          262.2321472167969,
          274.4339599609375,
          266.5374755859375,
          251.2276153564453
         ],
         "yaxis": "y"
        },
        {
         "hovertemplate": "frame=83<br>x=%{x}<br>y=%{y}<extra></extra>",
         "legendgroup": "83",
         "line": {
          "color": "#ab63fa",
          "dash": "solid"
         },
         "marker": {
          "symbol": "circle"
         },
         "mode": "lines",
         "name": "83",
         "showlegend": true,
         "type": "scattergl",
         "x": [
          268.3857421875,
          315.41754150390625,
          353.4356994628906,
          384.9574279785156,
          418.3121032714844,
          454.87615966796875,
          486.2998046875,
          506.7745666503906
         ],
         "xaxis": "x",
         "y": [
          187.29168701171875,
          196.96690368652344,
          208.22586059570312,
          229.99609375,
          258.86663818359375,
          276.2327575683594,
          273.47271728515625,
          262.9978332519531
         ],
         "yaxis": "y"
        },
        {
         "hovertemplate": "frame=84<br>x=%{x}<br>y=%{y}<extra></extra>",
         "legendgroup": "84",
         "line": {
          "color": "#FFA15A",
          "dash": "solid"
         },
         "marker": {
          "symbol": "circle"
         },
         "mode": "lines",
         "name": "84",
         "showlegend": true,
         "type": "scattergl",
         "x": [
          262.1743469238281,
          308.0695495605469,
          348.7292175292969,
          380.7206726074219,
          414.74371337890625,
          450.1454162597656,
          481.4968566894531,
          503.204833984375
         ],
         "xaxis": "x",
         "y": [
          188.03538513183594,
          195.41226196289062,
          205.2428741455078,
          224.00369262695312,
          254.6912384033203,
          276.5248718261719,
          278.0033264160156,
          269.058349609375
         ],
         "yaxis": "y"
        },
        {
         "hovertemplate": "frame=85<br>x=%{x}<br>y=%{y}<extra></extra>",
         "legendgroup": "85",
         "line": {
          "color": "#19d3f3",
          "dash": "solid"
         },
         "marker": {
          "symbol": "circle"
         },
         "mode": "lines",
         "name": "85",
         "showlegend": true,
         "type": "scattergl",
         "x": [
          254.04129028320312,
          296.6407470703125,
          344.0050964355469,
          376.15802001953125,
          408.64129638671875,
          441.4762878417969,
          472.8653259277344,
          496.85052490234375
         ],
         "xaxis": "x",
         "y": [
          187.23114013671875,
          195.0837860107422,
          202.1250457763672,
          218.0927734375,
          245.2992706298828,
          274.3528747558594,
          281.5953674316406,
          278.4562072753906
         ],
         "yaxis": "y"
        },
        {
         "hovertemplate": "frame=86<br>x=%{x}<br>y=%{y}<extra></extra>",
         "legendgroup": "86",
         "line": {
          "color": "#FF6692",
          "dash": "solid"
         },
         "marker": {
          "symbol": "circle"
         },
         "mode": "lines",
         "name": "86",
         "showlegend": true,
         "type": "scattergl",
         "x": [
          247.83236694335938,
          290.4290466308594,
          334.2689514160156,
          372.437255859375,
          402.42718505859375,
          431.44677734375,
          463.7409362792969,
          488.0312194824219
         ],
         "xaxis": "x",
         "y": [
          187.61756896972656,
          196.27279663085938,
          198.974609375,
          212.05377197265625,
          237.37051391601562,
          268.1922912597656,
          282.433349609375,
          284.44287109375
         ],
         "yaxis": "y"
        },
        {
         "hovertemplate": "frame=87<br>x=%{x}<br>y=%{y}<extra></extra>",
         "legendgroup": "87",
         "line": {
          "color": "#B6E880",
          "dash": "solid"
         },
         "marker": {
          "symbol": "circle"
         },
         "mode": "lines",
         "name": "87",
         "showlegend": true,
         "type": "scattergl",
         "x": [
          241.92105102539062,
          284.0127258300781,
          328.8597106933594,
          369.7313232421875,
          399.851806640625,
          428.55609130859375,
          454.6808776855469,
          478.05859375
         ],
         "xaxis": "x",
         "y": [
          186.14532470703125,
          197.9915008544922,
          197.36868286132812,
          207.7386932373047,
          231.13973999023438,
          263.02203369140625,
          282.24261474609375,
          288.64599609375
         ],
         "yaxis": "y"
        },
        {
         "hovertemplate": "frame=88<br>x=%{x}<br>y=%{y}<extra></extra>",
         "legendgroup": "88",
         "line": {
          "color": "#FF97FF",
          "dash": "solid"
         },
         "marker": {
          "symbol": "circle"
         },
         "mode": "lines",
         "name": "88",
         "showlegend": true,
         "type": "scattergl",
         "x": [
          235.94204711914062,
          282.6270751953125,
          329.5503234863281,
          370.86968994140625,
          401.3291320800781,
          427.1441650390625,
          449.00140380859375,
          471.52142333984375
         ],
         "xaxis": "x",
         "y": [
          184.2694854736328,
          198.18031311035156,
          197.8297119140625,
          206.7401885986328,
          229.27862548828125,
          259.8810119628906,
          279.755859375,
          288.8707275390625
         ],
         "yaxis": "y"
        },
        {
         "hovertemplate": "frame=89<br>x=%{x}<br>y=%{y}<extra></extra>",
         "legendgroup": "89",
         "line": {
          "color": "#FECB52",
          "dash": "solid"
         },
         "marker": {
          "symbol": "circle"
         },
         "mode": "lines",
         "name": "89",
         "showlegend": true,
         "type": "scattergl",
         "x": [
          230.89794921875,
          276.48974609375,
          321.33953857421875,
          361.91290283203125,
          396.22021484375,
          422.15618896484375,
          440.6860046386719,
          461.3332824707031
         ],
         "xaxis": "x",
         "y": [
          180.53335571289062,
          198.22064208984375,
          199.1868438720703,
          201.1308135986328,
          220.15267944335938,
          249.43545532226562,
          273.8476867675781,
          288.2950439453125
         ],
         "yaxis": "y"
        },
        {
         "hovertemplate": "frame=90<br>x=%{x}<br>y=%{y}<extra></extra>",
         "legendgroup": "90",
         "line": {
          "color": "#636efa",
          "dash": "solid"
         },
         "marker": {
          "symbol": "circle"
         },
         "mode": "lines",
         "name": "90",
         "showlegend": true,
         "type": "scattergl",
         "x": [
          225.20303344726562,
          269.74200439453125,
          307.7440490722656,
          347.20263671875,
          385.0997619628906,
          412.1674499511719,
          432.384033203125,
          449.70880126953125
         ],
         "xaxis": "x",
         "y": [
          176.2545623779297,
          196.5456085205078,
          200.60707092285156,
          197.6959686279297,
          209.1986541748047,
          236.0055694580078,
          261.5651550292969,
          280.23968505859375
         ],
         "yaxis": "y"
        },
        {
         "hovertemplate": "frame=91<br>x=%{x}<br>y=%{y}<extra></extra>",
         "legendgroup": "91",
         "line": {
          "color": "#EF553B",
          "dash": "solid"
         },
         "marker": {
          "symbol": "circle"
         },
         "mode": "lines",
         "name": "91",
         "showlegend": true,
         "type": "scattergl",
         "x": [
          220.72059631347656,
          264.2073059082031,
          301.2289733886719,
          342.85504150390625,
          382.98101806640625,
          410.9638977050781,
          431.203857421875,
          445.392333984375
         ],
         "xaxis": "x",
         "y": [
          172.12576293945312,
          195.7095184326172,
          201.42593383789062,
          198.9132080078125,
          207.4280548095703,
          231.49656677246094,
          255.60003662109375,
          277.1645812988281
         ],
         "yaxis": "y"
        },
        {
         "hovertemplate": "frame=92<br>x=%{x}<br>y=%{y}<extra></extra>",
         "legendgroup": "92",
         "line": {
          "color": "#00cc96",
          "dash": "solid"
         },
         "marker": {
          "symbol": "circle"
         },
         "mode": "lines",
         "name": "92",
         "showlegend": true,
         "type": "scattergl",
         "x": [
          215.61456298828125,
          259.557861328125,
          295.61627197265625,
          339.5637512207031,
          381.7460632324219,
          411.1298828125,
          430.8135070800781,
          442.48675537109375
         ],
         "xaxis": "x",
         "y": [
          166.635498046875,
          194.77838134765625,
          202.98870849609375,
          200.92803955078125,
          206.57492065429688,
          225.4509735107422,
          248.38380432128906,
          271.4834289550781
         ],
         "yaxis": "y"
        },
        {
         "hovertemplate": "frame=93<br>x=%{x}<br>y=%{y}<extra></extra>",
         "legendgroup": "93",
         "line": {
          "color": "#ab63fa",
          "dash": "solid"
         },
         "marker": {
          "symbol": "circle"
         },
         "mode": "lines",
         "name": "93",
         "showlegend": true,
         "type": "scattergl",
         "x": [
          211.55064392089844,
          252.99496459960938,
          291.2447509765625,
          335.684326171875,
          377.5109558105469,
          409.7478332519531,
          430.17706298828125,
          440.6828308105469
         ],
         "xaxis": "x",
         "y": [
          160.82980346679688,
          192.03280639648438,
          202.64891052246094,
          202.52279663085938,
          204.31336975097656,
          221.3667449951172,
          241.87745666503906,
          262.6273193359375
         ],
         "yaxis": "y"
        },
        {
         "hovertemplate": "frame=94<br>x=%{x}<br>y=%{y}<extra></extra>",
         "legendgroup": "94",
         "line": {
          "color": "#FFA15A",
          "dash": "solid"
         },
         "marker": {
          "symbol": "circle"
         },
         "mode": "lines",
         "name": "94",
         "showlegend": true,
         "type": "scattergl",
         "x": [
          207.66397094726562,
          245.0724334716797,
          285.0289306640625,
          328.6899719238281,
          372.0401306152344,
          408.8337707519531,
          431.4695129394531,
          440.545166015625
         ],
         "xaxis": "x",
         "y": [
          154.00534057617188,
          187.68923950195312,
          202.94412231445312,
          204.47000122070312,
          203.3574676513672,
          217.69766235351562,
          237.64659118652344,
          255.82406616210938
         ],
         "yaxis": "y"
        },
        {
         "hovertemplate": "frame=95<br>x=%{x}<br>y=%{y}<extra></extra>",
         "legendgroup": "95",
         "line": {
          "color": "#19d3f3",
          "dash": "solid"
         },
         "marker": {
          "symbol": "circle"
         },
         "mode": "lines",
         "name": "95",
         "showlegend": true,
         "type": "scattergl",
         "x": [
          203.88563537597656,
          239.38824462890625,
          272.76617431640625,
          311.091796875,
          358.2947998046875,
          397.4909973144531,
          422.5330810546875,
          434.0709533691406
         ],
         "xaxis": "x",
         "y": [
          148.4694366455078,
          182.5067596435547,
          201.44483947753906,
          207.98175048828125,
          204.52120971679688,
          209.59400939941406,
          224.88885498046875,
          239.69436645507812
         ],
         "yaxis": "y"
        },
        {
         "hovertemplate": "frame=96<br>x=%{x}<br>y=%{y}<extra></extra>",
         "legendgroup": "96",
         "line": {
          "color": "#FF6692",
          "dash": "solid"
         },
         "marker": {
          "symbol": "circle"
         },
         "mode": "lines",
         "name": "96",
         "showlegend": true,
         "type": "scattergl",
         "x": [
          201.2787628173828,
          231.35003662109375,
          262.3124084472656,
          302.9977111816406,
          347.0959167480469,
          386.8968505859375,
          417.5700378417969,
          431.58544921875
         ],
         "xaxis": "x",
         "y": [
          142.25018310546875,
          175.27505493164062,
          198.61473083496094,
          208.66464233398438,
          207.55409240722656,
          206.25961303710938,
          216.65147399902344,
          228.8702850341797
         ],
         "yaxis": "y"
        },
        {
         "hovertemplate": "frame=97<br>x=%{x}<br>y=%{y}<extra></extra>",
         "legendgroup": "97",
         "line": {
          "color": "#B6E880",
          "dash": "solid"
         },
         "marker": {
          "symbol": "circle"
         },
         "mode": "lines",
         "name": "97",
         "showlegend": true,
         "type": "scattergl",
         "x": [
          196.56869506835938,
          227.8876190185547,
          257.1105041503906,
          296.7241516113281,
          342.09796142578125,
          376.0361633300781,
          405.7696533203125,
          425.85400390625
         ],
         "xaxis": "x",
         "y": [
          136.87838745117188,
          172.27806091308594,
          197.46981811523438,
          210.4171905517578,
          208.75442504882812,
          205.39376831054688,
          208.43649291992188,
          218.90284729003906
         ],
         "yaxis": "y"
        },
        {
         "hovertemplate": "frame=98<br>x=%{x}<br>y=%{y}<extra></extra>",
         "legendgroup": "98",
         "line": {
          "color": "#FF97FF",
          "dash": "solid"
         },
         "marker": {
          "symbol": "circle"
         },
         "mode": "lines",
         "name": "98",
         "showlegend": true,
         "type": "scattergl",
         "x": [
          191.39476013183594,
          222.24002075195312,
          250.12550354003906,
          289.2894287109375,
          334.28546142578125,
          367.2858581542969,
          397.3518371582031,
          418.7686462402344
         ],
         "xaxis": "x",
         "y": [
          132.03196716308594,
          164.02215576171875,
          194.6099090576172,
          211.205078125,
          211.8707733154297,
          206.34022521972656,
          205.10450744628906,
          210.78598022460938
         ],
         "yaxis": "y"
        },
        {
         "hovertemplate": "frame=99<br>x=%{x}<br>y=%{y}<extra></extra>",
         "legendgroup": "99",
         "line": {
          "color": "#FECB52",
          "dash": "solid"
         },
         "marker": {
          "symbol": "circle"
         },
         "mode": "lines",
         "name": "99",
         "showlegend": true,
         "type": "scattergl",
         "x": [
          186.67062377929688,
          217.76856994628906,
          244.80587768554688,
          281.24676513671875,
          324.6505126953125,
          365.0013122558594,
          393.2458801269531,
          418.79833984375
         ],
         "xaxis": "x",
         "y": [
          127.29613494873047,
          160.59207153320312,
          190.84523010253906,
          211.71424865722656,
          214.33123779296875,
          208.02674865722656,
          203.94837951660156,
          207.40196228027344
         ],
         "yaxis": "y"
        },
        {
         "hovertemplate": "frame=100<br>x=%{x}<br>y=%{y}<extra></extra>",
         "legendgroup": "100",
         "line": {
          "color": "#636efa",
          "dash": "solid"
         },
         "marker": {
          "symbol": "circle"
         },
         "mode": "lines",
         "name": "100",
         "showlegend": true,
         "type": "scattergl",
         "x": [
          182.31199645996094,
          214.97972106933594,
          241.2766571044922,
          275.6761169433594,
          312.8804016113281,
          354.2563171386719,
          382.7104797363281,
          409.8394775390625
         ],
         "xaxis": "x",
         "y": [
          123.19131469726562,
          156.1506805419922,
          188.83663940429688,
          212.86614990234375,
          216.83189392089844,
          210.25892639160156,
          204.13648986816406,
          204.02581787109375
         ],
         "yaxis": "y"
        },
        {
         "hovertemplate": "frame=101<br>x=%{x}<br>y=%{y}<extra></extra>",
         "legendgroup": "101",
         "line": {
          "color": "#EF553B",
          "dash": "solid"
         },
         "marker": {
          "symbol": "circle"
         },
         "mode": "lines",
         "name": "101",
         "showlegend": true,
         "type": "scattergl",
         "x": [
          176.77195739746094,
          210.45452880859375,
          237.4122314453125,
          267.6431579589844,
          303.49609375,
          340.62420654296875,
          371.6778259277344,
          400.478515625
         ],
         "xaxis": "x",
         "y": [
          119.86685180664062,
          151.36228942871094,
          183.3963165283203,
          209.77993774414062,
          218.62945556640625,
          215.0626678466797,
          207.23471069335938,
          200.81011962890625
         ],
         "yaxis": "y"
        },
        {
         "hovertemplate": "frame=102<br>x=%{x}<br>y=%{y}<extra></extra>",
         "legendgroup": "102",
         "line": {
          "color": "#00cc96",
          "dash": "solid"
         },
         "marker": {
          "symbol": "circle"
         },
         "mode": "lines",
         "name": "102",
         "showlegend": true,
         "type": "scattergl",
         "x": [
          171.41380310058594,
          205.57553100585938,
          232.28945922851562,
          259.1840515136719,
          296.4697570800781,
          336.97332763671875,
          368.46148681640625,
          397.1282653808594
         ],
         "xaxis": "x",
         "y": [
          117.50569152832031,
          146.35638427734375,
          175.73277282714844,
          204.92388916015625,
          219.54286193847656,
          216.31683349609375,
          208.65675354003906,
          200.02243041992188
         ],
         "yaxis": "y"
        },
        {
         "hovertemplate": "frame=103<br>x=%{x}<br>y=%{y}<extra></extra>",
         "legendgroup": "103",
         "line": {
          "color": "#ab63fa",
          "dash": "solid"
         },
         "marker": {
          "symbol": "circle"
         },
         "mode": "lines",
         "name": "103",
         "showlegend": true,
         "type": "scattergl",
         "x": [
          165.14256286621094,
          200.87030029296875,
          227.66114807128906,
          254.76846313476562,
          289.4261474609375,
          327.734375,
          360.0810241699219,
          389.87603759765625
         ],
         "xaxis": "x",
         "y": [
          115.25354766845703,
          142.2474365234375,
          168.95623779296875,
          199.87191772460938,
          220.14385986328125,
          220.40921020507812,
          212.5550994873047,
          200.8028106689453
         ],
         "yaxis": "y"
        },
        {
         "hovertemplate": "frame=104<br>x=%{x}<br>y=%{y}<extra></extra>",
         "legendgroup": "104",
         "line": {
          "color": "#FFA15A",
          "dash": "solid"
         },
         "marker": {
          "symbol": "circle"
         },
         "mode": "lines",
         "name": "104",
         "showlegend": true,
         "type": "scattergl",
         "x": [
          157.71258544921875,
          195.9786376953125,
          224.0309295654297,
          249.7453155517578,
          284.01080322265625,
          323.22686767578125,
          357.5661315917969,
          385.2370300292969
         ],
         "xaxis": "x",
         "y": [
          114.05110931396484,
          138.65235900878906,
          163.2009735107422,
          194.9001007080078,
          219.46728515625,
          223.7555389404297,
          215.19798278808594,
          201.9377899169922
         ],
         "yaxis": "y"
        },
        {
         "hovertemplate": "frame=105<br>x=%{x}<br>y=%{y}<extra></extra>",
         "legendgroup": "105",
         "line": {
          "color": "#19d3f3",
          "dash": "solid"
         },
         "marker": {
          "symbol": "circle"
         },
         "mode": "lines",
         "name": "105",
         "showlegend": true,
         "type": "scattergl",
         "x": [
          151.64524841308594,
          191.7415008544922,
          222.13294982910156,
          245.0301055908203,
          276.0045166015625,
          314.7774353027344,
          350.1129150390625,
          375.15203857421875
         ],
         "xaxis": "x",
         "y": [
          111.76405334472656,
          135.4913330078125,
          159.80853271484375,
          188.13204956054688,
          215.8789520263672,
          227.44691467285156,
          221.1627197265625,
          208.97471618652344
         ],
         "yaxis": "y"
        },
        {
         "hovertemplate": "frame=106<br>x=%{x}<br>y=%{y}<extra></extra>",
         "legendgroup": "106",
         "line": {
          "color": "#FF6692",
          "dash": "solid"
         },
         "marker": {
          "symbol": "circle"
         },
         "mode": "lines",
         "name": "106",
         "showlegend": true,
         "type": "scattergl",
         "x": [
          144.18601989746094,
          186.43629455566406,
          218.99407958984375,
          244.33624267578125,
          273.480712890625,
          311.8967590332031,
          344.03143310546875,
          368.0946350097656
         ],
         "xaxis": "x",
         "y": [
          111.68216705322266,
          131.486083984375,
          154.09547424316406,
          184.0753631591797,
          214.47006225585938,
          229.07936096191406,
          224.8618927001953,
          215.3332977294922
         ],
         "yaxis": "y"
        },
        {
         "hovertemplate": "frame=107<br>x=%{x}<br>y=%{y}<extra></extra>",
         "legendgroup": "107",
         "line": {
          "color": "#B6E880",
          "dash": "solid"
         },
         "marker": {
          "symbol": "circle"
         },
         "mode": "lines",
         "name": "107",
         "showlegend": true,
         "type": "scattergl",
         "x": [
          136.73690795898438,
          180.65914916992188,
          215.79344177246094,
          242.56430053710938,
          271.71405029296875,
          309.2549743652344,
          342.0843200683594,
          364.84222412109375
         ],
         "xaxis": "x",
         "y": [
          110.17804718017578,
          129.0455322265625,
          150.07225036621094,
          179.5495147705078,
          211.6942138671875,
          230.5711669921875,
          228.6443634033203,
          219.5785675048828
         ],
         "yaxis": "y"
        },
        {
         "hovertemplate": "frame=108<br>x=%{x}<br>y=%{y}<extra></extra>",
         "legendgroup": "108",
         "line": {
          "color": "#FF97FF",
          "dash": "solid"
         },
         "marker": {
          "symbol": "circle"
         },
         "mode": "lines",
         "name": "108",
         "showlegend": true,
         "type": "scattergl",
         "x": [
          128.99069213867188,
          174.44989013671875,
          211.8033905029297,
          240.8724365234375,
          269.5627746582031,
          303.31549072265625,
          333.6905822753906,
          357.27215576171875
         ],
         "xaxis": "x",
         "y": [
          109.3475570678711,
          127.8434066772461,
          146.5872802734375,
          174.94252014160156,
          207.61842346191406,
          230.6552276611328,
          232.16473388671875,
          226.66531372070312
         ],
         "yaxis": "y"
        },
        {
         "hovertemplate": "frame=109<br>x=%{x}<br>y=%{y}<extra></extra>",
         "legendgroup": "109",
         "line": {
          "color": "#FECB52",
          "dash": "solid"
         },
         "marker": {
          "symbol": "circle"
         },
         "mode": "lines",
         "name": "109",
         "showlegend": true,
         "type": "scattergl",
         "x": [
          121.73751068115234,
          166.0965576171875,
          206.37741088867188,
          235.97528076171875,
          262.76226806640625,
          292.8724670410156,
          324.2586975097656,
          349.120849609375
         ],
         "xaxis": "x",
         "y": [
          108.12754821777344,
          124.82464599609375,
          141.5142822265625,
          164.67462158203125,
          196.31866455078125,
          226.4011993408203,
          235.29478454589844,
          233.1754608154297
         ],
         "yaxis": "y"
        },
        {
         "hovertemplate": "frame=110<br>x=%{x}<br>y=%{y}<extra></extra>",
         "legendgroup": "110",
         "line": {
          "color": "#636efa",
          "dash": "solid"
         },
         "marker": {
          "symbol": "circle"
         },
         "mode": "lines",
         "name": "110",
         "showlegend": true,
         "type": "scattergl",
         "x": [
          114.1156005859375,
          157.07992553710938,
          201.5349578857422,
          232.82977294921875,
          258.3931579589844,
          286.43280029296875,
          313.6419677734375,
          339.85546875
         ],
         "xaxis": "x",
         "y": [
          105.21732330322266,
          123.40553283691406,
          137.3050537109375,
          158.04429626464844,
          186.88412475585938,
          220.6497039794922,
          235.44105529785156,
          236.0080108642578
         ],
         "yaxis": "y"
        },
        {
         "hovertemplate": "frame=111<br>x=%{x}<br>y=%{y}<extra></extra>",
         "legendgroup": "111",
         "line": {
          "color": "#EF553B",
          "dash": "solid"
         },
         "marker": {
          "symbol": "circle"
         },
         "mode": "lines",
         "name": "111",
         "showlegend": true,
         "type": "scattergl",
         "x": [
          107.62273406982422,
          148.6365966796875,
          192.22976684570312,
          228.1413116455078,
          254.93978881835938,
          281.1080017089844,
          304.7677917480469,
          333.0492858886719
         ],
         "xaxis": "x",
         "y": [
          103.6641616821289,
          122.11485290527344,
          131.43447875976562,
          151.4510498046875,
          180.07725524902344,
          215.6122283935547,
          232.8467254638672,
          238.8832244873047
         ],
         "yaxis": "y"
        },
        {
         "hovertemplate": "frame=112<br>x=%{x}<br>y=%{y}<extra></extra>",
         "legendgroup": "112",
         "line": {
          "color": "#00cc96",
          "dash": "solid"
         },
         "marker": {
          "symbol": "circle"
         },
         "mode": "lines",
         "name": "112",
         "showlegend": true,
         "type": "scattergl",
         "x": [
          102.16057586669922,
          141.12118530273438,
          184.49945068359375,
          222.38461303710938,
          252.03082275390625,
          275.2922668457031,
          298.076416015625,
          324.708251953125
         ],
         "xaxis": "x",
         "y": [
          99.9666748046875,
          120.52239227294922,
          129.73294067382812,
          143.87637329101562,
          172.58021545410156,
          207.0604705810547,
          230.6309356689453,
          239.7543182373047
         ],
         "yaxis": "y"
        },
        {
         "hovertemplate": "frame=113<br>x=%{x}<br>y=%{y}<extra></extra>",
         "legendgroup": "113",
         "line": {
          "color": "#ab63fa",
          "dash": "solid"
         },
         "marker": {
          "symbol": "circle"
         },
         "mode": "lines",
         "name": "113",
         "showlegend": true,
         "type": "scattergl",
         "x": [
          96.20289611816406,
          135.96768188476562,
          179.28564453125,
          217.18527221679688,
          250.0770263671875,
          271.8490905761719,
          292.5217590332031,
          315.1710205078125
         ],
         "xaxis": "x",
         "y": [
          95.16671752929688,
          118.88002014160156,
          128.05224609375,
          138.3094482421875,
          166.69631958007812,
          200.5462188720703,
          224.418701171875,
          239.2581787109375
         ],
         "yaxis": "y"
        },
        {
         "hovertemplate": "frame=114<br>x=%{x}<br>y=%{y}<extra></extra>",
         "legendgroup": "114",
         "line": {
          "color": "#FFA15A",
          "dash": "solid"
         },
         "marker": {
          "symbol": "circle"
         },
         "mode": "lines",
         "name": "114",
         "showlegend": true,
         "type": "scattergl",
         "x": [
          90.92941284179688,
          132.7572021484375,
          176.58692932128906,
          214.95062255859375,
          248.02183532714844,
          270.8041687011719,
          288.30584716796875,
          307.8273620605469
         ],
         "xaxis": "x",
         "y": [
          89.4796142578125,
          117.24989318847656,
          127.41490936279297,
          134.75729370117188,
          160.7216339111328,
          194.135986328125,
          220.55258178710938,
          236.60890197753906
         ],
         "yaxis": "y"
        },
        {
         "hovertemplate": "frame=115<br>x=%{x}<br>y=%{y}<extra></extra>",
         "legendgroup": "115",
         "line": {
          "color": "#19d3f3",
          "dash": "solid"
         },
         "marker": {
          "symbol": "circle"
         },
         "mode": "lines",
         "name": "115",
         "showlegend": true,
         "type": "scattergl",
         "x": [
          87.4360122680664,
          122.97770690917969,
          163.0219268798828,
          200.8517608642578,
          239.72303771972656,
          263.9637756347656,
          279.2347717285156,
          296.70635986328125
         ],
         "xaxis": "x",
         "y": [
          83.99241638183594,
          112.76697540283203,
          125.55951690673828,
          130.6180419921875,
          150.5502471923828,
          180.22933959960938,
          208.3590850830078,
          232.20458984375
         ],
         "yaxis": "y"
        },
        {
         "hovertemplate": "frame=116<br>x=%{x}<br>y=%{y}<extra></extra>",
         "legendgroup": "116",
         "line": {
          "color": "#FF6692",
          "dash": "solid"
         },
         "marker": {
          "symbol": "circle"
         },
         "mode": "lines",
         "name": "116",
         "showlegend": true,
         "type": "scattergl",
         "x": [
          82.67800903320312,
          116.47429656982422,
          153.43959045410156,
          194.2830047607422,
          237.1753387451172,
          262.7720642089844,
          278.79302978515625,
          293.5631408691406
         ],
         "xaxis": "x",
         "y": [
          78.20243072509766,
          109.59557342529297,
          125.53040313720703,
          129.86257934570312,
          145.99530029296875,
          175.2073974609375,
          203.13638305664062,
          227.78916931152344
         ],
         "yaxis": "y"
        },
        {
         "hovertemplate": "frame=117<br>x=%{x}<br>y=%{y}<extra></extra>",
         "legendgroup": "117",
         "line": {
          "color": "#B6E880",
          "dash": "solid"
         },
         "marker": {
          "symbol": "circle"
         },
         "mode": "lines",
         "name": "117",
         "showlegend": true,
         "type": "scattergl",
         "x": [
          78.64073944091797,
          113.7763671875,
          147.81361389160156,
          190.5017852783203,
          232.87789916992188,
          260.22686767578125,
          277.4617919921875,
          288.2328796386719
         ],
         "xaxis": "x",
         "y": [
          71.85469055175781,
          106.658203125,
          125.13226318359375,
          129.90330505371094,
          142.798095703125,
          167.3814239501953,
          194.37574768066406,
          217.2847900390625
         ],
         "yaxis": "y"
        },
        {
         "hovertemplate": "frame=118<br>x=%{x}<br>y=%{y}<extra></extra>",
         "legendgroup": "118",
         "line": {
          "color": "#FF97FF",
          "dash": "solid"
         },
         "marker": {
          "symbol": "circle"
         },
         "mode": "lines",
         "name": "118",
         "showlegend": true,
         "type": "scattergl",
         "x": [
          76.34576416015625,
          106.00887298583984,
          137.9550323486328,
          181.5665283203125,
          228.443359375,
          259.31890869140625,
          277.7987976074219,
          287.2621154785156
         ],
         "xaxis": "x",
         "y": [
          65.32189178466797,
          100.36117553710938,
          123.76515197753906,
          129.94361877441406,
          140.25601196289062,
          162.86634826660156,
          187.1774444580078,
          209.59022521972656
         ],
         "yaxis": "y"
        },
        {
         "hovertemplate": "frame=119<br>x=%{x}<br>y=%{y}<extra></extra>",
         "legendgroup": "119",
         "line": {
          "color": "#FECB52",
          "dash": "solid"
         },
         "marker": {
          "symbol": "circle"
         },
         "mode": "lines",
         "name": "119",
         "showlegend": true,
         "type": "scattergl",
         "x": [
          72.7287826538086,
          101.33207702636719,
          130.9962158203125,
          171.3340606689453,
          221.50636291503906,
          254.60549926757812,
          275.89886474609375,
          285.06500244140625
         ],
         "xaxis": "x",
         "y": [
          58.44709014892578,
          95.98997497558594,
          119.8990249633789,
          130.18423461914062,
          138.9949951171875,
          157.37872314453125,
          178.2544708251953,
          197.31607055664062
         ],
         "yaxis": "y"
        },
        {
         "hovertemplate": "frame=120<br>x=%{x}<br>y=%{y}<extra></extra>",
         "legendgroup": "120",
         "line": {
          "color": "#636efa",
          "dash": "solid"
         },
         "marker": {
          "symbol": "circle"
         },
         "mode": "lines",
         "name": "120",
         "showlegend": true,
         "type": "scattergl",
         "x": [
          69.85757446289062,
          98.24655151367188,
          126.40229797363281,
          165.14239501953125,
          216.34600830078125,
          254.34996032714844,
          275.72760009765625,
          285.411376953125
         ],
         "xaxis": "x",
         "y": [
          53.001991271972656,
          92.48344421386719,
          118.34087371826172,
          130.97933959960938,
          138.23690795898438,
          154.58485412597656,
          172.83950805664062,
          191.01670837402344
         ],
         "yaxis": "y"
        },
        {
         "hovertemplate": "frame=121<br>x=%{x}<br>y=%{y}<extra></extra>",
         "legendgroup": "121",
         "line": {
          "color": "#EF553B",
          "dash": "solid"
         },
         "marker": {
          "symbol": "circle"
         },
         "mode": "lines",
         "name": "121",
         "showlegend": true,
         "type": "scattergl",
         "x": [
          66.02053833007812,
          92.01017761230469,
          117.74191284179688,
          157.724609375,
          205.2205352783203,
          245.01527404785156,
          269.6056823730469,
          282.85565185546875
         ],
         "xaxis": "x",
         "y": [
          47.43639373779297,
          85.96166229248047,
          113.8105697631836,
          130.5862579345703,
          137.42837524414062,
          146.86122131347656,
          163.44944763183594,
          179.23435974121094
         ],
         "yaxis": "y"
        },
        {
         "hovertemplate": "frame=122<br>x=%{x}<br>y=%{y}<extra></extra>",
         "legendgroup": "122",
         "line": {
          "color": "#00cc96",
          "dash": "solid"
         },
         "marker": {
          "symbol": "circle"
         },
         "mode": "lines",
         "name": "122",
         "showlegend": true,
         "type": "scattergl",
         "x": [
          61.79906463623047,
          87.42100524902344,
          113.33927917480469,
          149.2410430908203,
          196.84400939941406,
          233.53041076660156,
          263.4776916503906,
          276.69525146484375
         ],
         "xaxis": "x",
         "y": [
          42.13166046142578,
          78.79753112792969,
          111.58621215820312,
          130.91148376464844,
          138.37734985351562,
          143.43426513671875,
          154.07669067382812,
          166.90975952148438
         ],
         "yaxis": "y"
        },
        {
         "hovertemplate": "frame=123<br>x=%{x}<br>y=%{y}<extra></extra>",
         "legendgroup": "123",
         "line": {
          "color": "#ab63fa",
          "dash": "solid"
         },
         "marker": {
          "symbol": "circle"
         },
         "mode": "lines",
         "name": "123",
         "showlegend": true,
         "type": "scattergl",
         "x": [
          58.140926361083984,
          84.86575317382812,
          109.7199478149414,
          144.23788452148438,
          190.22842407226562,
          227.43710327148438,
          257.88262939453125,
          273.6997375488281
         ],
         "xaxis": "x",
         "y": [
          37.48405456542969,
          72.78665924072266,
          108.45311737060547,
          131.219482421875,
          140.02914428710938,
          142.249267578125,
          150.55062866210938,
          160.46827697753906
         ],
         "yaxis": "y"
        },
        {
         "hovertemplate": "frame=124<br>x=%{x}<br>y=%{y}<extra></extra>",
         "legendgroup": "124",
         "line": {
          "color": "#FFA15A",
          "dash": "solid"
         },
         "marker": {
          "symbol": "circle"
         },
         "mode": "lines",
         "name": "124",
         "showlegend": true,
         "type": "scattergl",
         "x": [
          54.564212799072266,
          80.24105072021484,
          102.56443786621094,
          135.1667938232422,
          181.42237854003906,
          221.1973876953125,
          253.4130859375,
          269.9632568359375
         ],
         "xaxis": "x",
         "y": [
          32.58903503417969,
          65.29670715332031,
          102.07426452636719,
          129.8103485107422,
          140.7009735107422,
          140.63819885253906,
          147.0363006591797,
          155.7011260986328
         ],
         "yaxis": "y"
        },
        {
         "hovertemplate": "frame=125<br>x=%{x}<br>y=%{y}<extra></extra>",
         "legendgroup": "125",
         "line": {
          "color": "#19d3f3",
          "dash": "solid"
         },
         "marker": {
          "symbol": "circle"
         },
         "mode": "lines",
         "name": "125",
         "showlegend": true,
         "type": "scattergl",
         "x": [
          50.857078552246094,
          78.74628448486328,
          98.98139953613281,
          130.17742919921875,
          169.17306518554688,
          211.59703063964844,
          240.69593811035156,
          263.1944885253906
         ],
         "xaxis": "x",
         "y": [
          28.13291358947754,
          62.05647277832031,
          97.95932006835938,
          129.3545684814453,
          141.02674865722656,
          141.8079376220703,
          142.79953002929688,
          147.43136596679688
         ],
         "yaxis": "y"
        },
        {
         "hovertemplate": "frame=126<br>x=%{x}<br>y=%{y}<extra></extra>",
         "legendgroup": "126",
         "line": {
          "color": "#FF6692",
          "dash": "solid"
         },
         "marker": {
          "symbol": "circle"
         },
         "mode": "lines",
         "name": "126",
         "showlegend": true,
         "type": "scattergl",
         "x": [
          47.0423469543457,
          76.96306610107422,
          97.52000427246094,
          127.15325164794922,
          164.07745361328125,
          204.89105224609375,
          233.8817901611328,
          259.5452575683594
         ],
         "xaxis": "x",
         "y": [
          23.58728790283203,
          57.408348083496094,
          95.83173370361328,
          127.74430847167969,
          141.8408660888672,
          143.1448516845703,
          142.14881896972656,
          144.84368896484375
         ],
         "yaxis": "y"
        },
        {
         "hovertemplate": "frame=127<br>x=%{x}<br>y=%{y}<extra></extra>",
         "legendgroup": "127",
         "line": {
          "color": "#B6E880",
          "dash": "solid"
         },
         "marker": {
          "symbol": "circle"
         },
         "mode": "lines",
         "name": "127",
         "showlegend": true,
         "type": "scattergl",
         "x": [
          42.04148864746094,
          71.49586486816406,
          93.89000701904297,
          115.69144439697266,
          150.37313842773438,
          192.1707000732422,
          222.13722229003906,
          255.9103546142578
         ],
         "xaxis": "x",
         "y": [
          21.862974166870117,
          52.025367736816406,
          90.62892150878906,
          120.86329650878906,
          140.39529418945312,
          143.8372344970703,
          143.01644897460938,
          142.02633666992188
         ],
         "yaxis": "y"
        },
        {
         "hovertemplate": "frame=128<br>x=%{x}<br>y=%{y}<extra></extra>",
         "legendgroup": "128",
         "line": {
          "color": "#FF97FF",
          "dash": "solid"
         },
         "marker": {
          "symbol": "circle"
         },
         "mode": "lines",
         "name": "128",
         "showlegend": true,
         "type": "scattergl",
         "x": [
          35.83553695678711,
          66.93280029296875,
          91.24745178222656,
          111.6241683959961,
          145.17396545410156,
          187.58108520507812,
          221.52915954589844,
          251.0126953125
         ],
         "xaxis": "x",
         "y": [
          18.1217041015625,
          47.32499694824219,
          83.81501770019531,
          117.67193603515625,
          140.6034393310547,
          146.08094787597656,
          142.28933715820312,
          140.7052764892578
         ],
         "yaxis": "y"
        },
        {
         "hovertemplate": "frame=129<br>x=%{x}<br>y=%{y}<extra></extra>",
         "legendgroup": "129",
         "line": {
          "color": "#FECB52",
          "dash": "solid"
         },
         "marker": {
          "symbol": "circle"
         },
         "mode": "lines",
         "name": "129",
         "showlegend": true,
         "type": "scattergl",
         "x": [
          30.52657699584961,
          65.30845642089844,
          88.98881530761719,
          108.88636779785156,
          139.54188537597656,
          180.30581665039062,
          212.6598358154297,
          241.56642150878906
         ],
         "xaxis": "x",
         "y": [
          14.828378677368164,
          46.05262756347656,
          79.2440414428711,
          113.42151641845703,
          139.976806640625,
          148.37484741210938,
          144.845458984375,
          138.92762756347656
         ],
         "yaxis": "y"
        },
        {
         "hovertemplate": "frame=130<br>x=%{x}<br>y=%{y}<extra></extra>",
         "legendgroup": "130",
         "line": {
          "color": "#636efa",
          "dash": "solid"
         },
         "marker": {
          "symbol": "circle"
         },
         "mode": "lines",
         "name": "130",
         "showlegend": true,
         "type": "scattergl",
         "x": [
          24.000473022460938,
          61.215579986572266,
          85.33990478515625,
          106.55056762695312,
          133.48046875,
          173.24269104003906,
          207.47183227539062,
          234.31100463867188
         ],
         "xaxis": "x",
         "y": [
          11.739752769470215,
          40.94303512573242,
          73.73330688476562,
          108.44266510009766,
          136.7966766357422,
          150.52572631835938,
          147.20472717285156,
          139.55633544921875
         ],
         "yaxis": "y"
        },
        {
         "hovertemplate": "frame=131<br>x=%{x}<br>y=%{y}<extra></extra>",
         "legendgroup": "131",
         "line": {
          "color": "#EF553B",
          "dash": "solid"
         },
         "marker": {
          "symbol": "circle"
         },
         "mode": "lines",
         "name": "131",
         "showlegend": true,
         "type": "scattergl",
         "x": [
          17.691585540771484,
          54.256935119628906,
          81.5124740600586,
          102.22404479980469,
          130.03207397460938,
          167.71331787109375,
          201.80596923828125,
          226.32847595214844
         ],
         "xaxis": "x",
         "y": [
          10.456287384033203,
          37.2020378112793,
          66.5384750366211,
          102.42169952392578,
          136.47666931152344,
          151.9979248046875,
          149.8542022705078,
          141.51744079589844
         ],
         "yaxis": "y"
        }
       ],
       "layout": {
        "legend": {
         "title": {
          "text": "frame"
         },
         "tracegroupgap": 0
        },
        "margin": {
         "t": 60
        },
        "template": {
         "data": {
          "bar": [
           {
            "error_x": {
             "color": "#2a3f5f"
            },
            "error_y": {
             "color": "#2a3f5f"
            },
            "marker": {
             "line": {
              "color": "#E5ECF6",
              "width": 0.5
             },
             "pattern": {
              "fillmode": "overlay",
              "size": 10,
              "solidity": 0.2
             }
            },
            "type": "bar"
           }
          ],
          "barpolar": [
           {
            "marker": {
             "line": {
              "color": "#E5ECF6",
              "width": 0.5
             },
             "pattern": {
              "fillmode": "overlay",
              "size": 10,
              "solidity": 0.2
             }
            },
            "type": "barpolar"
           }
          ],
          "carpet": [
           {
            "aaxis": {
             "endlinecolor": "#2a3f5f",
             "gridcolor": "white",
             "linecolor": "white",
             "minorgridcolor": "white",
             "startlinecolor": "#2a3f5f"
            },
            "baxis": {
             "endlinecolor": "#2a3f5f",
             "gridcolor": "white",
             "linecolor": "white",
             "minorgridcolor": "white",
             "startlinecolor": "#2a3f5f"
            },
            "type": "carpet"
           }
          ],
          "choropleth": [
           {
            "colorbar": {
             "outlinewidth": 0,
             "ticks": ""
            },
            "type": "choropleth"
           }
          ],
          "contour": [
           {
            "colorbar": {
             "outlinewidth": 0,
             "ticks": ""
            },
            "colorscale": [
             [
              0,
              "#0d0887"
             ],
             [
              0.1111111111111111,
              "#46039f"
             ],
             [
              0.2222222222222222,
              "#7201a8"
             ],
             [
              0.3333333333333333,
              "#9c179e"
             ],
             [
              0.4444444444444444,
              "#bd3786"
             ],
             [
              0.5555555555555556,
              "#d8576b"
             ],
             [
              0.6666666666666666,
              "#ed7953"
             ],
             [
              0.7777777777777778,
              "#fb9f3a"
             ],
             [
              0.8888888888888888,
              "#fdca26"
             ],
             [
              1,
              "#f0f921"
             ]
            ],
            "type": "contour"
           }
          ],
          "contourcarpet": [
           {
            "colorbar": {
             "outlinewidth": 0,
             "ticks": ""
            },
            "type": "contourcarpet"
           }
          ],
          "heatmap": [
           {
            "colorbar": {
             "outlinewidth": 0,
             "ticks": ""
            },
            "colorscale": [
             [
              0,
              "#0d0887"
             ],
             [
              0.1111111111111111,
              "#46039f"
             ],
             [
              0.2222222222222222,
              "#7201a8"
             ],
             [
              0.3333333333333333,
              "#9c179e"
             ],
             [
              0.4444444444444444,
              "#bd3786"
             ],
             [
              0.5555555555555556,
              "#d8576b"
             ],
             [
              0.6666666666666666,
              "#ed7953"
             ],
             [
              0.7777777777777778,
              "#fb9f3a"
             ],
             [
              0.8888888888888888,
              "#fdca26"
             ],
             [
              1,
              "#f0f921"
             ]
            ],
            "type": "heatmap"
           }
          ],
          "heatmapgl": [
           {
            "colorbar": {
             "outlinewidth": 0,
             "ticks": ""
            },
            "colorscale": [
             [
              0,
              "#0d0887"
             ],
             [
              0.1111111111111111,
              "#46039f"
             ],
             [
              0.2222222222222222,
              "#7201a8"
             ],
             [
              0.3333333333333333,
              "#9c179e"
             ],
             [
              0.4444444444444444,
              "#bd3786"
             ],
             [
              0.5555555555555556,
              "#d8576b"
             ],
             [
              0.6666666666666666,
              "#ed7953"
             ],
             [
              0.7777777777777778,
              "#fb9f3a"
             ],
             [
              0.8888888888888888,
              "#fdca26"
             ],
             [
              1,
              "#f0f921"
             ]
            ],
            "type": "heatmapgl"
           }
          ],
          "histogram": [
           {
            "marker": {
             "pattern": {
              "fillmode": "overlay",
              "size": 10,
              "solidity": 0.2
             }
            },
            "type": "histogram"
           }
          ],
          "histogram2d": [
           {
            "colorbar": {
             "outlinewidth": 0,
             "ticks": ""
            },
            "colorscale": [
             [
              0,
              "#0d0887"
             ],
             [
              0.1111111111111111,
              "#46039f"
             ],
             [
              0.2222222222222222,
              "#7201a8"
             ],
             [
              0.3333333333333333,
              "#9c179e"
             ],
             [
              0.4444444444444444,
              "#bd3786"
             ],
             [
              0.5555555555555556,
              "#d8576b"
             ],
             [
              0.6666666666666666,
              "#ed7953"
             ],
             [
              0.7777777777777778,
              "#fb9f3a"
             ],
             [
              0.8888888888888888,
              "#fdca26"
             ],
             [
              1,
              "#f0f921"
             ]
            ],
            "type": "histogram2d"
           }
          ],
          "histogram2dcontour": [
           {
            "colorbar": {
             "outlinewidth": 0,
             "ticks": ""
            },
            "colorscale": [
             [
              0,
              "#0d0887"
             ],
             [
              0.1111111111111111,
              "#46039f"
             ],
             [
              0.2222222222222222,
              "#7201a8"
             ],
             [
              0.3333333333333333,
              "#9c179e"
             ],
             [
              0.4444444444444444,
              "#bd3786"
             ],
             [
              0.5555555555555556,
              "#d8576b"
             ],
             [
              0.6666666666666666,
              "#ed7953"
             ],
             [
              0.7777777777777778,
              "#fb9f3a"
             ],
             [
              0.8888888888888888,
              "#fdca26"
             ],
             [
              1,
              "#f0f921"
             ]
            ],
            "type": "histogram2dcontour"
           }
          ],
          "mesh3d": [
           {
            "colorbar": {
             "outlinewidth": 0,
             "ticks": ""
            },
            "type": "mesh3d"
           }
          ],
          "parcoords": [
           {
            "line": {
             "colorbar": {
              "outlinewidth": 0,
              "ticks": ""
             }
            },
            "type": "parcoords"
           }
          ],
          "pie": [
           {
            "automargin": true,
            "type": "pie"
           }
          ],
          "scatter": [
           {
            "marker": {
             "colorbar": {
              "outlinewidth": 0,
              "ticks": ""
             }
            },
            "type": "scatter"
           }
          ],
          "scatter3d": [
           {
            "line": {
             "colorbar": {
              "outlinewidth": 0,
              "ticks": ""
             }
            },
            "marker": {
             "colorbar": {
              "outlinewidth": 0,
              "ticks": ""
             }
            },
            "type": "scatter3d"
           }
          ],
          "scattercarpet": [
           {
            "marker": {
             "colorbar": {
              "outlinewidth": 0,
              "ticks": ""
             }
            },
            "type": "scattercarpet"
           }
          ],
          "scattergeo": [
           {
            "marker": {
             "colorbar": {
              "outlinewidth": 0,
              "ticks": ""
             }
            },
            "type": "scattergeo"
           }
          ],
          "scattergl": [
           {
            "marker": {
             "colorbar": {
              "outlinewidth": 0,
              "ticks": ""
             }
            },
            "type": "scattergl"
           }
          ],
          "scattermapbox": [
           {
            "marker": {
             "colorbar": {
              "outlinewidth": 0,
              "ticks": ""
             }
            },
            "type": "scattermapbox"
           }
          ],
          "scatterpolar": [
           {
            "marker": {
             "colorbar": {
              "outlinewidth": 0,
              "ticks": ""
             }
            },
            "type": "scatterpolar"
           }
          ],
          "scatterpolargl": [
           {
            "marker": {
             "colorbar": {
              "outlinewidth": 0,
              "ticks": ""
             }
            },
            "type": "scatterpolargl"
           }
          ],
          "scatterternary": [
           {
            "marker": {
             "colorbar": {
              "outlinewidth": 0,
              "ticks": ""
             }
            },
            "type": "scatterternary"
           }
          ],
          "surface": [
           {
            "colorbar": {
             "outlinewidth": 0,
             "ticks": ""
            },
            "colorscale": [
             [
              0,
              "#0d0887"
             ],
             [
              0.1111111111111111,
              "#46039f"
             ],
             [
              0.2222222222222222,
              "#7201a8"
             ],
             [
              0.3333333333333333,
              "#9c179e"
             ],
             [
              0.4444444444444444,
              "#bd3786"
             ],
             [
              0.5555555555555556,
              "#d8576b"
             ],
             [
              0.6666666666666666,
              "#ed7953"
             ],
             [
              0.7777777777777778,
              "#fb9f3a"
             ],
             [
              0.8888888888888888,
              "#fdca26"
             ],
             [
              1,
              "#f0f921"
             ]
            ],
            "type": "surface"
           }
          ],
          "table": [
           {
            "cells": {
             "fill": {
              "color": "#EBF0F8"
             },
             "line": {
              "color": "white"
             }
            },
            "header": {
             "fill": {
              "color": "#C8D4E3"
             },
             "line": {
              "color": "white"
             }
            },
            "type": "table"
           }
          ]
         },
         "layout": {
          "annotationdefaults": {
           "arrowcolor": "#2a3f5f",
           "arrowhead": 0,
           "arrowwidth": 1
          },
          "autotypenumbers": "strict",
          "coloraxis": {
           "colorbar": {
            "outlinewidth": 0,
            "ticks": ""
           }
          },
          "colorscale": {
           "diverging": [
            [
             0,
             "#8e0152"
            ],
            [
             0.1,
             "#c51b7d"
            ],
            [
             0.2,
             "#de77ae"
            ],
            [
             0.3,
             "#f1b6da"
            ],
            [
             0.4,
             "#fde0ef"
            ],
            [
             0.5,
             "#f7f7f7"
            ],
            [
             0.6,
             "#e6f5d0"
            ],
            [
             0.7,
             "#b8e186"
            ],
            [
             0.8,
             "#7fbc41"
            ],
            [
             0.9,
             "#4d9221"
            ],
            [
             1,
             "#276419"
            ]
           ],
           "sequential": [
            [
             0,
             "#0d0887"
            ],
            [
             0.1111111111111111,
             "#46039f"
            ],
            [
             0.2222222222222222,
             "#7201a8"
            ],
            [
             0.3333333333333333,
             "#9c179e"
            ],
            [
             0.4444444444444444,
             "#bd3786"
            ],
            [
             0.5555555555555556,
             "#d8576b"
            ],
            [
             0.6666666666666666,
             "#ed7953"
            ],
            [
             0.7777777777777778,
             "#fb9f3a"
            ],
            [
             0.8888888888888888,
             "#fdca26"
            ],
            [
             1,
             "#f0f921"
            ]
           ],
           "sequentialminus": [
            [
             0,
             "#0d0887"
            ],
            [
             0.1111111111111111,
             "#46039f"
            ],
            [
             0.2222222222222222,
             "#7201a8"
            ],
            [
             0.3333333333333333,
             "#9c179e"
            ],
            [
             0.4444444444444444,
             "#bd3786"
            ],
            [
             0.5555555555555556,
             "#d8576b"
            ],
            [
             0.6666666666666666,
             "#ed7953"
            ],
            [
             0.7777777777777778,
             "#fb9f3a"
            ],
            [
             0.8888888888888888,
             "#fdca26"
            ],
            [
             1,
             "#f0f921"
            ]
           ]
          },
          "colorway": [
           "#636efa",
           "#EF553B",
           "#00cc96",
           "#ab63fa",
           "#FFA15A",
           "#19d3f3",
           "#FF6692",
           "#B6E880",
           "#FF97FF",
           "#FECB52"
          ],
          "font": {
           "color": "#2a3f5f"
          },
          "geo": {
           "bgcolor": "white",
           "lakecolor": "white",
           "landcolor": "#E5ECF6",
           "showlakes": true,
           "showland": true,
           "subunitcolor": "white"
          },
          "hoverlabel": {
           "align": "left"
          },
          "hovermode": "closest",
          "mapbox": {
           "style": "light"
          },
          "paper_bgcolor": "white",
          "plot_bgcolor": "#E5ECF6",
          "polar": {
           "angularaxis": {
            "gridcolor": "white",
            "linecolor": "white",
            "ticks": ""
           },
           "bgcolor": "#E5ECF6",
           "radialaxis": {
            "gridcolor": "white",
            "linecolor": "white",
            "ticks": ""
           }
          },
          "scene": {
           "xaxis": {
            "backgroundcolor": "#E5ECF6",
            "gridcolor": "white",
            "gridwidth": 2,
            "linecolor": "white",
            "showbackground": true,
            "ticks": "",
            "zerolinecolor": "white"
           },
           "yaxis": {
            "backgroundcolor": "#E5ECF6",
            "gridcolor": "white",
            "gridwidth": 2,
            "linecolor": "white",
            "showbackground": true,
            "ticks": "",
            "zerolinecolor": "white"
           },
           "zaxis": {
            "backgroundcolor": "#E5ECF6",
            "gridcolor": "white",
            "gridwidth": 2,
            "linecolor": "white",
            "showbackground": true,
            "ticks": "",
            "zerolinecolor": "white"
           }
          },
          "shapedefaults": {
           "line": {
            "color": "#2a3f5f"
           }
          },
          "ternary": {
           "aaxis": {
            "gridcolor": "white",
            "linecolor": "white",
            "ticks": ""
           },
           "baxis": {
            "gridcolor": "white",
            "linecolor": "white",
            "ticks": ""
           },
           "bgcolor": "#E5ECF6",
           "caxis": {
            "gridcolor": "white",
            "linecolor": "white",
            "ticks": ""
           }
          },
          "title": {
           "x": 0.05
          },
          "xaxis": {
           "automargin": true,
           "gridcolor": "white",
           "linecolor": "white",
           "ticks": "",
           "title": {
            "standoff": 15
           },
           "zerolinecolor": "white",
           "zerolinewidth": 2
          },
          "yaxis": {
           "automargin": true,
           "gridcolor": "white",
           "linecolor": "white",
           "ticks": "",
           "title": {
            "standoff": 15
           },
           "zerolinecolor": "white",
           "zerolinewidth": 2
          }
         }
        },
        "xaxis": {
         "anchor": "y",
         "domain": [
          0,
          1
         ],
         "title": {
          "text": "x"
         }
        },
        "yaxis": {
         "anchor": "x",
         "domain": [
          0,
          1
         ],
         "title": {
          "text": "y"
         }
        }
       }
      }
     },
     "metadata": {},
     "output_type": "display_data"
    }
   ],
   "source": [
    "px.line(xy, x=\"x\", y=\"y\", color='frame')"
   ]
  },
  {
   "cell_type": "code",
   "execution_count": null,
   "metadata": {},
   "outputs": [],
   "source": [
    "px.line()"
   ]
  }
 ],
 "metadata": {
  "interpreter": {
   "hash": "2dca058eb1ebf30ab57a39187fbfe16636a4c81cb6f075563dd9fed9b0e065d2"
  },
  "kernelspec": {
   "display_name": "Python 3.8.12 64-bit ('DEEPLABCUT': conda)",
   "name": "python3"
  },
  "language_info": {
   "codemirror_mode": {
    "name": "ipython",
    "version": 3
   },
   "file_extension": ".py",
   "mimetype": "text/x-python",
   "name": "python",
   "nbconvert_exporter": "python",
   "pygments_lexer": "ipython3",
   "version": "3.8.12"
  },
  "orig_nbformat": 4
 },
 "nbformat": 4,
 "nbformat_minor": 2
}
